{
 "cells": [
  {
   "cell_type": "code",
   "execution_count": 1,
   "id": "dfb93340",
   "metadata": {},
   "outputs": [],
   "source": [
    "import matplotlib.pyplot as plt\n",
    "import seaborn as sns\n",
    "import numpy as np\n",
    "import pandas as pd\n",
    "from matplotlib import pyplot as plt\n",
    "import math\n",
    "import datetime\n",
    "import scipy\n",
    "\n",
    "\n",
    "from sklearn.preprocessing import StandardScaler\n",
    "from sklearn.model_selection import train_test_split"
   ]
  },
  {
   "cell_type": "code",
   "execution_count": 2,
   "id": "53583d9e",
   "metadata": {},
   "outputs": [],
   "source": [
    "import warnings\n",
    "warnings.filterwarnings('ignore')"
   ]
  },
  {
   "cell_type": "code",
   "execution_count": 3,
   "id": "6c2ac7df",
   "metadata": {},
   "outputs": [],
   "source": [
    "# read the data\n",
    "input_dir = \"D:/2_MS_in_DS/2nd_Semester/Machine_Learning/Project/Data/NYC_Taxi_Data/\"\n",
    "weather_input_dir = \"D:/2_MS_in_DS/2nd_Semester/Machine_Learning/Project/Data/Weather_Data/\"\n",
    "\n",
    "nyc_taxi_Jan_2022_cleaned = pd.read_csv(input_dir+\"yellow_tripdata_2022-01_cleaned.csv\")\n",
    "\n",
    "weather_data_Jan_2022 =  pd.read_csv(weather_input_dir+\"weather_data_Jan_2022_cleaned.csv\")\n",
    "nyc_taxi_lookup = pd.read_csv(\"D:/2_MS_in_DS/2nd_Semester/Machine_Learning/Project/Data/Lookups/taxi+_zone_lookup.csv\")"
   ]
  },
  {
   "cell_type": "code",
   "execution_count": 4,
   "id": "deb50556",
   "metadata": {},
   "outputs": [],
   "source": [
    "nyc_taxi_Jan_2022_cleaned.drop(columns=['Unnamed: 0'], inplace =True)\n",
    "nyc_taxi_Jan_2022_cleaned['tpep_pickup_datetime']= pd.to_datetime(nyc_taxi_Jan_2022_cleaned['tpep_pickup_datetime'])\n",
    "nyc_taxi_Jan_2022_cleaned['tpep_dropoff_datetime']= pd.to_datetime(nyc_taxi_Jan_2022_cleaned['tpep_dropoff_datetime'])"
   ]
  },
  {
   "cell_type": "code",
   "execution_count": 5,
   "id": "76018216",
   "metadata": {},
   "outputs": [],
   "source": [
    "svm_dataset = nyc_taxi_Jan_2022_cleaned[[\"PULocationID\",\"DOLocationID\",\"trip_distance\",\"passenger_count\",\"payment_type\",\"trip_times\"]]"
   ]
  },
  {
   "cell_type": "code",
   "execution_count": 6,
   "id": "34e5205f",
   "metadata": {},
   "outputs": [
    {
     "data": {
      "text/plain": [
       "PULocationID         int64\n",
       "DOLocationID         int64\n",
       "trip_distance      float64\n",
       "passenger_count    float64\n",
       "payment_type         int64\n",
       "trip_times         float64\n",
       "dtype: object"
      ]
     },
     "execution_count": 6,
     "metadata": {},
     "output_type": "execute_result"
    }
   ],
   "source": [
    "svm_dataset.dtypes"
   ]
  },
  {
   "cell_type": "code",
   "execution_count": 7,
   "id": "e70549c2",
   "metadata": {},
   "outputs": [
    {
     "data": {
      "text/html": [
       "<div>\n",
       "<style scoped>\n",
       "    .dataframe tbody tr th:only-of-type {\n",
       "        vertical-align: middle;\n",
       "    }\n",
       "\n",
       "    .dataframe tbody tr th {\n",
       "        vertical-align: top;\n",
       "    }\n",
       "\n",
       "    .dataframe thead th {\n",
       "        text-align: right;\n",
       "    }\n",
       "</style>\n",
       "<table border=\"1\" class=\"dataframe\">\n",
       "  <thead>\n",
       "    <tr style=\"text-align: right;\">\n",
       "      <th></th>\n",
       "      <th>PULocationID</th>\n",
       "      <th>DOLocationID</th>\n",
       "      <th>trip_distance</th>\n",
       "      <th>passenger_count</th>\n",
       "      <th>payment_type</th>\n",
       "      <th>trip_times</th>\n",
       "    </tr>\n",
       "  </thead>\n",
       "  <tbody>\n",
       "    <tr>\n",
       "      <th>0</th>\n",
       "      <td>142</td>\n",
       "      <td>236</td>\n",
       "      <td>3.80</td>\n",
       "      <td>2.0</td>\n",
       "      <td>1</td>\n",
       "      <td>17.816667</td>\n",
       "    </tr>\n",
       "    <tr>\n",
       "      <th>1</th>\n",
       "      <td>236</td>\n",
       "      <td>42</td>\n",
       "      <td>2.10</td>\n",
       "      <td>1.0</td>\n",
       "      <td>1</td>\n",
       "      <td>8.400000</td>\n",
       "    </tr>\n",
       "    <tr>\n",
       "      <th>2</th>\n",
       "      <td>166</td>\n",
       "      <td>166</td>\n",
       "      <td>0.97</td>\n",
       "      <td>1.0</td>\n",
       "      <td>1</td>\n",
       "      <td>8.966667</td>\n",
       "    </tr>\n",
       "    <tr>\n",
       "      <th>3</th>\n",
       "      <td>114</td>\n",
       "      <td>68</td>\n",
       "      <td>1.09</td>\n",
       "      <td>1.0</td>\n",
       "      <td>2</td>\n",
       "      <td>10.033333</td>\n",
       "    </tr>\n",
       "    <tr>\n",
       "      <th>4</th>\n",
       "      <td>68</td>\n",
       "      <td>163</td>\n",
       "      <td>4.30</td>\n",
       "      <td>1.0</td>\n",
       "      <td>1</td>\n",
       "      <td>37.533333</td>\n",
       "    </tr>\n",
       "    <tr>\n",
       "      <th>...</th>\n",
       "      <td>...</td>\n",
       "      <td>...</td>\n",
       "      <td>...</td>\n",
       "      <td>...</td>\n",
       "      <td>...</td>\n",
       "      <td>...</td>\n",
       "    </tr>\n",
       "    <tr>\n",
       "      <th>2289531</th>\n",
       "      <td>163</td>\n",
       "      <td>143</td>\n",
       "      <td>1.50</td>\n",
       "      <td>1.0</td>\n",
       "      <td>2</td>\n",
       "      <td>8.316667</td>\n",
       "    </tr>\n",
       "    <tr>\n",
       "      <th>2289532</th>\n",
       "      <td>249</td>\n",
       "      <td>68</td>\n",
       "      <td>1.02</td>\n",
       "      <td>1.0</td>\n",
       "      <td>1</td>\n",
       "      <td>4.350000</td>\n",
       "    </tr>\n",
       "    <tr>\n",
       "      <th>2289533</th>\n",
       "      <td>68</td>\n",
       "      <td>90</td>\n",
       "      <td>1.53</td>\n",
       "      <td>1.0</td>\n",
       "      <td>1</td>\n",
       "      <td>8.216667</td>\n",
       "    </tr>\n",
       "    <tr>\n",
       "      <th>2289534</th>\n",
       "      <td>90</td>\n",
       "      <td>79</td>\n",
       "      <td>1.59</td>\n",
       "      <td>1.0</td>\n",
       "      <td>1</td>\n",
       "      <td>7.750000</td>\n",
       "    </tr>\n",
       "    <tr>\n",
       "      <th>2289535</th>\n",
       "      <td>140</td>\n",
       "      <td>24</td>\n",
       "      <td>4.04</td>\n",
       "      <td>1.0</td>\n",
       "      <td>1</td>\n",
       "      <td>12.233333</td>\n",
       "    </tr>\n",
       "  </tbody>\n",
       "</table>\n",
       "<p>2289536 rows × 6 columns</p>\n",
       "</div>"
      ],
      "text/plain": [
       "         PULocationID  DOLocationID  trip_distance  passenger_count  \\\n",
       "0                 142           236           3.80              2.0   \n",
       "1                 236            42           2.10              1.0   \n",
       "2                 166           166           0.97              1.0   \n",
       "3                 114            68           1.09              1.0   \n",
       "4                  68           163           4.30              1.0   \n",
       "...               ...           ...            ...              ...   \n",
       "2289531           163           143           1.50              1.0   \n",
       "2289532           249            68           1.02              1.0   \n",
       "2289533            68            90           1.53              1.0   \n",
       "2289534            90            79           1.59              1.0   \n",
       "2289535           140            24           4.04              1.0   \n",
       "\n",
       "         payment_type  trip_times  \n",
       "0                   1   17.816667  \n",
       "1                   1    8.400000  \n",
       "2                   1    8.966667  \n",
       "3                   2   10.033333  \n",
       "4                   1   37.533333  \n",
       "...               ...         ...  \n",
       "2289531             2    8.316667  \n",
       "2289532             1    4.350000  \n",
       "2289533             1    8.216667  \n",
       "2289534             1    7.750000  \n",
       "2289535             1   12.233333  \n",
       "\n",
       "[2289536 rows x 6 columns]"
      ]
     },
     "execution_count": 7,
     "metadata": {},
     "output_type": "execute_result"
    }
   ],
   "source": [
    "svm_dataset"
   ]
  },
  {
   "cell_type": "code",
   "execution_count": 8,
   "id": "c13e5879",
   "metadata": {},
   "outputs": [],
   "source": [
    "svm_dataset['PULocationID'] = svm_dataset['PULocationID'].astype(object)\n",
    "svm_dataset['DOLocationID'] = svm_dataset['DOLocationID'].astype(object)"
   ]
  },
  {
   "cell_type": "code",
   "execution_count": 9,
   "id": "ba96355d",
   "metadata": {},
   "outputs": [
    {
     "data": {
      "text/plain": [
       "PULocationID        object\n",
       "DOLocationID        object\n",
       "trip_distance      float64\n",
       "passenger_count    float64\n",
       "payment_type         int64\n",
       "trip_times         float64\n",
       "dtype: object"
      ]
     },
     "execution_count": 9,
     "metadata": {},
     "output_type": "execute_result"
    }
   ],
   "source": [
    "svm_dataset.dtypes"
   ]
  },
  {
   "cell_type": "markdown",
   "id": "9754811d",
   "metadata": {},
   "source": [
    "#### Converting label from continous to bins:\n",
    "Analysis:"
   ]
  },
  {
   "cell_type": "code",
   "execution_count": 10,
   "id": "89c2e4b4",
   "metadata": {},
   "outputs": [
    {
     "data": {
      "image/png": "[encoded data removed]",
      "text/plain": [
       "<Figure size 432x288 with 1 Axes>"
      ]
     },
     "metadata": {
      "needs_background": "light"
     },
     "output_type": "display_data"
    }
   ],
   "source": [
    "boxplot = svm_dataset.boxplot(column=['trip_times']) "
   ]
  },
  {
   "cell_type": "code",
   "execution_count": 11,
   "id": "06491ad1",
   "metadata": {},
   "outputs": [
    {
     "data": {
      "text/plain": [
       "0.25     6.400000\n",
       "0.50    10.183333\n",
       "0.75    16.066667\n",
       "0.90    24.366667\n",
       "0.99    47.966667\n",
       "Name: trip_times, dtype: float64"
      ]
     },
     "execution_count": 11,
     "metadata": {},
     "output_type": "execute_result"
    }
   ],
   "source": [
    "svm_dataset['trip_times'].quantile([0.25, 0.5, 0.75, 0.9, 0.99])"
   ]
  },
  {
   "cell_type": "code",
   "execution_count": 12,
   "id": "57bfafc1",
   "metadata": {},
   "outputs": [],
   "source": [
    "svm_dataset_1 = svm_dataset"
   ]
  },
  {
   "cell_type": "code",
   "execution_count": 13,
   "id": "e0274446",
   "metadata": {},
   "outputs": [],
   "source": [
    "svm_dataset = svm_dataset_1"
   ]
  },
  {
   "cell_type": "code",
   "execution_count": 14,
   "id": "48874fbf",
   "metadata": {},
   "outputs": [],
   "source": [
    "a = svm_dataset_1"
   ]
  },
  {
   "cell_type": "code",
   "execution_count": 15,
   "id": "19e4b9db",
   "metadata": {},
   "outputs": [
    {
     "data": {
      "text/html": [
       "<div>\n",
       "<style scoped>\n",
       "    .dataframe tbody tr th:only-of-type {\n",
       "        vertical-align: middle;\n",
       "    }\n",
       "\n",
       "    .dataframe tbody tr th {\n",
       "        vertical-align: top;\n",
       "    }\n",
       "\n",
       "    .dataframe thead th {\n",
       "        text-align: right;\n",
       "    }\n",
       "</style>\n",
       "<table border=\"1\" class=\"dataframe\">\n",
       "  <thead>\n",
       "    <tr style=\"text-align: right;\">\n",
       "      <th></th>\n",
       "      <th>PULocationID</th>\n",
       "      <th>DOLocationID</th>\n",
       "      <th>trip_distance</th>\n",
       "      <th>passenger_count</th>\n",
       "      <th>payment_type</th>\n",
       "      <th>trip_times</th>\n",
       "    </tr>\n",
       "  </thead>\n",
       "  <tbody>\n",
       "    <tr>\n",
       "      <th>0</th>\n",
       "      <td>142</td>\n",
       "      <td>236</td>\n",
       "      <td>3.80</td>\n",
       "      <td>2.0</td>\n",
       "      <td>1</td>\n",
       "      <td>17.816667</td>\n",
       "    </tr>\n",
       "    <tr>\n",
       "      <th>1</th>\n",
       "      <td>236</td>\n",
       "      <td>42</td>\n",
       "      <td>2.10</td>\n",
       "      <td>1.0</td>\n",
       "      <td>1</td>\n",
       "      <td>8.400000</td>\n",
       "    </tr>\n",
       "    <tr>\n",
       "      <th>2</th>\n",
       "      <td>166</td>\n",
       "      <td>166</td>\n",
       "      <td>0.97</td>\n",
       "      <td>1.0</td>\n",
       "      <td>1</td>\n",
       "      <td>8.966667</td>\n",
       "    </tr>\n",
       "    <tr>\n",
       "      <th>3</th>\n",
       "      <td>114</td>\n",
       "      <td>68</td>\n",
       "      <td>1.09</td>\n",
       "      <td>1.0</td>\n",
       "      <td>2</td>\n",
       "      <td>10.033333</td>\n",
       "    </tr>\n",
       "    <tr>\n",
       "      <th>4</th>\n",
       "      <td>68</td>\n",
       "      <td>163</td>\n",
       "      <td>4.30</td>\n",
       "      <td>1.0</td>\n",
       "      <td>1</td>\n",
       "      <td>37.533333</td>\n",
       "    </tr>\n",
       "    <tr>\n",
       "      <th>...</th>\n",
       "      <td>...</td>\n",
       "      <td>...</td>\n",
       "      <td>...</td>\n",
       "      <td>...</td>\n",
       "      <td>...</td>\n",
       "      <td>...</td>\n",
       "    </tr>\n",
       "    <tr>\n",
       "      <th>2289531</th>\n",
       "      <td>163</td>\n",
       "      <td>143</td>\n",
       "      <td>1.50</td>\n",
       "      <td>1.0</td>\n",
       "      <td>2</td>\n",
       "      <td>8.316667</td>\n",
       "    </tr>\n",
       "    <tr>\n",
       "      <th>2289532</th>\n",
       "      <td>249</td>\n",
       "      <td>68</td>\n",
       "      <td>1.02</td>\n",
       "      <td>1.0</td>\n",
       "      <td>1</td>\n",
       "      <td>4.350000</td>\n",
       "    </tr>\n",
       "    <tr>\n",
       "      <th>2289533</th>\n",
       "      <td>68</td>\n",
       "      <td>90</td>\n",
       "      <td>1.53</td>\n",
       "      <td>1.0</td>\n",
       "      <td>1</td>\n",
       "      <td>8.216667</td>\n",
       "    </tr>\n",
       "    <tr>\n",
       "      <th>2289534</th>\n",
       "      <td>90</td>\n",
       "      <td>79</td>\n",
       "      <td>1.59</td>\n",
       "      <td>1.0</td>\n",
       "      <td>1</td>\n",
       "      <td>7.750000</td>\n",
       "    </tr>\n",
       "    <tr>\n",
       "      <th>2289535</th>\n",
       "      <td>140</td>\n",
       "      <td>24</td>\n",
       "      <td>4.04</td>\n",
       "      <td>1.0</td>\n",
       "      <td>1</td>\n",
       "      <td>12.233333</td>\n",
       "    </tr>\n",
       "  </tbody>\n",
       "</table>\n",
       "<p>2289536 rows × 6 columns</p>\n",
       "</div>"
      ],
      "text/plain": [
       "        PULocationID DOLocationID  trip_distance  passenger_count  \\\n",
       "0                142          236           3.80              2.0   \n",
       "1                236           42           2.10              1.0   \n",
       "2                166          166           0.97              1.0   \n",
       "3                114           68           1.09              1.0   \n",
       "4                 68          163           4.30              1.0   \n",
       "...              ...          ...            ...              ...   \n",
       "2289531          163          143           1.50              1.0   \n",
       "2289532          249           68           1.02              1.0   \n",
       "2289533           68           90           1.53              1.0   \n",
       "2289534           90           79           1.59              1.0   \n",
       "2289535          140           24           4.04              1.0   \n",
       "\n",
       "         payment_type  trip_times  \n",
       "0                   1   17.816667  \n",
       "1                   1    8.400000  \n",
       "2                   1    8.966667  \n",
       "3                   2   10.033333  \n",
       "4                   1   37.533333  \n",
       "...               ...         ...  \n",
       "2289531             2    8.316667  \n",
       "2289532             1    4.350000  \n",
       "2289533             1    8.216667  \n",
       "2289534             1    7.750000  \n",
       "2289535             1   12.233333  \n",
       "\n",
       "[2289536 rows x 6 columns]"
      ]
     },
     "execution_count": 15,
     "metadata": {},
     "output_type": "execute_result"
    }
   ],
   "source": [
    "a"
   ]
  },
  {
   "cell_type": "code",
   "execution_count": null,
   "id": "0f398fe2",
   "metadata": {},
   "outputs": [],
   "source": []
  },
  {
   "cell_type": "code",
   "execution_count": 16,
   "id": "c51ac1c6",
   "metadata": {},
   "outputs": [],
   "source": [
    "#svm_dataset[svm_dataset['trip_times']  >65][trip_times] = 10.183333"
   ]
  },
  {
   "cell_type": "code",
   "execution_count": 17,
   "id": "32c53eb2",
   "metadata": {},
   "outputs": [
    {
     "data": {
      "text/plain": [
       "717.7333333333333"
      ]
     },
     "execution_count": 17,
     "metadata": {},
     "output_type": "execute_result"
    }
   ],
   "source": [
    "svm_dataset['trip_times'].max()"
   ]
  },
  {
   "cell_type": "code",
   "execution_count": null,
   "id": "79564cc2",
   "metadata": {},
   "outputs": [],
   "source": []
  },
  {
   "cell_type": "code",
   "execution_count": 18,
   "id": "90848ea5",
   "metadata": {},
   "outputs": [
    {
     "data": {
      "text/html": [
       "<div>\n",
       "<style scoped>\n",
       "    .dataframe tbody tr th:only-of-type {\n",
       "        vertical-align: middle;\n",
       "    }\n",
       "\n",
       "    .dataframe tbody tr th {\n",
       "        vertical-align: top;\n",
       "    }\n",
       "\n",
       "    .dataframe thead th {\n",
       "        text-align: right;\n",
       "    }\n",
       "</style>\n",
       "<table border=\"1\" class=\"dataframe\">\n",
       "  <thead>\n",
       "    <tr style=\"text-align: right;\">\n",
       "      <th></th>\n",
       "      <th>PULocationID</th>\n",
       "      <th>DOLocationID</th>\n",
       "      <th>trip_distance</th>\n",
       "      <th>passenger_count</th>\n",
       "      <th>payment_type</th>\n",
       "      <th>trip_times</th>\n",
       "      <th>trip_times_Labels</th>\n",
       "    </tr>\n",
       "  </thead>\n",
       "  <tbody>\n",
       "    <tr>\n",
       "      <th>0</th>\n",
       "      <td>142</td>\n",
       "      <td>236</td>\n",
       "      <td>3.80</td>\n",
       "      <td>2.0</td>\n",
       "      <td>1</td>\n",
       "      <td>17.816667</td>\n",
       "      <td>Long_Trip</td>\n",
       "    </tr>\n",
       "    <tr>\n",
       "      <th>1</th>\n",
       "      <td>236</td>\n",
       "      <td>42</td>\n",
       "      <td>2.10</td>\n",
       "      <td>1.0</td>\n",
       "      <td>1</td>\n",
       "      <td>8.400000</td>\n",
       "      <td>Short_Trip</td>\n",
       "    </tr>\n",
       "    <tr>\n",
       "      <th>2</th>\n",
       "      <td>166</td>\n",
       "      <td>166</td>\n",
       "      <td>0.97</td>\n",
       "      <td>1.0</td>\n",
       "      <td>1</td>\n",
       "      <td>8.966667</td>\n",
       "      <td>Short_Trip</td>\n",
       "    </tr>\n",
       "    <tr>\n",
       "      <th>3</th>\n",
       "      <td>114</td>\n",
       "      <td>68</td>\n",
       "      <td>1.09</td>\n",
       "      <td>1.0</td>\n",
       "      <td>2</td>\n",
       "      <td>10.033333</td>\n",
       "      <td>Meduim_Trip</td>\n",
       "    </tr>\n",
       "    <tr>\n",
       "      <th>4</th>\n",
       "      <td>68</td>\n",
       "      <td>163</td>\n",
       "      <td>4.30</td>\n",
       "      <td>1.0</td>\n",
       "      <td>1</td>\n",
       "      <td>37.533333</td>\n",
       "      <td>Very_Long_Trip</td>\n",
       "    </tr>\n",
       "    <tr>\n",
       "      <th>...</th>\n",
       "      <td>...</td>\n",
       "      <td>...</td>\n",
       "      <td>...</td>\n",
       "      <td>...</td>\n",
       "      <td>...</td>\n",
       "      <td>...</td>\n",
       "      <td>...</td>\n",
       "    </tr>\n",
       "    <tr>\n",
       "      <th>2289531</th>\n",
       "      <td>163</td>\n",
       "      <td>143</td>\n",
       "      <td>1.50</td>\n",
       "      <td>1.0</td>\n",
       "      <td>2</td>\n",
       "      <td>8.316667</td>\n",
       "      <td>Short_Trip</td>\n",
       "    </tr>\n",
       "    <tr>\n",
       "      <th>2289532</th>\n",
       "      <td>249</td>\n",
       "      <td>68</td>\n",
       "      <td>1.02</td>\n",
       "      <td>1.0</td>\n",
       "      <td>1</td>\n",
       "      <td>4.350000</td>\n",
       "      <td>Very_Short_Trip</td>\n",
       "    </tr>\n",
       "    <tr>\n",
       "      <th>2289533</th>\n",
       "      <td>68</td>\n",
       "      <td>90</td>\n",
       "      <td>1.53</td>\n",
       "      <td>1.0</td>\n",
       "      <td>1</td>\n",
       "      <td>8.216667</td>\n",
       "      <td>Short_Trip</td>\n",
       "    </tr>\n",
       "    <tr>\n",
       "      <th>2289534</th>\n",
       "      <td>90</td>\n",
       "      <td>79</td>\n",
       "      <td>1.59</td>\n",
       "      <td>1.0</td>\n",
       "      <td>1</td>\n",
       "      <td>7.750000</td>\n",
       "      <td>Short_Trip</td>\n",
       "    </tr>\n",
       "    <tr>\n",
       "      <th>2289535</th>\n",
       "      <td>140</td>\n",
       "      <td>24</td>\n",
       "      <td>4.04</td>\n",
       "      <td>1.0</td>\n",
       "      <td>1</td>\n",
       "      <td>12.233333</td>\n",
       "      <td>Meduim_Trip</td>\n",
       "    </tr>\n",
       "  </tbody>\n",
       "</table>\n",
       "<p>2289536 rows × 7 columns</p>\n",
       "</div>"
      ],
      "text/plain": [
       "        PULocationID DOLocationID  trip_distance  passenger_count  \\\n",
       "0                142          236           3.80              2.0   \n",
       "1                236           42           2.10              1.0   \n",
       "2                166          166           0.97              1.0   \n",
       "3                114           68           1.09              1.0   \n",
       "4                 68          163           4.30              1.0   \n",
       "...              ...          ...            ...              ...   \n",
       "2289531          163          143           1.50              1.0   \n",
       "2289532          249           68           1.02              1.0   \n",
       "2289533           68           90           1.53              1.0   \n",
       "2289534           90           79           1.59              1.0   \n",
       "2289535          140           24           4.04              1.0   \n",
       "\n",
       "         payment_type  trip_times trip_times_Labels  \n",
       "0                   1   17.816667         Long_Trip  \n",
       "1                   1    8.400000        Short_Trip  \n",
       "2                   1    8.966667        Short_Trip  \n",
       "3                   2   10.033333       Meduim_Trip  \n",
       "4                   1   37.533333    Very_Long_Trip  \n",
       "...               ...         ...               ...  \n",
       "2289531             2    8.316667        Short_Trip  \n",
       "2289532             1    4.350000   Very_Short_Trip  \n",
       "2289533             1    8.216667        Short_Trip  \n",
       "2289534             1    7.750000        Short_Trip  \n",
       "2289535             1   12.233333       Meduim_Trip  \n",
       "\n",
       "[2289536 rows x 7 columns]"
      ]
     },
     "execution_count": 18,
     "metadata": {},
     "output_type": "execute_result"
    }
   ],
   "source": [
    "\n",
    "\n",
    "# Define the bin edges and labels\n",
    "trip_times_bins = [0, 7, 10, 16, 25, 800]\n",
    "trip_times_labels = ['Very_Short_Trip', 'Short_Trip', 'Meduim_Trip', 'Long_Trip', 'Very_Long_Trip']\n",
    "\n",
    "\n",
    "\n",
    "# Use the cut() function to bin the data\n",
    "svm_dataset['trip_times_Labels'] = pd.cut(svm_dataset['trip_times'], bins=trip_times_bins, labels=trip_times_labels)\n",
    "\n",
    "\n",
    "# Print the resulting dataframe\n",
    "svm_dataset\n"
   ]
  },
  {
   "cell_type": "markdown",
   "id": "a7345616",
   "metadata": {},
   "source": [
    "Checking nulls"
   ]
  },
  {
   "cell_type": "code",
   "execution_count": 19,
   "id": "a4c91ba3",
   "metadata": {},
   "outputs": [
    {
     "data": {
      "text/plain": [
       "PULocationID         0\n",
       "DOLocationID         0\n",
       "trip_distance        0\n",
       "passenger_count      0\n",
       "payment_type         0\n",
       "trip_times           0\n",
       "trip_times_Labels    0\n",
       "dtype: int64"
      ]
     },
     "execution_count": 19,
     "metadata": {},
     "output_type": "execute_result"
    }
   ],
   "source": [
    "svm_dataset.isnull().sum()"
   ]
  },
  {
   "cell_type": "markdown",
   "id": "e81ce1c0",
   "metadata": {},
   "source": [
    "Remove \"trip_times\" columns"
   ]
  },
  {
   "cell_type": "code",
   "execution_count": 20,
   "id": "17fde437",
   "metadata": {},
   "outputs": [],
   "source": [
    "svm_dataset.drop(columns=['trip_times'], inplace=True)"
   ]
  },
  {
   "cell_type": "code",
   "execution_count": 21,
   "id": "24cc1928",
   "metadata": {},
   "outputs": [
    {
     "data": {
      "text/plain": [
       "Index(['PULocationID', 'DOLocationID', 'trip_distance', 'passenger_count',\n",
       "       'payment_type', 'trip_times_Labels'],\n",
       "      dtype='object')"
      ]
     },
     "execution_count": 21,
     "metadata": {},
     "output_type": "execute_result"
    }
   ],
   "source": [
    "svm_dataset.columns"
   ]
  },
  {
   "cell_type": "code",
   "execution_count": 22,
   "id": "83c1ca24",
   "metadata": {
    "scrolled": true
   },
   "outputs": [
    {
     "data": {
      "text/html": [
       "<div>\n",
       "<style scoped>\n",
       "    .dataframe tbody tr th:only-of-type {\n",
       "        vertical-align: middle;\n",
       "    }\n",
       "\n",
       "    .dataframe tbody tr th {\n",
       "        vertical-align: top;\n",
       "    }\n",
       "\n",
       "    .dataframe thead th {\n",
       "        text-align: right;\n",
       "    }\n",
       "</style>\n",
       "<table border=\"1\" class=\"dataframe\">\n",
       "  <thead>\n",
       "    <tr style=\"text-align: right;\">\n",
       "      <th></th>\n",
       "      <th>PULocationID</th>\n",
       "      <th>DOLocationID</th>\n",
       "      <th>trip_distance</th>\n",
       "      <th>passenger_count</th>\n",
       "      <th>payment_type</th>\n",
       "      <th>trip_times_Labels</th>\n",
       "    </tr>\n",
       "  </thead>\n",
       "  <tbody>\n",
       "    <tr>\n",
       "      <th>0</th>\n",
       "      <td>142</td>\n",
       "      <td>236</td>\n",
       "      <td>3.80</td>\n",
       "      <td>2.0</td>\n",
       "      <td>1</td>\n",
       "      <td>Long_Trip</td>\n",
       "    </tr>\n",
       "    <tr>\n",
       "      <th>1</th>\n",
       "      <td>236</td>\n",
       "      <td>42</td>\n",
       "      <td>2.10</td>\n",
       "      <td>1.0</td>\n",
       "      <td>1</td>\n",
       "      <td>Short_Trip</td>\n",
       "    </tr>\n",
       "    <tr>\n",
       "      <th>2</th>\n",
       "      <td>166</td>\n",
       "      <td>166</td>\n",
       "      <td>0.97</td>\n",
       "      <td>1.0</td>\n",
       "      <td>1</td>\n",
       "      <td>Short_Trip</td>\n",
       "    </tr>\n",
       "    <tr>\n",
       "      <th>3</th>\n",
       "      <td>114</td>\n",
       "      <td>68</td>\n",
       "      <td>1.09</td>\n",
       "      <td>1.0</td>\n",
       "      <td>2</td>\n",
       "      <td>Meduim_Trip</td>\n",
       "    </tr>\n",
       "    <tr>\n",
       "      <th>4</th>\n",
       "      <td>68</td>\n",
       "      <td>163</td>\n",
       "      <td>4.30</td>\n",
       "      <td>1.0</td>\n",
       "      <td>1</td>\n",
       "      <td>Very_Long_Trip</td>\n",
       "    </tr>\n",
       "    <tr>\n",
       "      <th>...</th>\n",
       "      <td>...</td>\n",
       "      <td>...</td>\n",
       "      <td>...</td>\n",
       "      <td>...</td>\n",
       "      <td>...</td>\n",
       "      <td>...</td>\n",
       "    </tr>\n",
       "    <tr>\n",
       "      <th>2289531</th>\n",
       "      <td>163</td>\n",
       "      <td>143</td>\n",
       "      <td>1.50</td>\n",
       "      <td>1.0</td>\n",
       "      <td>2</td>\n",
       "      <td>Short_Trip</td>\n",
       "    </tr>\n",
       "    <tr>\n",
       "      <th>2289532</th>\n",
       "      <td>249</td>\n",
       "      <td>68</td>\n",
       "      <td>1.02</td>\n",
       "      <td>1.0</td>\n",
       "      <td>1</td>\n",
       "      <td>Very_Short_Trip</td>\n",
       "    </tr>\n",
       "    <tr>\n",
       "      <th>2289533</th>\n",
       "      <td>68</td>\n",
       "      <td>90</td>\n",
       "      <td>1.53</td>\n",
       "      <td>1.0</td>\n",
       "      <td>1</td>\n",
       "      <td>Short_Trip</td>\n",
       "    </tr>\n",
       "    <tr>\n",
       "      <th>2289534</th>\n",
       "      <td>90</td>\n",
       "      <td>79</td>\n",
       "      <td>1.59</td>\n",
       "      <td>1.0</td>\n",
       "      <td>1</td>\n",
       "      <td>Short_Trip</td>\n",
       "    </tr>\n",
       "    <tr>\n",
       "      <th>2289535</th>\n",
       "      <td>140</td>\n",
       "      <td>24</td>\n",
       "      <td>4.04</td>\n",
       "      <td>1.0</td>\n",
       "      <td>1</td>\n",
       "      <td>Meduim_Trip</td>\n",
       "    </tr>\n",
       "  </tbody>\n",
       "</table>\n",
       "<p>2289536 rows × 6 columns</p>\n",
       "</div>"
      ],
      "text/plain": [
       "        PULocationID DOLocationID  trip_distance  passenger_count  \\\n",
       "0                142          236           3.80              2.0   \n",
       "1                236           42           2.10              1.0   \n",
       "2                166          166           0.97              1.0   \n",
       "3                114           68           1.09              1.0   \n",
       "4                 68          163           4.30              1.0   \n",
       "...              ...          ...            ...              ...   \n",
       "2289531          163          143           1.50              1.0   \n",
       "2289532          249           68           1.02              1.0   \n",
       "2289533           68           90           1.53              1.0   \n",
       "2289534           90           79           1.59              1.0   \n",
       "2289535          140           24           4.04              1.0   \n",
       "\n",
       "         payment_type trip_times_Labels  \n",
       "0                   1         Long_Trip  \n",
       "1                   1        Short_Trip  \n",
       "2                   1        Short_Trip  \n",
       "3                   2       Meduim_Trip  \n",
       "4                   1    Very_Long_Trip  \n",
       "...               ...               ...  \n",
       "2289531             2        Short_Trip  \n",
       "2289532             1   Very_Short_Trip  \n",
       "2289533             1        Short_Trip  \n",
       "2289534             1        Short_Trip  \n",
       "2289535             1       Meduim_Trip  \n",
       "\n",
       "[2289536 rows x 6 columns]"
      ]
     },
     "execution_count": 22,
     "metadata": {},
     "output_type": "execute_result"
    }
   ],
   "source": [
    "svm_dataset"
   ]
  },
  {
   "cell_type": "markdown",
   "id": "b5b54cdd",
   "metadata": {},
   "source": [
    "Creating a sample of the distribution"
   ]
  },
  {
   "cell_type": "code",
   "execution_count": 23,
   "id": "24f7dbe4",
   "metadata": {},
   "outputs": [],
   "source": [
    "svm_dataset_subset = svm_dataset.sample(n=100000, random_state=42)"
   ]
  },
  {
   "cell_type": "code",
   "execution_count": 24,
   "id": "d96870db",
   "metadata": {},
   "outputs": [
    {
     "data": {
      "text/html": [
       "<div>\n",
       "<style scoped>\n",
       "    .dataframe tbody tr th:only-of-type {\n",
       "        vertical-align: middle;\n",
       "    }\n",
       "\n",
       "    .dataframe tbody tr th {\n",
       "        vertical-align: top;\n",
       "    }\n",
       "\n",
       "    .dataframe thead th {\n",
       "        text-align: right;\n",
       "    }\n",
       "</style>\n",
       "<table border=\"1\" class=\"dataframe\">\n",
       "  <thead>\n",
       "    <tr style=\"text-align: right;\">\n",
       "      <th></th>\n",
       "      <th>PULocationID</th>\n",
       "      <th>DOLocationID</th>\n",
       "      <th>trip_distance</th>\n",
       "      <th>passenger_count</th>\n",
       "      <th>payment_type</th>\n",
       "      <th>trip_times_Labels</th>\n",
       "    </tr>\n",
       "  </thead>\n",
       "  <tbody>\n",
       "    <tr>\n",
       "      <th>1145144</th>\n",
       "      <td>238</td>\n",
       "      <td>100</td>\n",
       "      <td>2.98</td>\n",
       "      <td>1.0</td>\n",
       "      <td>2</td>\n",
       "      <td>Meduim_Trip</td>\n",
       "    </tr>\n",
       "    <tr>\n",
       "      <th>204913</th>\n",
       "      <td>43</td>\n",
       "      <td>163</td>\n",
       "      <td>1.30</td>\n",
       "      <td>1.0</td>\n",
       "      <td>2</td>\n",
       "      <td>Very_Short_Trip</td>\n",
       "    </tr>\n",
       "    <tr>\n",
       "      <th>1468161</th>\n",
       "      <td>237</td>\n",
       "      <td>140</td>\n",
       "      <td>0.63</td>\n",
       "      <td>1.0</td>\n",
       "      <td>2</td>\n",
       "      <td>Short_Trip</td>\n",
       "    </tr>\n",
       "    <tr>\n",
       "      <th>1331467</th>\n",
       "      <td>137</td>\n",
       "      <td>70</td>\n",
       "      <td>8.77</td>\n",
       "      <td>1.0</td>\n",
       "      <td>2</td>\n",
       "      <td>Long_Trip</td>\n",
       "    </tr>\n",
       "    <tr>\n",
       "      <th>1458592</th>\n",
       "      <td>262</td>\n",
       "      <td>163</td>\n",
       "      <td>3.04</td>\n",
       "      <td>1.0</td>\n",
       "      <td>1</td>\n",
       "      <td>Meduim_Trip</td>\n",
       "    </tr>\n",
       "    <tr>\n",
       "      <th>...</th>\n",
       "      <td>...</td>\n",
       "      <td>...</td>\n",
       "      <td>...</td>\n",
       "      <td>...</td>\n",
       "      <td>...</td>\n",
       "      <td>...</td>\n",
       "    </tr>\n",
       "    <tr>\n",
       "      <th>1545727</th>\n",
       "      <td>79</td>\n",
       "      <td>211</td>\n",
       "      <td>1.10</td>\n",
       "      <td>1.0</td>\n",
       "      <td>1</td>\n",
       "      <td>Very_Short_Trip</td>\n",
       "    </tr>\n",
       "    <tr>\n",
       "      <th>713041</th>\n",
       "      <td>68</td>\n",
       "      <td>48</td>\n",
       "      <td>0.40</td>\n",
       "      <td>1.0</td>\n",
       "      <td>1</td>\n",
       "      <td>Very_Short_Trip</td>\n",
       "    </tr>\n",
       "    <tr>\n",
       "      <th>590465</th>\n",
       "      <td>125</td>\n",
       "      <td>195</td>\n",
       "      <td>4.80</td>\n",
       "      <td>1.0</td>\n",
       "      <td>1</td>\n",
       "      <td>Long_Trip</td>\n",
       "    </tr>\n",
       "    <tr>\n",
       "      <th>1516615</th>\n",
       "      <td>164</td>\n",
       "      <td>163</td>\n",
       "      <td>1.61</td>\n",
       "      <td>1.0</td>\n",
       "      <td>2</td>\n",
       "      <td>Meduim_Trip</td>\n",
       "    </tr>\n",
       "    <tr>\n",
       "      <th>562068</th>\n",
       "      <td>238</td>\n",
       "      <td>239</td>\n",
       "      <td>0.90</td>\n",
       "      <td>1.0</td>\n",
       "      <td>1</td>\n",
       "      <td>Very_Short_Trip</td>\n",
       "    </tr>\n",
       "  </tbody>\n",
       "</table>\n",
       "<p>100000 rows × 6 columns</p>\n",
       "</div>"
      ],
      "text/plain": [
       "        PULocationID DOLocationID  trip_distance  passenger_count  \\\n",
       "1145144          238          100           2.98              1.0   \n",
       "204913            43          163           1.30              1.0   \n",
       "1468161          237          140           0.63              1.0   \n",
       "1331467          137           70           8.77              1.0   \n",
       "1458592          262          163           3.04              1.0   \n",
       "...              ...          ...            ...              ...   \n",
       "1545727           79          211           1.10              1.0   \n",
       "713041            68           48           0.40              1.0   \n",
       "590465           125          195           4.80              1.0   \n",
       "1516615          164          163           1.61              1.0   \n",
       "562068           238          239           0.90              1.0   \n",
       "\n",
       "         payment_type trip_times_Labels  \n",
       "1145144             2       Meduim_Trip  \n",
       "204913              2   Very_Short_Trip  \n",
       "1468161             2        Short_Trip  \n",
       "1331467             2         Long_Trip  \n",
       "1458592             1       Meduim_Trip  \n",
       "...               ...               ...  \n",
       "1545727             1   Very_Short_Trip  \n",
       "713041              1   Very_Short_Trip  \n",
       "590465              1         Long_Trip  \n",
       "1516615             2       Meduim_Trip  \n",
       "562068              1   Very_Short_Trip  \n",
       "\n",
       "[100000 rows x 6 columns]"
      ]
     },
     "execution_count": 24,
     "metadata": {},
     "output_type": "execute_result"
    }
   ],
   "source": [
    "svm_dataset_subset"
   ]
  },
  {
   "cell_type": "code",
   "execution_count": 25,
   "id": "310d9dd7",
   "metadata": {},
   "outputs": [],
   "source": [
    "label = svm_dataset_subset[['trip_times_Labels']]\n",
    "svm_data = svm_dataset_subset[['PULocationID', 'DOLocationID', 'trip_distance', 'passenger_count',\n",
    "       'payment_type']]"
   ]
  },
  {
   "cell_type": "markdown",
   "id": "a4653764",
   "metadata": {},
   "source": [
    "Save the dataset"
   ]
  },
  {
   "cell_type": "code",
   "execution_count": 26,
   "id": "0ce15be4",
   "metadata": {},
   "outputs": [],
   "source": [
    "\n",
    "# save the data\n",
    "#output_dir = \"D:/2_MS_in_DS/2nd_Semester/Machine_Learning/Project/Data/NYC_Taxi_Data/\"\n",
    "#svm_data.to_csv(output_dir+\"nyc_taxi_Jan_2022_SVM_test_data1.csv\")"
   ]
  },
  {
   "cell_type": "code",
   "execution_count": null,
   "id": "6002c6e8",
   "metadata": {},
   "outputs": [],
   "source": []
  },
  {
   "cell_type": "code",
   "execution_count": null,
   "id": "e2e4ecec",
   "metadata": {},
   "outputs": [],
   "source": []
  },
  {
   "cell_type": "code",
   "execution_count": 27,
   "id": "ca0f66a0",
   "metadata": {},
   "outputs": [],
   "source": [
    "# using the train test split function\n",
    "X_train, X_test, y_train, y_test = train_test_split(svm_data,label,\n",
    "                                   random_state=104, \n",
    "                                   test_size=0.3, \n",
    "                                   shuffle=True)\n",
    "  "
   ]
  },
  {
   "cell_type": "code",
   "execution_count": 28,
   "id": "493eb6d5",
   "metadata": {},
   "outputs": [
    {
     "data": {
      "text/html": [
       "<div>\n",
       "<style scoped>\n",
       "    .dataframe tbody tr th:only-of-type {\n",
       "        vertical-align: middle;\n",
       "    }\n",
       "\n",
       "    .dataframe tbody tr th {\n",
       "        vertical-align: top;\n",
       "    }\n",
       "\n",
       "    .dataframe thead th {\n",
       "        text-align: right;\n",
       "    }\n",
       "</style>\n",
       "<table border=\"1\" class=\"dataframe\">\n",
       "  <thead>\n",
       "    <tr style=\"text-align: right;\">\n",
       "      <th></th>\n",
       "      <th>PULocationID</th>\n",
       "      <th>DOLocationID</th>\n",
       "      <th>trip_distance</th>\n",
       "      <th>passenger_count</th>\n",
       "      <th>payment_type</th>\n",
       "    </tr>\n",
       "  </thead>\n",
       "  <tbody>\n",
       "    <tr>\n",
       "      <th>1401099</th>\n",
       "      <td>162</td>\n",
       "      <td>262</td>\n",
       "      <td>2.20</td>\n",
       "      <td>1.0</td>\n",
       "      <td>1</td>\n",
       "    </tr>\n",
       "    <tr>\n",
       "      <th>300844</th>\n",
       "      <td>263</td>\n",
       "      <td>264</td>\n",
       "      <td>1.47</td>\n",
       "      <td>1.0</td>\n",
       "      <td>1</td>\n",
       "    </tr>\n",
       "    <tr>\n",
       "      <th>2032446</th>\n",
       "      <td>249</td>\n",
       "      <td>231</td>\n",
       "      <td>1.98</td>\n",
       "      <td>1.0</td>\n",
       "      <td>1</td>\n",
       "    </tr>\n",
       "    <tr>\n",
       "      <th>579197</th>\n",
       "      <td>236</td>\n",
       "      <td>151</td>\n",
       "      <td>2.00</td>\n",
       "      <td>1.0</td>\n",
       "      <td>1</td>\n",
       "    </tr>\n",
       "    <tr>\n",
       "      <th>916466</th>\n",
       "      <td>233</td>\n",
       "      <td>107</td>\n",
       "      <td>1.60</td>\n",
       "      <td>1.0</td>\n",
       "      <td>2</td>\n",
       "    </tr>\n",
       "    <tr>\n",
       "      <th>...</th>\n",
       "      <td>...</td>\n",
       "      <td>...</td>\n",
       "      <td>...</td>\n",
       "      <td>...</td>\n",
       "      <td>...</td>\n",
       "    </tr>\n",
       "    <tr>\n",
       "      <th>1195487</th>\n",
       "      <td>48</td>\n",
       "      <td>161</td>\n",
       "      <td>1.48</td>\n",
       "      <td>1.0</td>\n",
       "      <td>1</td>\n",
       "    </tr>\n",
       "    <tr>\n",
       "      <th>749815</th>\n",
       "      <td>70</td>\n",
       "      <td>234</td>\n",
       "      <td>9.45</td>\n",
       "      <td>3.0</td>\n",
       "      <td>1</td>\n",
       "    </tr>\n",
       "    <tr>\n",
       "      <th>315506</th>\n",
       "      <td>230</td>\n",
       "      <td>186</td>\n",
       "      <td>0.80</td>\n",
       "      <td>2.0</td>\n",
       "      <td>1</td>\n",
       "    </tr>\n",
       "    <tr>\n",
       "      <th>431096</th>\n",
       "      <td>239</td>\n",
       "      <td>170</td>\n",
       "      <td>2.40</td>\n",
       "      <td>3.0</td>\n",
       "      <td>2</td>\n",
       "    </tr>\n",
       "    <tr>\n",
       "      <th>1068057</th>\n",
       "      <td>234</td>\n",
       "      <td>164</td>\n",
       "      <td>0.70</td>\n",
       "      <td>1.0</td>\n",
       "      <td>2</td>\n",
       "    </tr>\n",
       "  </tbody>\n",
       "</table>\n",
       "<p>30000 rows × 5 columns</p>\n",
       "</div>"
      ],
      "text/plain": [
       "        PULocationID DOLocationID  trip_distance  passenger_count  \\\n",
       "1401099          162          262           2.20              1.0   \n",
       "300844           263          264           1.47              1.0   \n",
       "2032446          249          231           1.98              1.0   \n",
       "579197           236          151           2.00              1.0   \n",
       "916466           233          107           1.60              1.0   \n",
       "...              ...          ...            ...              ...   \n",
       "1195487           48          161           1.48              1.0   \n",
       "749815            70          234           9.45              3.0   \n",
       "315506           230          186           0.80              2.0   \n",
       "431096           239          170           2.40              3.0   \n",
       "1068057          234          164           0.70              1.0   \n",
       "\n",
       "         payment_type  \n",
       "1401099             1  \n",
       "300844              1  \n",
       "2032446             1  \n",
       "579197              1  \n",
       "916466              2  \n",
       "...               ...  \n",
       "1195487             1  \n",
       "749815              1  \n",
       "315506              1  \n",
       "431096              2  \n",
       "1068057             2  \n",
       "\n",
       "[30000 rows x 5 columns]"
      ]
     },
     "execution_count": 28,
     "metadata": {},
     "output_type": "execute_result"
    }
   ],
   "source": [
    "X_test"
   ]
  },
  {
   "cell_type": "markdown",
   "id": "49246466",
   "metadata": {},
   "source": [
    "#### SVM 1 - Linear Kernel, with Cost as 10"
   ]
  },
  {
   "cell_type": "code",
   "execution_count": null,
   "id": "8ee8a2b8",
   "metadata": {},
   "outputs": [],
   "source": []
  },
  {
   "cell_type": "code",
   "execution_count": 29,
   "id": "c72ef463",
   "metadata": {},
   "outputs": [
    {
     "name": "stdout",
     "output_type": "stream",
     "text": [
      "SVM prediction:\n",
      " ['Very_Short_Trip' 'Very_Short_Trip' 'Very_Short_Trip' ...\n",
      " 'Very_Short_Trip' 'Meduim_Trip' 'Very_Short_Trip']\n",
      "Actual:\n",
      "        trip_times_Labels\n",
      "1401099       Meduim_Trip\n",
      "300844        Meduim_Trip\n",
      "2032446   Very_Short_Trip\n",
      "579197         Short_Trip\n",
      "916466        Meduim_Trip\n",
      "...                   ...\n",
      "1195487        Short_Trip\n",
      "749815     Very_Long_Trip\n",
      "315506    Very_Short_Trip\n",
      "431096        Meduim_Trip\n",
      "1068057   Very_Short_Trip\n",
      "\n",
      "[30000 rows x 1 columns]\n",
      "\n",
      "The confusion matrix for basic linear SVC is:\n",
      "[[   9 3018   34 1004  707]\n",
      " [   5 3743   26  224 3813]\n",
      " [   0 1298    5    0 4561]\n",
      " [   1  726    5 1972   58]\n",
      " [   0  529    0    0 8262]]\n",
      "\n",
      "\n",
      "\n"
     ]
    }
   ],
   "source": [
    "from sklearn.svm import LinearSVC\n",
    "from sklearn.metrics import confusion_matrix\n",
    "\n",
    "SVM_Model=LinearSVC(C=10)\n",
    "\n",
    "SVM_Model.fit(X_train, y_train)\n",
    "print(\"SVM prediction:\\n\", SVM_Model.predict(X_test))\n",
    "print(\"Actual:\")\n",
    "print(y_test)\n",
    "\n",
    "SVM_matrix = confusion_matrix(y_test, SVM_Model.predict(X_test))\n",
    "print(\"\\nThe confusion matrix for basic linear SVC is:\")\n",
    "print(SVM_matrix)\n",
    "print(\"\\n\\n\")"
   ]
  },
  {
   "cell_type": "code",
   "execution_count": 30,
   "id": "4d67ce31",
   "metadata": {},
   "outputs": [
    {
     "data": {
      "image/png": "[encoded data removed]",
      "text/plain": [
       "<Figure size 432x288 with 1 Axes>"
      ]
     },
     "metadata": {
      "needs_background": "light"
     },
     "output_type": "display_data"
    }
   ],
   "source": [
    "sns.heatmap(SVM_matrix, annot=True, cmap=\"Blues\", fmt=\"d\", cbar=False)\n",
    "\n",
    "#trip_times_labels\n",
    "plt.xticks(ticks=range(len(trip_times_labels)), labels=trip_times_labels, rotation=45)\n",
    "plt.yticks(ticks=range(len(trip_times_labels)), labels=trip_times_labels, rotation=0)\n",
    "\n",
    "# Set labels and title\n",
    "plt.xlabel('Predicted')\n",
    "plt.ylabel('True')\n",
    "plt.title('Confusion Matrix for SVM Classifier')\n",
    "\n",
    "# Show the plot\n",
    "plt.show()"
   ]
  },
  {
   "cell_type": "code",
   "execution_count": 31,
   "id": "c3b1b111",
   "metadata": {},
   "outputs": [
    {
     "name": "stdout",
     "output_type": "stream",
     "text": [
      "Accuracy: 46.64%\n"
     ]
    }
   ],
   "source": [
    "#SVM_Model=LinearSVC(C=10)\n",
    "#SVM_Model.fit(X_train, y_train)\n",
    "y_pred = SVM_Model.predict(X_test)\n",
    "from sklearn.metrics import accuracy_score\n",
    "accuracy = accuracy_score(y_test, y_pred)\n",
    "print(\"Accuracy: {:.2f}%\".format(accuracy * 100))"
   ]
  },
  {
   "cell_type": "markdown",
   "id": "115b35cd",
   "metadata": {},
   "source": [
    "With cost= 5"
   ]
  },
  {
   "cell_type": "code",
   "execution_count": 37,
   "id": "66968861",
   "metadata": {},
   "outputs": [
    {
     "name": "stdout",
     "output_type": "stream",
     "text": [
      "Accuracy: 37.89%\n"
     ]
    }
   ],
   "source": [
    "SVM_Model=LinearSVC(C=5)\n",
    "SVM_Model.fit(X_train, y_train)\n",
    "y_pred = SVM_Model.predict(X_test)\n",
    "from sklearn.metrics import accuracy_score\n",
    "accuracy = accuracy_score(y_test, y_pred)\n",
    "print(\"Accuracy: {:.2f}%\".format(accuracy * 100))"
   ]
  },
  {
   "cell_type": "code",
   "execution_count": null,
   "id": "76d19842",
   "metadata": {},
   "outputs": [],
   "source": []
  },
  {
   "cell_type": "code",
   "execution_count": null,
   "id": "56c23688",
   "metadata": {},
   "outputs": [],
   "source": []
  },
  {
   "cell_type": "code",
   "execution_count": null,
   "id": "5a290010",
   "metadata": {},
   "outputs": [],
   "source": []
  },
  {
   "cell_type": "code",
   "execution_count": 32,
   "id": "12db8506",
   "metadata": {
    "collapsed": true
   },
   "outputs": [
    {
     "ename": "ValueError",
     "evalue": "invalid literal for int() with base 10: 'Meduim_Trip'",
     "output_type": "error",
     "traceback": [
      "\u001b[1;31m---------------------------------------------------------------------------\u001b[0m",
      "\u001b[1;31mValueError\u001b[0m                                Traceback (most recent call last)",
      "Input \u001b[1;32mIn [32]\u001b[0m, in \u001b[0;36m<cell line: 4>\u001b[1;34m()\u001b[0m\n\u001b[0;32m      1\u001b[0m label_accuracy \u001b[38;5;241m=\u001b[39m accuracy_score(y_test, y_pred, normalize\u001b[38;5;241m=\u001b[39m\u001b[38;5;28;01mFalse\u001b[39;00m)\n\u001b[0;32m      3\u001b[0m \u001b[38;5;66;03m# Get the total number of samples per label\u001b[39;00m\n\u001b[1;32m----> 4\u001b[0m label_counts \u001b[38;5;241m=\u001b[39m \u001b[43mnp\u001b[49m\u001b[38;5;241;43m.\u001b[39;49m\u001b[43mbincount\u001b[49m\u001b[43m(\u001b[49m\u001b[43my_test\u001b[49m\u001b[43m)\u001b[49m\n\u001b[0;32m      6\u001b[0m \u001b[38;5;66;03m# Calculate accuracy for each label as a percentage\u001b[39;00m\n\u001b[0;32m      7\u001b[0m label_accuracy_percentage \u001b[38;5;241m=\u001b[39m label_accuracy \u001b[38;5;241m/\u001b[39m label_counts \u001b[38;5;241m*\u001b[39m \u001b[38;5;241m100\u001b[39m\n",
      "File \u001b[1;32m<__array_function__ internals>:5\u001b[0m, in \u001b[0;36mbincount\u001b[1;34m(*args, **kwargs)\u001b[0m\n",
      "File \u001b[1;32m~\\AppData\\Roaming\\Python\\Python39\\site-packages\\pandas\\core\\generic.py:2070\u001b[0m, in \u001b[0;36mNDFrame.__array__\u001b[1;34m(self, dtype)\u001b[0m\n\u001b[0;32m   2069\u001b[0m \u001b[38;5;28;01mdef\u001b[39;00m \u001b[38;5;21m__array__\u001b[39m(\u001b[38;5;28mself\u001b[39m, dtype: npt\u001b[38;5;241m.\u001b[39mDTypeLike \u001b[38;5;241m|\u001b[39m \u001b[38;5;28;01mNone\u001b[39;00m \u001b[38;5;241m=\u001b[39m \u001b[38;5;28;01mNone\u001b[39;00m) \u001b[38;5;241m-\u001b[39m\u001b[38;5;241m>\u001b[39m np\u001b[38;5;241m.\u001b[39mndarray:\n\u001b[1;32m-> 2070\u001b[0m     \u001b[38;5;28;01mreturn\u001b[39;00m \u001b[43mnp\u001b[49m\u001b[38;5;241;43m.\u001b[39;49m\u001b[43masarray\u001b[49m\u001b[43m(\u001b[49m\u001b[38;5;28;43mself\u001b[39;49m\u001b[38;5;241;43m.\u001b[39;49m\u001b[43m_values\u001b[49m\u001b[43m,\u001b[49m\u001b[43m \u001b[49m\u001b[43mdtype\u001b[49m\u001b[38;5;241;43m=\u001b[39;49m\u001b[43mdtype\u001b[49m\u001b[43m)\u001b[49m\n",
      "\u001b[1;31mValueError\u001b[0m: invalid literal for int() with base 10: 'Meduim_Trip'"
     ]
    }
   ],
   "source": [
    "label_accuracy = accuracy_score(y_test, y_pred, normalize=False)\n",
    "\n",
    "# Get the total number of samples per label\n",
    "label_counts = np.bincount(y_test)\n",
    "\n",
    "# Calculate accuracy for each label as a percentage\n",
    "label_accuracy_percentage = label_accuracy / label_counts * 100\n",
    "\n",
    "# Print accuracy for each label\n",
    "for i, acc in enumerate(label_accuracy_percentage):\n",
    "    print(\"Label {}: Accuracy: {:.2f}%\".format(i, acc))"
   ]
  },
  {
   "cell_type": "markdown",
   "id": "1caea48b",
   "metadata": {},
   "source": [
    "### Polynomial Kernel"
   ]
  },
  {
   "cell_type": "code",
   "execution_count": 33,
   "id": "b4440931",
   "metadata": {},
   "outputs": [],
   "source": [
    "from sklearn.svm import SVC"
   ]
  },
  {
   "cell_type": "markdown",
   "id": "33d4aa64",
   "metadata": {},
   "source": [
    "For cost=5"
   ]
  },
  {
   "cell_type": "code",
   "execution_count": 34,
   "id": "0d5f1d19",
   "metadata": {},
   "outputs": [
    {
     "data": {
      "text/html": [
       "<style>#sk-container-id-1 {color: black;background-color: white;}#sk-container-id-1 pre{padding: 0;}#sk-container-id-1 div.sk-toggleable {background-color: white;}#sk-container-id-1 label.sk-toggleable__label {cursor: pointer;display: block;width: 100%;margin-bottom: 0;padding: 0.3em;box-sizing: border-box;text-align: center;}#sk-container-id-1 label.sk-toggleable__label-arrow:before {content: \"▸\";float: left;margin-right: 0.25em;color: #696969;}#sk-container-id-1 label.sk-toggleable__label-arrow:hover:before {color: black;}#sk-container-id-1 div.sk-estimator:hover label.sk-toggleable__label-arrow:before {color: black;}#sk-container-id-1 div.sk-toggleable__content {max-height: 0;max-width: 0;overflow: hidden;text-align: left;background-color: #f0f8ff;}#sk-container-id-1 div.sk-toggleable__content pre {margin: 0.2em;color: black;border-radius: 0.25em;background-color: #f0f8ff;}#sk-container-id-1 input.sk-toggleable__control:checked~div.sk-toggleable__content {max-height: 200px;max-width: 100%;overflow: auto;}#sk-container-id-1 input.sk-toggleable__control:checked~label.sk-toggleable__label-arrow:before {content: \"▾\";}#sk-container-id-1 div.sk-estimator input.sk-toggleable__control:checked~label.sk-toggleable__label {background-color: #d4ebff;}#sk-container-id-1 div.sk-label input.sk-toggleable__control:checked~label.sk-toggleable__label {background-color: #d4ebff;}#sk-container-id-1 input.sk-hidden--visually {border: 0;clip: rect(1px 1px 1px 1px);clip: rect(1px, 1px, 1px, 1px);height: 1px;margin: -1px;overflow: hidden;padding: 0;position: absolute;width: 1px;}#sk-container-id-1 div.sk-estimator {font-family: monospace;background-color: #f0f8ff;border: 1px dotted black;border-radius: 0.25em;box-sizing: border-box;margin-bottom: 0.5em;}#sk-container-id-1 div.sk-estimator:hover {background-color: #d4ebff;}#sk-container-id-1 div.sk-parallel-item::after {content: \"\";width: 100%;border-bottom: 1px solid gray;flex-grow: 1;}#sk-container-id-1 div.sk-label:hover label.sk-toggleable__label {background-color: #d4ebff;}#sk-container-id-1 div.sk-serial::before {content: \"\";position: absolute;border-left: 1px solid gray;box-sizing: border-box;top: 0;bottom: 0;left: 50%;z-index: 0;}#sk-container-id-1 div.sk-serial {display: flex;flex-direction: column;align-items: center;background-color: white;padding-right: 0.2em;padding-left: 0.2em;position: relative;}#sk-container-id-1 div.sk-item {position: relative;z-index: 1;}#sk-container-id-1 div.sk-parallel {display: flex;align-items: stretch;justify-content: center;background-color: white;position: relative;}#sk-container-id-1 div.sk-item::before, #sk-container-id-1 div.sk-parallel-item::before {content: \"\";position: absolute;border-left: 1px solid gray;box-sizing: border-box;top: 0;bottom: 0;left: 50%;z-index: -1;}#sk-container-id-1 div.sk-parallel-item {display: flex;flex-direction: column;z-index: 1;position: relative;background-color: white;}#sk-container-id-1 div.sk-parallel-item:first-child::after {align-self: flex-end;width: 50%;}#sk-container-id-1 div.sk-parallel-item:last-child::after {align-self: flex-start;width: 50%;}#sk-container-id-1 div.sk-parallel-item:only-child::after {width: 0;}#sk-container-id-1 div.sk-dashed-wrapped {border: 1px dashed gray;margin: 0 0.4em 0.5em 0.4em;box-sizing: border-box;padding-bottom: 0.4em;background-color: white;}#sk-container-id-1 div.sk-label label {font-family: monospace;font-weight: bold;display: inline-block;line-height: 1.2em;}#sk-container-id-1 div.sk-label-container {text-align: center;}#sk-container-id-1 div.sk-container {/* jupyter's `normalize.less` sets `[hidden] { display: none; }` but bootstrap.min.css set `[hidden] { display: none !important; }` so we also need the `!important` here to be able to override the default hidden behavior on the sphinx rendered scikit-learn.org. See: https://github.com/scikit-learn/scikit-learn/issues/21755 */display: inline-block !important;position: relative;}#sk-container-id-1 div.sk-text-repr-fallback {display: none;}</style><div id=\"sk-container-id-1\" class=\"sk-top-container\"><div class=\"sk-text-repr-fallback\"><pre>SVC(C=5, kernel=&#x27;poly&#x27;)</pre><b>In a Jupyter environment, please rerun this cell to show the HTML representation or trust the notebook. <br />On GitHub, the HTML representation is unable to render, please try loading this page with nbviewer.org.</b></div><div class=\"sk-container\" hidden><div class=\"sk-item\"><div class=\"sk-estimator sk-toggleable\"><input class=\"sk-toggleable__control sk-hidden--visually\" id=\"sk-estimator-id-1\" type=\"checkbox\" checked><label for=\"sk-estimator-id-1\" class=\"sk-toggleable__label sk-toggleable__label-arrow\">SVC</label><div class=\"sk-toggleable__content\"><pre>SVC(C=5, kernel=&#x27;poly&#x27;)</pre></div></div></div></div></div>"
      ],
      "text/plain": [
       "SVC(C=5, kernel='poly')"
      ]
     },
     "execution_count": 34,
     "metadata": {},
     "output_type": "execute_result"
    }
   ],
   "source": [
    "SVM_Model2 = SVC(kernel = 'poly', degree = 3, C=5)\n",
    "SVM_Model2.fit(X_train, y_train)"
   ]
  },
  {
   "cell_type": "code",
   "execution_count": 35,
   "id": "cf7c23ce",
   "metadata": {},
   "outputs": [],
   "source": [
    "SVM2_matrix = confusion_matrix(y_test, SVM_Model2.predict(X_test))"
   ]
  },
  {
   "cell_type": "code",
   "execution_count": 36,
   "id": "6d1ac360",
   "metadata": {},
   "outputs": [
    {
     "data": {
      "image/png": "[encoded data removed]",
      "text/plain": [
       "<Figure size 432x288 with 1 Axes>"
      ]
     },
     "metadata": {
      "needs_background": "light"
     },
     "output_type": "display_data"
    }
   ],
   "source": [
    "sns.heatmap(SVM2_matrix, annot=True, cmap=\"Blues\", fmt=\"d\", cbar=False)\n",
    "\n",
    "#trip_times_labels\n",
    "plt.xticks(ticks=range(len(trip_times_labels)), labels=trip_times_labels, rotation=45)\n",
    "plt.yticks(ticks=range(len(trip_times_labels)), labels=trip_times_labels, rotation=0)\n",
    "\n",
    "# Set labels and title\n",
    "plt.xlabel('Predicted')\n",
    "plt.ylabel('True')\n",
    "plt.title('Confusion Matrix for SVM Classifier')\n",
    "\n",
    "# Show the plot\n",
    "plt.show()"
   ]
  },
  {
   "cell_type": "code",
   "execution_count": 38,
   "id": "e18805f7",
   "metadata": {},
   "outputs": [
    {
     "name": "stdout",
     "output_type": "stream",
     "text": [
      "Accuracy: 56.33%\n"
     ]
    }
   ],
   "source": [
    "SVM_Model2 = SVC(kernel = 'poly', degree = 3, C=5)\n",
    "SVM_Model2.fit(X_train, y_train)\n",
    "y_pred = SVM_Model2.predict(X_test)\n",
    "accuracy = accuracy_score(y_test, y_pred)\n",
    "print(\"Accuracy: {:.2f}%\".format(accuracy * 100))"
   ]
  },
  {
   "cell_type": "markdown",
   "id": "ec1ef66d",
   "metadata": {},
   "source": [
    "For Cost=15."
   ]
  },
  {
   "cell_type": "code",
   "execution_count": null,
   "id": "3ed11bc9",
   "metadata": {},
   "outputs": [],
   "source": [
    "SVM_Model2 = SVC(kernel = 'poly', degree = 3, C=15)\n",
    "SVM_Model2.fit(X_train, y_train)\n",
    "y_pred = SVM_Model2.predict(X_test)\n",
    "accuracy = accuracy_score(y_test, y_pred)\n",
    "print(\"Accuracy: {:.2f}%\".format(accuracy * 100))"
   ]
  },
  {
   "cell_type": "code",
   "execution_count": null,
   "id": "810cad08",
   "metadata": {},
   "outputs": [],
   "source": [
    "SVM2_matrix = confusion_matrix(y_test, SVM_Model2.predict(X_test))"
   ]
  },
  {
   "cell_type": "code",
   "execution_count": null,
   "id": "ddd2e071",
   "metadata": {},
   "outputs": [],
   "source": [
    "sns.heatmap(SVM2_matrix, annot=True, cmap=\"Blues\", fmt=\"d\", cbar=False)\n",
    "\n",
    "#trip_times_labels\n",
    "plt.xticks(ticks=range(len(trip_times_labels)), labels=trip_times_labels, rotation=45)\n",
    "plt.yticks(ticks=range(len(trip_times_labels)), labels=trip_times_labels, rotation=0)\n",
    "\n",
    "# Set labels and title\n",
    "plt.xlabel('Predicted')\n",
    "plt.ylabel('True')\n",
    "plt.title('Confusion Matrix for SVM Classifier')\n",
    "\n",
    "# Show the plot\n",
    "plt.show()"
   ]
  },
  {
   "cell_type": "code",
   "execution_count": null,
   "id": "8bccd9b7",
   "metadata": {},
   "outputs": [],
   "source": []
  }
 ],
 "metadata": {
  "kernelspec": {
   "display_name": "Python 3 (ipykernel)",
   "language": "python",
   "name": "python3"
  },
  "language_info": {
   "codemirror_mode": {
    "name": "ipython",
    "version": 3
   },
   "file_extension": ".py",
   "mimetype": "text/x-python",
   "name": "python",
   "nbconvert_exporter": "python",
   "pygments_lexer": "ipython3",
   "version": "3.9.12"
  }
 },
 "nbformat": 4,
 "nbformat_minor": 5
}
