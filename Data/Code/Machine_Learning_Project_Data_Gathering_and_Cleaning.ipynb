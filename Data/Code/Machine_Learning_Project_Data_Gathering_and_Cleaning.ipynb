{
 "cells": [
  {
   "cell_type": "markdown",
   "id": "577091a4",
   "metadata": {},
   "source": [
    "## CSCI 5622-073: Machine Learning Project\n",
    "## Author: Nikhil B M\n",
    "## University of Colorado, Boulder"
   ]
  },
  {
   "cell_type": "markdown",
   "id": "b3fe3268",
   "metadata": {},
   "source": [
    "### Data Collection\n",
    "There are two process for data gathering. \n",
    "\n",
    "\n",
    "    1. The NYC Taxi data is collect from NYC Taxi and Limousine Commission (TLC) website: \n",
    "    https://www.nyc.gov/site/tlc/about/tlc-trip-record-data.page which is run by the government of US. The data is collect from January 2022 to June 2022. The data used in the attached datasets were collected and provided to the NYC Taxi and Limousine Commission (TLC)\n",
    "    \n",
    "    2. The weather data is obtained from Visual Crossing Weather API for the same time range. "
   ]
  },
  {
   "cell_type": "markdown",
   "id": "a6cfbb52",
   "metadata": {},
   "source": [
    "Importing Required Libraries"
   ]
  },
  {
   "cell_type": "code",
   "execution_count": 1,
   "id": "9d4760c0",
   "metadata": {},
   "outputs": [],
   "source": [
    "#!pip3 install graphviz\n",
    "#!pip3 install dask\n",
    "#!pip3 install toolz\n",
    "#!pip install gpxpy\n",
    "#!pip install folium\n",
    "#!pip install keras\n",
    "#!pip3 install Jinja2==3.0.3"
   ]
  },
  {
   "cell_type": "code",
   "execution_count": 1,
   "id": "9bffb6a8",
   "metadata": {},
   "outputs": [],
   "source": [
    "import csv\n",
    "import codecs\n",
    "import json\n",
    "import folium\n",
    "import datetime\n",
    "import time\n",
    "import sys\n",
    "import graphviz\n",
    "\n",
    "from skimage import io\n",
    "import urllib.request\n",
    "\n",
    "import dask.dataframe as dd\n",
    "import pandas as pd\n",
    "import numpy as np\n",
    "\n",
    "import matplotlib.pyplot as plt\n",
    "import seaborn as sns\n",
    "import matplotlib\n",
    "%matplotlib inline\n",
    "from matplotlib import rcParams\n",
    "\n",
    "import math\n",
    "import pickle\n",
    "import os\n",
    "\n",
    "# to install sklearn: pip install -U scikit-learn\n",
    "from sklearn.ensemble import RandomForestRegressor\n",
    "from sklearn.metrics import mean_squared_error\n",
    "from sklearn.metrics import mean_absolute_error\n",
    "import scipy\n",
    "import pdb\n",
    "import warnings\n",
    "from sklearn import linear_model\n",
    "\n",
    "warnings.filterwarnings(\"ignore\")"
   ]
  },
  {
   "cell_type": "markdown",
   "id": "8d3e8a29",
   "metadata": {},
   "source": [
    "### 1. API for weather Data"
   ]
  },
  {
   "cell_type": "code",
   "execution_count": null,
   "id": "0cb001b8",
   "metadata": {
    "scrolled": true
   },
   "outputs": [],
   "source": [
    "# This is the core of our weather query URL\n",
    "\"\"\"\n",
    "print('Usage: FetchWeather Location Date API_KEY')\n",
    "print('  Location: Please provide a location for the weatch search.')\n",
    "Location = input(\"Location\")\n",
    "print('    (Make sure to use quotes if the name contains spaces.)')\n",
    "print('  Date: Please specify a date in the format YYYY-MM-DD to look up weather for a specific date.')\n",
    "Start_Date = input(\"Start Date Time\")\n",
    "End_Date = input(\"End Date Time\")\n",
    "print('    Or use the FORECAST to look up the current weather forcast.')\n",
    "print('  API_KEY: Please specify your Visual Crossing Weather API Key')\n",
    "print('    If you don\\'t already have an API Key, get one at www.visualcrossing.com/weather-api.')\n",
    "API_Key = input(\"Enter your API Key:\")\n",
    "\n",
    "print('Example: FetchWeather \\\"Herndon, VA\\\" 2006-04-12 KEY_123')\n",
    "print('Example: FetchWeather \\\"Beverly Hills, CA\\\" FORECAST KEY_123')\n",
    "print()\n",
    "\n",
    "content_type = input(\"Enter the content Type for download in terms of CSV, JSON, EXCEL:\")\n",
    "Output_Select= input(\"Enter the frequency of the weather data in terms of Daily, Hourly, Alerts, Current, Events:\")\n",
    "\n",
    "\n",
    "# Build the entire query\n",
    "BaseURL = \"https://weather.visualcrossing.com/VisualCrossingWebServices/rest/services/timeline/\"\n",
    "QueryLocation = \"New%20York%20City%2C%20USA\"\n",
    "\n",
    "URL = BaseURL + Location + \"/\" + Start_Date + \"/\" + End_Date + \"?unitGroup=us&include=\" + Output_Select + \"&key=\" + API_Key + \"&contentType=\" + content_type\n",
    "#URL = \"https://weather.visualcrossing.com/VisualCrossingWebServices/rest/services/timeline/New%20York%20City%2C%20USA/2022-01-16/2022-01-31?unitGroup=us&include=hours&key=8DNM3VXP34HZMJMBEBKG44ETZ&contentType=csv\"\n",
    "\"\"\"\n",
    "\n",
    "URL =  \"https://weather.visualcrossing.com/VisualCrossingWebServices/rest/services/timeline/New%20York%20City%2C%20USA/2022-01-01/2022-01-15?unitGroup=us&include=hours&key=8DNM3VXP34HZMJMBEBKG44ETZ&contentType=csv\"\n",
    "\n",
    "print(' - Running query URL: ', URL)\n",
    "print()\n",
    "\n",
    "# Parse the results as CSV\n",
    "CSVBytes = urllib.request.urlopen(URL)\n",
    "CSVText = csv.reader(codecs.iterdecode(CSVBytes, 'utf-8'))\n",
    "Location = 'New_York_City'\n",
    "Start_Date = '2022-01-01'\n",
    "End_Date = '20bbb22-01-15'\n",
    "Output_dir = \"D:/2_MS_in_DS/2nd_Semester/Machine_Learning/Project/Data/\"\n",
    "Output_File = Output_dir + \"weather_data_\"+Location+\"_\"+Start_Date+\"_\"+End_Date+\".csv\"\n",
    "\n",
    "with open(Output_File, mode='w',newline='') as employee_file:\n",
    "    employee_writer = csv.writer(employee_file, delimiter=',', quotechar='\"', quoting=csv.QUOTE_MINIMAL) \n",
    "    for Row in CSVText:\n",
    "        employee_writer.writerow(Row)\n"
   ]
  },
  {
   "cell_type": "markdown",
   "id": "def20377",
   "metadata": {},
   "source": [
    "### 3. Web Scraper for NYC Taxi Data"
   ]
  },
  {
   "cell_type": "code",
   "execution_count": 160,
   "id": "dc925f70",
   "metadata": {},
   "outputs": [
    {
     "name": "stdout",
     "output_type": "stream",
     "text": [
      "Enter the Year and month in format YYYY-MM: 2022-09\n",
      "Successfully downloaded the file at this location:  D:/2_MS_in_DS/2nd_Semester/Machine_Learning/Project/Data/NYC_Taxi_Data/yellow_tripdata_2022-09.parquet\n"
     ]
    }
   ],
   "source": [
    "from bs4 import BeautifulSoup as bs\n",
    "import requests\n",
    "\n",
    "DOMAIN = ''\n",
    "URL = 'https://www.nyc.gov/site/tlc/about/tlc-trip-record-data.page'\n",
    "FILETYPE = '.parquet'\n",
    "\n",
    "def get_soup(url):\n",
    "    return bs(requests.get(url).text, 'html.parser')\n",
    "\n",
    "a = input(\"Enter the Year and month in format YYYY-MM: \")\n",
    "FILETYPE = \"yellow_tripdata_\"+a + FILETYPE \n",
    "for link in get_soup(URL).find_all('a'): \n",
    "    file_link = link.get('href')\n",
    "    if FILETYPE in file_link:\n",
    "#        print(file_link)\n",
    "#        print(link)\n",
    "        with open(input_dir+FILETYPE, 'wb') as file:\n",
    "            response = requests.get(file_link)\n",
    "            file.write(response.content)\n",
    "print(\"Successfully downloaded the file at this location: \", input_dir+FILETYPE)            "
   ]
  },
  {
   "cell_type": "markdown",
   "id": "13f44757",
   "metadata": {},
   "source": [
    "Download NYC taxi data from: https://www.nyc.gov/site/tlc/about/tlc-trip-record-data.page\n",
    "and store it in local\n"
   ]
  },
  {
   "cell_type": "markdown",
   "id": "c441a651",
   "metadata": {},
   "source": [
    "#### Information on taxis:\n",
    "\n",
    "\n",
    "Yellow Taxi: Yellow Medallion Taxicabs\n",
    "These are the famous NYC yellow taxis that provide transportation exclusively through street-hails. The number of taxicabs is limited by a finite number of medallions issued by the TLC. You access this mode of transportation by standing in the street and hailing an available taxi with your hand. The pickups are not pre-arranged.\n",
    "\n",
    "For Hire Vehicles (FHVs)\n",
    "FHV transportation is accessed by a pre-arrangement with a dispatcher or limo company. These FHVs are not permitted to pick up passengers via street hails, as those rides are not considered pre-arranged.\n",
    "\n",
    "Green Taxi: Street Hail Livery (SHL)\n",
    "The SHL program will allow livery vehicle owners to license and outfit their vehicles with green borough taxi branding, meters, credit card machines, and ultimately the right to accept street hails in addition to pre-arranged rides."
   ]
  },
  {
   "cell_type": "markdown",
   "id": "9d081c74",
   "metadata": {},
   "source": [
    "## Data Information"
   ]
  },
  {
   "cell_type": "code",
   "execution_count": 2,
   "id": "1b82a943",
   "metadata": {},
   "outputs": [],
   "source": [
    "# read the data\n",
    "input_dir = \"D:/2_MS_in_DS/2nd_Semester/Machine_Learning/Project/Data/NYC_Taxi_Data/\"\n",
    "weather_input_dir = \"D:/2_MS_in_DS/2nd_Semester/Machine_Learning/Project/Data/Weather_Data/\"\n",
    "\n",
    "nyc_taxi_Jan_2022 = pd.read_parquet(input_dir+\"yellow_tripdata_2022-01.parquet\")\n",
    "#nyc_taxi_Feb_2022 = pd.read_parquet(input_dir+\"yellow_tripdata_2022-02.parquet\")\n",
    "#nyc_taxi_Mar_2022 = pd.read_parquet(input_dir+\"yellow_tripdata_2022-03.parquet\")\n",
    "#nyc_taxi_Apr_2022 = pd.read_parquet(input_dir+\"yellow_tripdata_2022-04.parquet\")\n",
    "#nyc_taxi_May_2022 = pd.read_parquet(input_dir+\"yellow_tripdata_2022-05.parquet\")\n",
    "#nyc_taxi_Jun_2022 = pd.read_parquet(input_dir+\"yellow_tripdata_2022-06.parquet\")\n",
    "\n",
    "\n",
    "m1 = dd.read_parquet(input_dir+\"yellow_tripdata_2022-01.parquet\")\n"
   ]
  },
  {
   "cell_type": "code",
   "execution_count": 4,
   "id": "52166e4e",
   "metadata": {},
   "outputs": [],
   "source": [
    "taxi_loc = pd.read_csv('D:/2_MS_in_DS/2nd_Semester/Machine_Learning/Project/Data/taxi+_zone_lookup.csv')"
   ]
  },
  {
   "cell_type": "markdown",
   "id": "f01b7a77",
   "metadata": {},
   "source": [
    "## 1. NYC Taxi Data"
   ]
  },
  {
   "cell_type": "code",
   "execution_count": 5,
   "id": "f4d22753",
   "metadata": {},
   "outputs": [
    {
     "data": {
      "text/html": [
       "<div>\n",
       "<style scoped>\n",
       "    .dataframe tbody tr th:only-of-type {\n",
       "        vertical-align: middle;\n",
       "    }\n",
       "\n",
       "    .dataframe tbody tr th {\n",
       "        vertical-align: top;\n",
       "    }\n",
       "\n",
       "    .dataframe thead th {\n",
       "        text-align: right;\n",
       "    }\n",
       "</style>\n",
       "<table border=\"1\" class=\"dataframe\">\n",
       "  <thead>\n",
       "    <tr style=\"text-align: right;\">\n",
       "      <th></th>\n",
       "      <th>VendorID</th>\n",
       "      <th>tpep_pickup_datetime</th>\n",
       "      <th>tpep_dropoff_datetime</th>\n",
       "      <th>passenger_count</th>\n",
       "      <th>trip_distance</th>\n",
       "      <th>RatecodeID</th>\n",
       "      <th>store_and_fwd_flag</th>\n",
       "      <th>PULocationID</th>\n",
       "      <th>DOLocationID</th>\n",
       "      <th>payment_type</th>\n",
       "      <th>fare_amount</th>\n",
       "      <th>extra</th>\n",
       "      <th>mta_tax</th>\n",
       "      <th>tip_amount</th>\n",
       "      <th>tolls_amount</th>\n",
       "      <th>improvement_surcharge</th>\n",
       "      <th>total_amount</th>\n",
       "      <th>congestion_surcharge</th>\n",
       "      <th>airport_fee</th>\n",
       "    </tr>\n",
       "  </thead>\n",
       "  <tbody>\n",
       "    <tr>\n",
       "      <th>0</th>\n",
       "      <td>1</td>\n",
       "      <td>2022-01-01 00:35:40</td>\n",
       "      <td>2022-01-01 00:53:29</td>\n",
       "      <td>2.0</td>\n",
       "      <td>3.80</td>\n",
       "      <td>1.0</td>\n",
       "      <td>N</td>\n",
       "      <td>142</td>\n",
       "      <td>236</td>\n",
       "      <td>1</td>\n",
       "      <td>14.5</td>\n",
       "      <td>3.0</td>\n",
       "      <td>0.5</td>\n",
       "      <td>3.65</td>\n",
       "      <td>0.0</td>\n",
       "      <td>0.3</td>\n",
       "      <td>21.95</td>\n",
       "      <td>2.5</td>\n",
       "      <td>0.0</td>\n",
       "    </tr>\n",
       "    <tr>\n",
       "      <th>1</th>\n",
       "      <td>1</td>\n",
       "      <td>2022-01-01 00:33:43</td>\n",
       "      <td>2022-01-01 00:42:07</td>\n",
       "      <td>1.0</td>\n",
       "      <td>2.10</td>\n",
       "      <td>1.0</td>\n",
       "      <td>N</td>\n",
       "      <td>236</td>\n",
       "      <td>42</td>\n",
       "      <td>1</td>\n",
       "      <td>8.0</td>\n",
       "      <td>0.5</td>\n",
       "      <td>0.5</td>\n",
       "      <td>4.00</td>\n",
       "      <td>0.0</td>\n",
       "      <td>0.3</td>\n",
       "      <td>13.30</td>\n",
       "      <td>0.0</td>\n",
       "      <td>0.0</td>\n",
       "    </tr>\n",
       "    <tr>\n",
       "      <th>2</th>\n",
       "      <td>2</td>\n",
       "      <td>2022-01-01 00:53:21</td>\n",
       "      <td>2022-01-01 01:02:19</td>\n",
       "      <td>1.0</td>\n",
       "      <td>0.97</td>\n",
       "      <td>1.0</td>\n",
       "      <td>N</td>\n",
       "      <td>166</td>\n",
       "      <td>166</td>\n",
       "      <td>1</td>\n",
       "      <td>7.5</td>\n",
       "      <td>0.5</td>\n",
       "      <td>0.5</td>\n",
       "      <td>1.76</td>\n",
       "      <td>0.0</td>\n",
       "      <td>0.3</td>\n",
       "      <td>10.56</td>\n",
       "      <td>0.0</td>\n",
       "      <td>0.0</td>\n",
       "    </tr>\n",
       "    <tr>\n",
       "      <th>3</th>\n",
       "      <td>2</td>\n",
       "      <td>2022-01-01 00:25:21</td>\n",
       "      <td>2022-01-01 00:35:23</td>\n",
       "      <td>1.0</td>\n",
       "      <td>1.09</td>\n",
       "      <td>1.0</td>\n",
       "      <td>N</td>\n",
       "      <td>114</td>\n",
       "      <td>68</td>\n",
       "      <td>2</td>\n",
       "      <td>8.0</td>\n",
       "      <td>0.5</td>\n",
       "      <td>0.5</td>\n",
       "      <td>0.00</td>\n",
       "      <td>0.0</td>\n",
       "      <td>0.3</td>\n",
       "      <td>11.80</td>\n",
       "      <td>2.5</td>\n",
       "      <td>0.0</td>\n",
       "    </tr>\n",
       "    <tr>\n",
       "      <th>4</th>\n",
       "      <td>2</td>\n",
       "      <td>2022-01-01 00:36:48</td>\n",
       "      <td>2022-01-01 01:14:20</td>\n",
       "      <td>1.0</td>\n",
       "      <td>4.30</td>\n",
       "      <td>1.0</td>\n",
       "      <td>N</td>\n",
       "      <td>68</td>\n",
       "      <td>163</td>\n",
       "      <td>1</td>\n",
       "      <td>23.5</td>\n",
       "      <td>0.5</td>\n",
       "      <td>0.5</td>\n",
       "      <td>3.00</td>\n",
       "      <td>0.0</td>\n",
       "      <td>0.3</td>\n",
       "      <td>30.30</td>\n",
       "      <td>2.5</td>\n",
       "      <td>0.0</td>\n",
       "    </tr>\n",
       "  </tbody>\n",
       "</table>\n",
       "</div>"
      ],
      "text/plain": [
       "   VendorID tpep_pickup_datetime tpep_dropoff_datetime  passenger_count  \\\n",
       "0         1  2022-01-01 00:35:40   2022-01-01 00:53:29              2.0   \n",
       "1         1  2022-01-01 00:33:43   2022-01-01 00:42:07              1.0   \n",
       "2         2  2022-01-01 00:53:21   2022-01-01 01:02:19              1.0   \n",
       "3         2  2022-01-01 00:25:21   2022-01-01 00:35:23              1.0   \n",
       "4         2  2022-01-01 00:36:48   2022-01-01 01:14:20              1.0   \n",
       "\n",
       "   trip_distance  RatecodeID store_and_fwd_flag  PULocationID  DOLocationID  \\\n",
       "0           3.80         1.0                  N           142           236   \n",
       "1           2.10         1.0                  N           236            42   \n",
       "2           0.97         1.0                  N           166           166   \n",
       "3           1.09         1.0                  N           114            68   \n",
       "4           4.30         1.0                  N            68           163   \n",
       "\n",
       "   payment_type  fare_amount  extra  mta_tax  tip_amount  tolls_amount  \\\n",
       "0             1         14.5    3.0      0.5        3.65           0.0   \n",
       "1             1          8.0    0.5      0.5        4.00           0.0   \n",
       "2             1          7.5    0.5      0.5        1.76           0.0   \n",
       "3             2          8.0    0.5      0.5        0.00           0.0   \n",
       "4             1         23.5    0.5      0.5        3.00           0.0   \n",
       "\n",
       "   improvement_surcharge  total_amount  congestion_surcharge  airport_fee  \n",
       "0                    0.3         21.95                   2.5          0.0  \n",
       "1                    0.3         13.30                   0.0          0.0  \n",
       "2                    0.3         10.56                   0.0          0.0  \n",
       "3                    0.3         11.80                   2.5          0.0  \n",
       "4                    0.3         30.30                   2.5          0.0  "
      ]
     },
     "execution_count": 5,
     "metadata": {},
     "output_type": "execute_result"
    }
   ],
   "source": [
    "nyc_taxi_Jan_2022.head()"
   ]
  },
  {
   "cell_type": "code",
   "execution_count": 6,
   "id": "dbf60974",
   "metadata": {},
   "outputs": [
    {
     "data": {
      "text/html": [
       "<div>\n",
       "<style scoped>\n",
       "    .dataframe tbody tr th:only-of-type {\n",
       "        vertical-align: middle;\n",
       "    }\n",
       "\n",
       "    .dataframe tbody tr th {\n",
       "        vertical-align: top;\n",
       "    }\n",
       "\n",
       "    .dataframe thead th {\n",
       "        text-align: right;\n",
       "    }\n",
       "</style>\n",
       "<table border=\"1\" class=\"dataframe\">\n",
       "  <thead>\n",
       "    <tr style=\"text-align: right;\">\n",
       "      <th></th>\n",
       "      <th>LocationID</th>\n",
       "      <th>Borough</th>\n",
       "      <th>Zone</th>\n",
       "      <th>service_zone</th>\n",
       "    </tr>\n",
       "  </thead>\n",
       "  <tbody>\n",
       "    <tr>\n",
       "      <th>0</th>\n",
       "      <td>1</td>\n",
       "      <td>EWR</td>\n",
       "      <td>Newark Airport</td>\n",
       "      <td>EWR</td>\n",
       "    </tr>\n",
       "    <tr>\n",
       "      <th>1</th>\n",
       "      <td>2</td>\n",
       "      <td>Queens</td>\n",
       "      <td>Jamaica Bay</td>\n",
       "      <td>Boro Zone</td>\n",
       "    </tr>\n",
       "    <tr>\n",
       "      <th>2</th>\n",
       "      <td>3</td>\n",
       "      <td>Bronx</td>\n",
       "      <td>Allerton/Pelham Gardens</td>\n",
       "      <td>Boro Zone</td>\n",
       "    </tr>\n",
       "    <tr>\n",
       "      <th>3</th>\n",
       "      <td>4</td>\n",
       "      <td>Manhattan</td>\n",
       "      <td>Alphabet City</td>\n",
       "      <td>Yellow Zone</td>\n",
       "    </tr>\n",
       "    <tr>\n",
       "      <th>4</th>\n",
       "      <td>5</td>\n",
       "      <td>Staten Island</td>\n",
       "      <td>Arden Heights</td>\n",
       "      <td>Boro Zone</td>\n",
       "    </tr>\n",
       "  </tbody>\n",
       "</table>\n",
       "</div>"
      ],
      "text/plain": [
       "   LocationID        Borough                     Zone service_zone\n",
       "0           1            EWR           Newark Airport          EWR\n",
       "1           2         Queens              Jamaica Bay    Boro Zone\n",
       "2           3          Bronx  Allerton/Pelham Gardens    Boro Zone\n",
       "3           4      Manhattan            Alphabet City  Yellow Zone\n",
       "4           5  Staten Island            Arden Heights    Boro Zone"
      ]
     },
     "execution_count": 6,
     "metadata": {},
     "output_type": "execute_result"
    }
   ],
   "source": [
    "taxi_loc.head()"
   ]
  },
  {
   "cell_type": "code",
   "execution_count": 7,
   "id": "bc739128",
   "metadata": {},
   "outputs": [
    {
     "data": {
      "text/plain": [
       "<matplotlib.image.AxesImage at 0x250450b4e80>"
      ]
     },
     "execution_count": 7,
     "metadata": {},
     "output_type": "execute_result"
    },
    {
     "data": {
      "image/png": "[encoded data removed]",
      "text/plain": [
       "<Figure size 432x288 with 1 Axes>"
      ]
     },
     "metadata": {
      "needs_background": "light"
     },
     "output_type": "display_data"
    }
   ],
   "source": [
    "img = io.imread(\"D:/2_MS_in_DS/2nd_Semester/Machine_Learning/Project/Data/taxi_zone_map_bronx.jpg\")\n",
    "io.imshow(img)"
   ]
  },
  {
   "cell_type": "code",
   "execution_count": 8,
   "id": "fb863bae",
   "metadata": {},
   "outputs": [
    {
     "name": "stdout",
     "output_type": "stream",
     "text": [
      "Index(['VendorID', 'tpep_pickup_datetime', 'tpep_dropoff_datetime',\n",
      "       'passenger_count', 'trip_distance', 'RatecodeID', 'store_and_fwd_flag',\n",
      "       'PULocationID', 'DOLocationID', 'payment_type', 'fare_amount', 'extra',\n",
      "       'mta_tax', 'tip_amount', 'tolls_amount', 'improvement_surcharge',\n",
      "       'total_amount', 'congestion_surcharge', 'airport_fee'],\n",
      "      dtype='object')\n"
     ]
    }
   ],
   "source": [
    "print(nyc_taxi_Jan_2022.columns)"
   ]
  },
  {
   "cell_type": "markdown",
   "id": "571ddc23",
   "metadata": {},
   "source": [
    "## Features in the dataset:\n",
    "<table border=\"1\">\n",
    "\t<tr>\n",
    "\t\t<th>Field Name</th>\n",
    "\t\t<th>Description</th>\n",
    "\t</tr>\n",
    "\t<tr>\n",
    "\t\t<td>VendorID</td>\n",
    "\t\t<td>\n",
    "\t\tA code indicating the TPEP provider that provided the record.\n",
    "\t\t<ol>\n",
    "\t\t\t<li>Creative Mobile Technologies</li>\n",
    "\t\t\t<li>VeriFone Inc.</li>\n",
    "\t\t</ol>\n",
    "\t\t</td>\n",
    "\t</tr>\n",
    "\t<tr>\n",
    "\t\t<td>tpep_pickup_datetime</td>\n",
    "\t\t<td>The date and time when the meter was engaged.</td>\n",
    "\t</tr>\n",
    "\t<tr>\n",
    "\t\t<td>tpep_dropoff_datetime</td>\n",
    "\t\t<td>The date and time when the meter was disengaged.</td>\n",
    "\t</tr>\n",
    "\t<tr>\n",
    "\t\t<td>Passenger_count</td>\n",
    "\t\t<td>The number of passengers in the vehicle. This is a driver-entered value.</td>\n",
    "\t</tr>\n",
    "\t<tr>\n",
    "\t\t<td>Trip_distance</td>\n",
    "\t\t<td>The elapsed trip distance in miles reported by the taximeter.</td>\n",
    "\t</tr>\n",
    "\t<tr>\n",
    "\t\t<td>Pickup_longitude</td>\n",
    "\t\t<td>Longitude where the meter was engaged.</td>\n",
    "\t</tr>\n",
    "\t<tr>\n",
    "\t\t<td>Pickup_latitude</td>\n",
    "\t\t<td>Latitude where the meter was engaged.</td>\n",
    "\t</tr>\n",
    "\t<tr>\n",
    "\t\t<td>RateCodeID</td>\n",
    "\t\t<td>The final rate code in effect at the end of the trip.\n",
    "\t\t<ol>\n",
    "\t\t\t<li> Standard rate </li>\n",
    "\t\t\t<li> JFK </li>\n",
    "\t\t\t<li> Newark </li>\n",
    "\t\t\t<li> Nassau or Westchester</li>\n",
    "\t\t\t<li> Negotiated fare </li>\n",
    "\t\t\t<li> Group ride</li>\n",
    "\t\t</ol>\n",
    "\t\t</td>\n",
    "\t</tr>\n",
    "\t<tr>\n",
    "\t\t<td>Store_and_fwd_flag</td>\n",
    "\t\t<td>This flag indicates whether the trip record was held in vehicle memory before sending to the vendor,<br\\> aka “store and forward,” because the vehicle did not have a connection to the server.\n",
    "\t\t<br\\>Y= store and forward trip\n",
    "\t\t<br\\>N= not a store and forward trip\n",
    "\t\t</td>\n",
    "\t</tr>\n",
    "\n",
    "\t<tr>\n",
    "\t\t<td>Dropoff_longitude</td>\n",
    "\t\t<td>Longitude where the meter was disengaged.</td>\n",
    "\t</tr>\n",
    "\t<tr>\n",
    "\t\t<td>Dropoff_ latitude</td>\n",
    "\t\t<td>Latitude where the meter was disengaged.</td>\n",
    "\t</tr>\n",
    "\t<tr>\n",
    "\t\t<td>Payment_type</td>\n",
    "\t\t<td>A numeric code signifying how the passenger paid for the trip.\n",
    "\t\t<ol>\n",
    "\t\t\t<li> Credit card </li>\n",
    "\t\t\t<li> Cash </li>\n",
    "\t\t\t<li> No charge </li>\n",
    "\t\t\t<li> Dispute</li>\n",
    "\t\t\t<li> Unknown </li>\n",
    "\t\t\t<li> Voided trip</li>\n",
    "\t\t</ol>\n",
    "\t\t</td>\n",
    "\t</tr>\n",
    "\t<tr>\n",
    "\t\t<td>Fare_amount</td>\n",
    "\t\t<td>The time-and-distance fare calculated by the meter.</td>\n",
    "\t</tr>\n",
    "\t<tr>\n",
    "\t\t<td>Extra</td>\n",
    "\t\t<td>Miscellaneous extras and surcharges. Currently, this only includes. the $0.50 and $1 rush hour and overnight charges.</td>\n",
    "\t</tr>\n",
    "\t<tr>\n",
    "\t\t<td>MTA_tax</td>\n",
    "\t\t<td>0.50 MTA tax that is automatically triggered based on the metered rate in use.</td>\n",
    "\t</tr>\n",
    "\t<tr>\n",
    "\t\t<td>Improvement_surcharge</td>\n",
    "\t\t<td>0.30 improvement surcharge assessed trips at the flag drop. the improvement surcharge began being levied in 2015.</td>\n",
    "\t</tr>\n",
    "\t<tr>\n",
    "\t\t<td>Tip_amount</td>\n",
    "\t\t<td>Tip amount – This field is automatically populated for credit card tips.Cash tips are not included.</td>\n",
    "\t</tr>\n",
    "\t<tr>\n",
    "\t\t<td>Tolls_amount</td>\n",
    "\t\t<td>Total amount of all tolls paid in trip.</td>\n",
    "\t</tr>\n",
    "\t<tr>\n",
    "\t\t<td>Total_amount</td>\n",
    "\t\t<td>The total amount charged to passengers. Does not include cash tips.</td>\n",
    "\t</tr>\n",
    "</table>"
   ]
  },
  {
   "cell_type": "markdown",
   "id": "0f8f431d",
   "metadata": {},
   "source": [
    "# Data Cleaning\n",
    "In this section we will be doing univariate analysis and removing outlier,illegitimate values, missing values etc which may be caused due to some error."
   ]
  },
  {
   "cell_type": "code",
   "execution_count": 9,
   "id": "9563d67a",
   "metadata": {},
   "outputs": [
    {
     "data": {
      "text/html": [
       "<div>\n",
       "<style scoped>\n",
       "    .dataframe tbody tr th:only-of-type {\n",
       "        vertical-align: middle;\n",
       "    }\n",
       "\n",
       "    .dataframe tbody tr th {\n",
       "        vertical-align: top;\n",
       "    }\n",
       "\n",
       "    .dataframe thead th {\n",
       "        text-align: right;\n",
       "    }\n",
       "</style>\n",
       "<table border=\"1\" class=\"dataframe\">\n",
       "  <thead>\n",
       "    <tr style=\"text-align: right;\">\n",
       "      <th></th>\n",
       "      <th>VendorID</th>\n",
       "      <th>tpep_pickup_datetime</th>\n",
       "      <th>tpep_dropoff_datetime</th>\n",
       "      <th>passenger_count</th>\n",
       "      <th>trip_distance</th>\n",
       "      <th>RatecodeID</th>\n",
       "      <th>store_and_fwd_flag</th>\n",
       "      <th>PULocationID</th>\n",
       "      <th>DOLocationID</th>\n",
       "      <th>payment_type</th>\n",
       "      <th>fare_amount</th>\n",
       "      <th>extra</th>\n",
       "      <th>mta_tax</th>\n",
       "      <th>tip_amount</th>\n",
       "      <th>tolls_amount</th>\n",
       "      <th>improvement_surcharge</th>\n",
       "      <th>total_amount</th>\n",
       "      <th>congestion_surcharge</th>\n",
       "      <th>airport_fee</th>\n",
       "    </tr>\n",
       "  </thead>\n",
       "  <tbody>\n",
       "    <tr>\n",
       "      <th>0</th>\n",
       "      <td>1</td>\n",
       "      <td>2022-01-01 00:35:40</td>\n",
       "      <td>2022-01-01 00:53:29</td>\n",
       "      <td>2.0</td>\n",
       "      <td>3.80</td>\n",
       "      <td>1.0</td>\n",
       "      <td>N</td>\n",
       "      <td>142</td>\n",
       "      <td>236</td>\n",
       "      <td>1</td>\n",
       "      <td>14.5</td>\n",
       "      <td>3.0</td>\n",
       "      <td>0.5</td>\n",
       "      <td>3.65</td>\n",
       "      <td>0.0</td>\n",
       "      <td>0.3</td>\n",
       "      <td>21.95</td>\n",
       "      <td>2.5</td>\n",
       "      <td>0.0</td>\n",
       "    </tr>\n",
       "    <tr>\n",
       "      <th>1</th>\n",
       "      <td>1</td>\n",
       "      <td>2022-01-01 00:33:43</td>\n",
       "      <td>2022-01-01 00:42:07</td>\n",
       "      <td>1.0</td>\n",
       "      <td>2.10</td>\n",
       "      <td>1.0</td>\n",
       "      <td>N</td>\n",
       "      <td>236</td>\n",
       "      <td>42</td>\n",
       "      <td>1</td>\n",
       "      <td>8.0</td>\n",
       "      <td>0.5</td>\n",
       "      <td>0.5</td>\n",
       "      <td>4.00</td>\n",
       "      <td>0.0</td>\n",
       "      <td>0.3</td>\n",
       "      <td>13.30</td>\n",
       "      <td>0.0</td>\n",
       "      <td>0.0</td>\n",
       "    </tr>\n",
       "    <tr>\n",
       "      <th>2</th>\n",
       "      <td>2</td>\n",
       "      <td>2022-01-01 00:53:21</td>\n",
       "      <td>2022-01-01 01:02:19</td>\n",
       "      <td>1.0</td>\n",
       "      <td>0.97</td>\n",
       "      <td>1.0</td>\n",
       "      <td>N</td>\n",
       "      <td>166</td>\n",
       "      <td>166</td>\n",
       "      <td>1</td>\n",
       "      <td>7.5</td>\n",
       "      <td>0.5</td>\n",
       "      <td>0.5</td>\n",
       "      <td>1.76</td>\n",
       "      <td>0.0</td>\n",
       "      <td>0.3</td>\n",
       "      <td>10.56</td>\n",
       "      <td>0.0</td>\n",
       "      <td>0.0</td>\n",
       "    </tr>\n",
       "    <tr>\n",
       "      <th>3</th>\n",
       "      <td>2</td>\n",
       "      <td>2022-01-01 00:25:21</td>\n",
       "      <td>2022-01-01 00:35:23</td>\n",
       "      <td>1.0</td>\n",
       "      <td>1.09</td>\n",
       "      <td>1.0</td>\n",
       "      <td>N</td>\n",
       "      <td>114</td>\n",
       "      <td>68</td>\n",
       "      <td>2</td>\n",
       "      <td>8.0</td>\n",
       "      <td>0.5</td>\n",
       "      <td>0.5</td>\n",
       "      <td>0.00</td>\n",
       "      <td>0.0</td>\n",
       "      <td>0.3</td>\n",
       "      <td>11.80</td>\n",
       "      <td>2.5</td>\n",
       "      <td>0.0</td>\n",
       "    </tr>\n",
       "    <tr>\n",
       "      <th>4</th>\n",
       "      <td>2</td>\n",
       "      <td>2022-01-01 00:36:48</td>\n",
       "      <td>2022-01-01 01:14:20</td>\n",
       "      <td>1.0</td>\n",
       "      <td>4.30</td>\n",
       "      <td>1.0</td>\n",
       "      <td>N</td>\n",
       "      <td>68</td>\n",
       "      <td>163</td>\n",
       "      <td>1</td>\n",
       "      <td>23.5</td>\n",
       "      <td>0.5</td>\n",
       "      <td>0.5</td>\n",
       "      <td>3.00</td>\n",
       "      <td>0.0</td>\n",
       "      <td>0.3</td>\n",
       "      <td>30.30</td>\n",
       "      <td>2.5</td>\n",
       "      <td>0.0</td>\n",
       "    </tr>\n",
       "  </tbody>\n",
       "</table>\n",
       "</div>"
      ],
      "text/plain": [
       "   VendorID tpep_pickup_datetime tpep_dropoff_datetime  passenger_count  \\\n",
       "0         1  2022-01-01 00:35:40   2022-01-01 00:53:29              2.0   \n",
       "1         1  2022-01-01 00:33:43   2022-01-01 00:42:07              1.0   \n",
       "2         2  2022-01-01 00:53:21   2022-01-01 01:02:19              1.0   \n",
       "3         2  2022-01-01 00:25:21   2022-01-01 00:35:23              1.0   \n",
       "4         2  2022-01-01 00:36:48   2022-01-01 01:14:20              1.0   \n",
       "\n",
       "   trip_distance  RatecodeID store_and_fwd_flag  PULocationID  DOLocationID  \\\n",
       "0           3.80         1.0                  N           142           236   \n",
       "1           2.10         1.0                  N           236            42   \n",
       "2           0.97         1.0                  N           166           166   \n",
       "3           1.09         1.0                  N           114            68   \n",
       "4           4.30         1.0                  N            68           163   \n",
       "\n",
       "   payment_type  fare_amount  extra  mta_tax  tip_amount  tolls_amount  \\\n",
       "0             1         14.5    3.0      0.5        3.65           0.0   \n",
       "1             1          8.0    0.5      0.5        4.00           0.0   \n",
       "2             1          7.5    0.5      0.5        1.76           0.0   \n",
       "3             2          8.0    0.5      0.5        0.00           0.0   \n",
       "4             1         23.5    0.5      0.5        3.00           0.0   \n",
       "\n",
       "   improvement_surcharge  total_amount  congestion_surcharge  airport_fee  \n",
       "0                    0.3         21.95                   2.5          0.0  \n",
       "1                    0.3         13.30                   0.0          0.0  \n",
       "2                    0.3         10.56                   0.0          0.0  \n",
       "3                    0.3         11.80                   2.5          0.0  \n",
       "4                    0.3         30.30                   2.5          0.0  "
      ]
     },
     "execution_count": 9,
     "metadata": {},
     "output_type": "execute_result"
    }
   ],
   "source": [
    "nyc_taxi_Jan_2022.head()"
   ]
  },
  {
   "cell_type": "markdown",
   "id": "fe627ac9",
   "metadata": {},
   "source": [
    "#### Checking the data types:"
   ]
  },
  {
   "cell_type": "code",
   "execution_count": 10,
   "id": "907f4f7e",
   "metadata": {},
   "outputs": [
    {
     "data": {
      "text/plain": [
       "VendorID                          int64\n",
       "tpep_pickup_datetime     datetime64[ns]\n",
       "tpep_dropoff_datetime    datetime64[ns]\n",
       "passenger_count                 float64\n",
       "trip_distance                   float64\n",
       "RatecodeID                      float64\n",
       "store_and_fwd_flag               object\n",
       "PULocationID                      int64\n",
       "DOLocationID                      int64\n",
       "payment_type                      int64\n",
       "fare_amount                     float64\n",
       "extra                           float64\n",
       "mta_tax                         float64\n",
       "tip_amount                      float64\n",
       "tolls_amount                    float64\n",
       "improvement_surcharge           float64\n",
       "total_amount                    float64\n",
       "congestion_surcharge            float64\n",
       "airport_fee                     float64\n",
       "dtype: object"
      ]
     },
     "execution_count": 10,
     "metadata": {},
     "output_type": "execute_result"
    }
   ],
   "source": [
    "nyc_taxi_Jan_2022.dtypes"
   ]
  },
  {
   "cell_type": "markdown",
   "id": "cfeea1e4",
   "metadata": {},
   "source": [
    "## 1.a. Check for Missing Values. \n",
    "\n",
    "\n",
    "Below, we have displayed in the form of percentages. "
   ]
  },
  {
   "cell_type": "code",
   "execution_count": 11,
   "id": "f3d470aa",
   "metadata": {},
   "outputs": [
    {
     "data": {
      "text/plain": [
       "VendorID                 0.000000\n",
       "tpep_pickup_datetime     0.000000\n",
       "tpep_dropoff_datetime    0.000000\n",
       "passenger_count          2.901989\n",
       "trip_distance            0.000000\n",
       "RatecodeID               2.901989\n",
       "store_and_fwd_flag       2.901989\n",
       "PULocationID             0.000000\n",
       "DOLocationID             0.000000\n",
       "payment_type             0.000000\n",
       "fare_amount              0.000000\n",
       "extra                    0.000000\n",
       "mta_tax                  0.000000\n",
       "tip_amount               0.000000\n",
       "tolls_amount             0.000000\n",
       "improvement_surcharge    0.000000\n",
       "total_amount             0.000000\n",
       "congestion_surcharge     2.901989\n",
       "airport_fee              2.901989\n",
       "dtype: float64"
      ]
     },
     "execution_count": 11,
     "metadata": {},
     "output_type": "execute_result"
    }
   ],
   "source": [
    "(nyc_taxi_Jan_2022.isnull().sum())/(nyc_taxi_Jan_2022.shape[0]) * 100"
   ]
  },
  {
   "cell_type": "markdown",
   "id": "d0298391",
   "metadata": {},
   "source": [
    "Roughly, around 3% of data has missing values. From the below, we can see that the same records have missing values. So we can drop them. "
   ]
  },
  {
   "cell_type": "code",
   "execution_count": 12,
   "id": "69896602",
   "metadata": {},
   "outputs": [
    {
     "data": {
      "text/html": [
       "<div>\n",
       "<style scoped>\n",
       "    .dataframe tbody tr th:only-of-type {\n",
       "        vertical-align: middle;\n",
       "    }\n",
       "\n",
       "    .dataframe tbody tr th {\n",
       "        vertical-align: top;\n",
       "    }\n",
       "\n",
       "    .dataframe thead th {\n",
       "        text-align: right;\n",
       "    }\n",
       "</style>\n",
       "<table border=\"1\" class=\"dataframe\">\n",
       "  <thead>\n",
       "    <tr style=\"text-align: right;\">\n",
       "      <th></th>\n",
       "      <th>VendorID</th>\n",
       "      <th>tpep_pickup_datetime</th>\n",
       "      <th>tpep_dropoff_datetime</th>\n",
       "      <th>passenger_count</th>\n",
       "      <th>trip_distance</th>\n",
       "      <th>RatecodeID</th>\n",
       "      <th>store_and_fwd_flag</th>\n",
       "      <th>PULocationID</th>\n",
       "      <th>DOLocationID</th>\n",
       "      <th>payment_type</th>\n",
       "      <th>fare_amount</th>\n",
       "      <th>extra</th>\n",
       "      <th>mta_tax</th>\n",
       "      <th>tip_amount</th>\n",
       "      <th>tolls_amount</th>\n",
       "      <th>improvement_surcharge</th>\n",
       "      <th>total_amount</th>\n",
       "      <th>congestion_surcharge</th>\n",
       "      <th>airport_fee</th>\n",
       "    </tr>\n",
       "  </thead>\n",
       "  <tbody>\n",
       "    <tr>\n",
       "      <th>2392428</th>\n",
       "      <td>2</td>\n",
       "      <td>2022-01-01 00:50:00</td>\n",
       "      <td>2022-01-01 00:54:00</td>\n",
       "      <td>NaN</td>\n",
       "      <td>1.00</td>\n",
       "      <td>NaN</td>\n",
       "      <td>None</td>\n",
       "      <td>68</td>\n",
       "      <td>246</td>\n",
       "      <td>0</td>\n",
       "      <td>13.20</td>\n",
       "      <td>0.0</td>\n",
       "      <td>0.5</td>\n",
       "      <td>1.75</td>\n",
       "      <td>0.0</td>\n",
       "      <td>0.3</td>\n",
       "      <td>18.25</td>\n",
       "      <td>NaN</td>\n",
       "      <td>NaN</td>\n",
       "    </tr>\n",
       "    <tr>\n",
       "      <th>2392429</th>\n",
       "      <td>2</td>\n",
       "      <td>2022-01-01 00:49:24</td>\n",
       "      <td>2022-01-01 01:27:36</td>\n",
       "      <td>NaN</td>\n",
       "      <td>13.31</td>\n",
       "      <td>NaN</td>\n",
       "      <td>None</td>\n",
       "      <td>257</td>\n",
       "      <td>223</td>\n",
       "      <td>0</td>\n",
       "      <td>44.87</td>\n",
       "      <td>0.0</td>\n",
       "      <td>0.5</td>\n",
       "      <td>10.05</td>\n",
       "      <td>0.0</td>\n",
       "      <td>0.3</td>\n",
       "      <td>55.72</td>\n",
       "      <td>NaN</td>\n",
       "      <td>NaN</td>\n",
       "    </tr>\n",
       "    <tr>\n",
       "      <th>2392430</th>\n",
       "      <td>2</td>\n",
       "      <td>2022-01-01 00:42:00</td>\n",
       "      <td>2022-01-01 00:56:00</td>\n",
       "      <td>NaN</td>\n",
       "      <td>2.87</td>\n",
       "      <td>NaN</td>\n",
       "      <td>None</td>\n",
       "      <td>143</td>\n",
       "      <td>236</td>\n",
       "      <td>0</td>\n",
       "      <td>13.23</td>\n",
       "      <td>0.0</td>\n",
       "      <td>0.5</td>\n",
       "      <td>3.51</td>\n",
       "      <td>0.0</td>\n",
       "      <td>0.3</td>\n",
       "      <td>20.04</td>\n",
       "      <td>NaN</td>\n",
       "      <td>NaN</td>\n",
       "    </tr>\n",
       "    <tr>\n",
       "      <th>2392431</th>\n",
       "      <td>2</td>\n",
       "      <td>2022-01-01 00:40:00</td>\n",
       "      <td>2022-01-01 00:55:00</td>\n",
       "      <td>NaN</td>\n",
       "      <td>3.24</td>\n",
       "      <td>NaN</td>\n",
       "      <td>None</td>\n",
       "      <td>143</td>\n",
       "      <td>262</td>\n",
       "      <td>0</td>\n",
       "      <td>14.19</td>\n",
       "      <td>0.0</td>\n",
       "      <td>0.5</td>\n",
       "      <td>3.72</td>\n",
       "      <td>0.0</td>\n",
       "      <td>0.3</td>\n",
       "      <td>21.21</td>\n",
       "      <td>NaN</td>\n",
       "      <td>NaN</td>\n",
       "    </tr>\n",
       "    <tr>\n",
       "      <th>2392432</th>\n",
       "      <td>2</td>\n",
       "      <td>2022-01-01 00:40:00</td>\n",
       "      <td>2022-01-01 00:52:00</td>\n",
       "      <td>NaN</td>\n",
       "      <td>2.19</td>\n",
       "      <td>NaN</td>\n",
       "      <td>None</td>\n",
       "      <td>239</td>\n",
       "      <td>166</td>\n",
       "      <td>0</td>\n",
       "      <td>13.20</td>\n",
       "      <td>0.0</td>\n",
       "      <td>0.5</td>\n",
       "      <td>5.25</td>\n",
       "      <td>0.0</td>\n",
       "      <td>0.3</td>\n",
       "      <td>21.75</td>\n",
       "      <td>NaN</td>\n",
       "      <td>NaN</td>\n",
       "    </tr>\n",
       "    <tr>\n",
       "      <th>2392433</th>\n",
       "      <td>1</td>\n",
       "      <td>2022-01-01 00:18:10</td>\n",
       "      <td>2022-01-01 00:30:29</td>\n",
       "      <td>NaN</td>\n",
       "      <td>1.80</td>\n",
       "      <td>NaN</td>\n",
       "      <td>None</td>\n",
       "      <td>79</td>\n",
       "      <td>164</td>\n",
       "      <td>0</td>\n",
       "      <td>9.50</td>\n",
       "      <td>0.5</td>\n",
       "      <td>0.5</td>\n",
       "      <td>2.00</td>\n",
       "      <td>0.0</td>\n",
       "      <td>0.3</td>\n",
       "      <td>15.30</td>\n",
       "      <td>NaN</td>\n",
       "      <td>NaN</td>\n",
       "    </tr>\n",
       "    <tr>\n",
       "      <th>2392434</th>\n",
       "      <td>2</td>\n",
       "      <td>2022-01-01 00:33:22</td>\n",
       "      <td>2022-01-01 01:07:32</td>\n",
       "      <td>NaN</td>\n",
       "      <td>5.82</td>\n",
       "      <td>NaN</td>\n",
       "      <td>None</td>\n",
       "      <td>90</td>\n",
       "      <td>151</td>\n",
       "      <td>0</td>\n",
       "      <td>20.83</td>\n",
       "      <td>0.0</td>\n",
       "      <td>0.5</td>\n",
       "      <td>5.20</td>\n",
       "      <td>0.0</td>\n",
       "      <td>0.3</td>\n",
       "      <td>29.33</td>\n",
       "      <td>NaN</td>\n",
       "      <td>NaN</td>\n",
       "    </tr>\n",
       "    <tr>\n",
       "      <th>2392435</th>\n",
       "      <td>2</td>\n",
       "      <td>2022-01-01 00:21:00</td>\n",
       "      <td>2022-01-01 00:33:00</td>\n",
       "      <td>NaN</td>\n",
       "      <td>2.47</td>\n",
       "      <td>NaN</td>\n",
       "      <td>None</td>\n",
       "      <td>142</td>\n",
       "      <td>140</td>\n",
       "      <td>0</td>\n",
       "      <td>13.20</td>\n",
       "      <td>0.0</td>\n",
       "      <td>0.5</td>\n",
       "      <td>3.50</td>\n",
       "      <td>0.0</td>\n",
       "      <td>0.3</td>\n",
       "      <td>20.00</td>\n",
       "      <td>NaN</td>\n",
       "      <td>NaN</td>\n",
       "    </tr>\n",
       "    <tr>\n",
       "      <th>2392436</th>\n",
       "      <td>2</td>\n",
       "      <td>2022-01-01 00:47:03</td>\n",
       "      <td>2022-01-01 01:08:11</td>\n",
       "      <td>NaN</td>\n",
       "      <td>4.91</td>\n",
       "      <td>NaN</td>\n",
       "      <td>None</td>\n",
       "      <td>231</td>\n",
       "      <td>143</td>\n",
       "      <td>0</td>\n",
       "      <td>20.88</td>\n",
       "      <td>0.0</td>\n",
       "      <td>0.5</td>\n",
       "      <td>3.91</td>\n",
       "      <td>0.0</td>\n",
       "      <td>0.3</td>\n",
       "      <td>28.09</td>\n",
       "      <td>NaN</td>\n",
       "      <td>NaN</td>\n",
       "    </tr>\n",
       "    <tr>\n",
       "      <th>2392437</th>\n",
       "      <td>2</td>\n",
       "      <td>2022-01-01 00:32:00</td>\n",
       "      <td>2022-01-01 00:39:00</td>\n",
       "      <td>NaN</td>\n",
       "      <td>1.30</td>\n",
       "      <td>NaN</td>\n",
       "      <td>None</td>\n",
       "      <td>239</td>\n",
       "      <td>142</td>\n",
       "      <td>0</td>\n",
       "      <td>13.20</td>\n",
       "      <td>0.0</td>\n",
       "      <td>0.5</td>\n",
       "      <td>1.00</td>\n",
       "      <td>0.0</td>\n",
       "      <td>0.3</td>\n",
       "      <td>17.50</td>\n",
       "      <td>NaN</td>\n",
       "      <td>NaN</td>\n",
       "    </tr>\n",
       "  </tbody>\n",
       "</table>\n",
       "</div>"
      ],
      "text/plain": [
       "         VendorID tpep_pickup_datetime tpep_dropoff_datetime  passenger_count  \\\n",
       "2392428         2  2022-01-01 00:50:00   2022-01-01 00:54:00              NaN   \n",
       "2392429         2  2022-01-01 00:49:24   2022-01-01 01:27:36              NaN   \n",
       "2392430         2  2022-01-01 00:42:00   2022-01-01 00:56:00              NaN   \n",
       "2392431         2  2022-01-01 00:40:00   2022-01-01 00:55:00              NaN   \n",
       "2392432         2  2022-01-01 00:40:00   2022-01-01 00:52:00              NaN   \n",
       "2392433         1  2022-01-01 00:18:10   2022-01-01 00:30:29              NaN   \n",
       "2392434         2  2022-01-01 00:33:22   2022-01-01 01:07:32              NaN   \n",
       "2392435         2  2022-01-01 00:21:00   2022-01-01 00:33:00              NaN   \n",
       "2392436         2  2022-01-01 00:47:03   2022-01-01 01:08:11              NaN   \n",
       "2392437         2  2022-01-01 00:32:00   2022-01-01 00:39:00              NaN   \n",
       "\n",
       "         trip_distance  RatecodeID store_and_fwd_flag  PULocationID  \\\n",
       "2392428           1.00         NaN               None            68   \n",
       "2392429          13.31         NaN               None           257   \n",
       "2392430           2.87         NaN               None           143   \n",
       "2392431           3.24         NaN               None           143   \n",
       "2392432           2.19         NaN               None           239   \n",
       "2392433           1.80         NaN               None            79   \n",
       "2392434           5.82         NaN               None            90   \n",
       "2392435           2.47         NaN               None           142   \n",
       "2392436           4.91         NaN               None           231   \n",
       "2392437           1.30         NaN               None           239   \n",
       "\n",
       "         DOLocationID  payment_type  fare_amount  extra  mta_tax  tip_amount  \\\n",
       "2392428           246             0        13.20    0.0      0.5        1.75   \n",
       "2392429           223             0        44.87    0.0      0.5       10.05   \n",
       "2392430           236             0        13.23    0.0      0.5        3.51   \n",
       "2392431           262             0        14.19    0.0      0.5        3.72   \n",
       "2392432           166             0        13.20    0.0      0.5        5.25   \n",
       "2392433           164             0         9.50    0.5      0.5        2.00   \n",
       "2392434           151             0        20.83    0.0      0.5        5.20   \n",
       "2392435           140             0        13.20    0.0      0.5        3.50   \n",
       "2392436           143             0        20.88    0.0      0.5        3.91   \n",
       "2392437           142             0        13.20    0.0      0.5        1.00   \n",
       "\n",
       "         tolls_amount  improvement_surcharge  total_amount  \\\n",
       "2392428           0.0                    0.3         18.25   \n",
       "2392429           0.0                    0.3         55.72   \n",
       "2392430           0.0                    0.3         20.04   \n",
       "2392431           0.0                    0.3         21.21   \n",
       "2392432           0.0                    0.3         21.75   \n",
       "2392433           0.0                    0.3         15.30   \n",
       "2392434           0.0                    0.3         29.33   \n",
       "2392435           0.0                    0.3         20.00   \n",
       "2392436           0.0                    0.3         28.09   \n",
       "2392437           0.0                    0.3         17.50   \n",
       "\n",
       "         congestion_surcharge  airport_fee  \n",
       "2392428                   NaN          NaN  \n",
       "2392429                   NaN          NaN  \n",
       "2392430                   NaN          NaN  \n",
       "2392431                   NaN          NaN  \n",
       "2392432                   NaN          NaN  \n",
       "2392433                   NaN          NaN  \n",
       "2392434                   NaN          NaN  \n",
       "2392435                   NaN          NaN  \n",
       "2392436                   NaN          NaN  \n",
       "2392437                   NaN          NaN  "
      ]
     },
     "execution_count": 12,
     "metadata": {},
     "output_type": "execute_result"
    }
   ],
   "source": [
    "nyc_taxi_Jan_2022[nyc_taxi_Jan_2022['passenger_count'].isna()].head(10)"
   ]
  },
  {
   "cell_type": "code",
   "execution_count": 13,
   "id": "2c9abaf4",
   "metadata": {},
   "outputs": [],
   "source": [
    "nyc_taxi_Jan_2022.dropna(inplace=True)"
   ]
  },
  {
   "cell_type": "code",
   "execution_count": 14,
   "id": "dfc5c539",
   "metadata": {},
   "outputs": [
    {
     "data": {
      "text/plain": [
       "VendorID                 0.0\n",
       "tpep_pickup_datetime     0.0\n",
       "tpep_dropoff_datetime    0.0\n",
       "passenger_count          0.0\n",
       "trip_distance            0.0\n",
       "RatecodeID               0.0\n",
       "store_and_fwd_flag       0.0\n",
       "PULocationID             0.0\n",
       "DOLocationID             0.0\n",
       "payment_type             0.0\n",
       "fare_amount              0.0\n",
       "extra                    0.0\n",
       "mta_tax                  0.0\n",
       "tip_amount               0.0\n",
       "tolls_amount             0.0\n",
       "improvement_surcharge    0.0\n",
       "total_amount             0.0\n",
       "congestion_surcharge     0.0\n",
       "airport_fee              0.0\n",
       "dtype: float64"
      ]
     },
     "execution_count": 14,
     "metadata": {},
     "output_type": "execute_result"
    }
   ],
   "source": [
    "(nyc_taxi_Jan_2022.isnull().sum())/(nyc_taxi_Jan_2022.shape[0]) * 100"
   ]
  },
  {
   "cell_type": "markdown",
   "id": "6774e3bb",
   "metadata": {},
   "source": [
    "## 1.b. Passenger_count"
   ]
  },
  {
   "cell_type": "code",
   "execution_count": 15,
   "id": "c228f9a0",
   "metadata": {},
   "outputs": [
    {
     "data": {
      "image/png": "[encoded data removed]",
      "text/plain": [
       "<Figure size 432x288 with 1 Axes>"
      ]
     },
     "metadata": {
      "needs_background": "light"
     },
     "output_type": "display_data"
    }
   ],
   "source": [
    "ax = sns.countplot(x=\"passenger_count\",data=nyc_taxi_Jan_2022)"
   ]
  },
  {
   "cell_type": "markdown",
   "id": "4f153cb5",
   "metadata": {},
   "source": [
    "From the above, we can see that, we can remove the rows which contains passenger count as 0, since it don't  help in forecasting demand."
   ]
  },
  {
   "cell_type": "code",
   "execution_count": 16,
   "id": "561d15d9",
   "metadata": {
    "scrolled": true
   },
   "outputs": [
    {
     "data": {
      "text/plain": [
       "VendorID                 52061\n",
       "tpep_pickup_datetime     52061\n",
       "tpep_dropoff_datetime    52061\n",
       "passenger_count          52061\n",
       "trip_distance            52061\n",
       "RatecodeID               52061\n",
       "store_and_fwd_flag       52061\n",
       "PULocationID             52061\n",
       "DOLocationID             52061\n",
       "payment_type             52061\n",
       "fare_amount              52061\n",
       "extra                    52061\n",
       "mta_tax                  52061\n",
       "tip_amount               52061\n",
       "tolls_amount             52061\n",
       "improvement_surcharge    52061\n",
       "total_amount             52061\n",
       "congestion_surcharge     52061\n",
       "airport_fee              52061\n",
       "dtype: int64"
      ]
     },
     "execution_count": 16,
     "metadata": {},
     "output_type": "execute_result"
    }
   ],
   "source": [
    "nyc_taxi_Jan_2022[nyc_taxi_Jan_2022['passenger_count'] == 0].count()"
   ]
  },
  {
   "cell_type": "markdown",
   "id": "d3e079da",
   "metadata": {},
   "source": [
    "This is 2.1760% of the entire dataset. "
   ]
  },
  {
   "cell_type": "code",
   "execution_count": 17,
   "id": "7ef5ac5d",
   "metadata": {},
   "outputs": [
    {
     "data": {
      "text/plain": [
       "(2392428, 19)"
      ]
     },
     "execution_count": 17,
     "metadata": {},
     "output_type": "execute_result"
    }
   ],
   "source": [
    "nyc_taxi_Jan_2022.shape"
   ]
  },
  {
   "cell_type": "code",
   "execution_count": 18,
   "id": "3e90e335",
   "metadata": {},
   "outputs": [
    {
     "data": {
      "text/plain": [
       "(2340367, 19)"
      ]
     },
     "metadata": {},
     "output_type": "display_data"
    },
    {
     "data": {
      "text/html": [
       "<div>\n",
       "<style scoped>\n",
       "    .dataframe tbody tr th:only-of-type {\n",
       "        vertical-align: middle;\n",
       "    }\n",
       "\n",
       "    .dataframe tbody tr th {\n",
       "        vertical-align: top;\n",
       "    }\n",
       "\n",
       "    .dataframe thead th {\n",
       "        text-align: right;\n",
       "    }\n",
       "</style>\n",
       "<table border=\"1\" class=\"dataframe\">\n",
       "  <thead>\n",
       "    <tr style=\"text-align: right;\">\n",
       "      <th></th>\n",
       "      <th>VendorID</th>\n",
       "      <th>tpep_pickup_datetime</th>\n",
       "      <th>tpep_dropoff_datetime</th>\n",
       "      <th>passenger_count</th>\n",
       "      <th>trip_distance</th>\n",
       "      <th>RatecodeID</th>\n",
       "      <th>store_and_fwd_flag</th>\n",
       "      <th>PULocationID</th>\n",
       "      <th>DOLocationID</th>\n",
       "      <th>payment_type</th>\n",
       "      <th>fare_amount</th>\n",
       "      <th>extra</th>\n",
       "      <th>mta_tax</th>\n",
       "      <th>tip_amount</th>\n",
       "      <th>tolls_amount</th>\n",
       "      <th>improvement_surcharge</th>\n",
       "      <th>total_amount</th>\n",
       "      <th>congestion_surcharge</th>\n",
       "      <th>airport_fee</th>\n",
       "    </tr>\n",
       "  </thead>\n",
       "  <tbody>\n",
       "    <tr>\n",
       "      <th>0</th>\n",
       "      <td>1</td>\n",
       "      <td>2022-01-01 00:35:40</td>\n",
       "      <td>2022-01-01 00:53:29</td>\n",
       "      <td>2.0</td>\n",
       "      <td>3.80</td>\n",
       "      <td>1.0</td>\n",
       "      <td>N</td>\n",
       "      <td>142</td>\n",
       "      <td>236</td>\n",
       "      <td>1</td>\n",
       "      <td>14.5</td>\n",
       "      <td>3.0</td>\n",
       "      <td>0.5</td>\n",
       "      <td>3.65</td>\n",
       "      <td>0.00</td>\n",
       "      <td>0.3</td>\n",
       "      <td>21.95</td>\n",
       "      <td>2.5</td>\n",
       "      <td>0.0</td>\n",
       "    </tr>\n",
       "    <tr>\n",
       "      <th>1</th>\n",
       "      <td>1</td>\n",
       "      <td>2022-01-01 00:33:43</td>\n",
       "      <td>2022-01-01 00:42:07</td>\n",
       "      <td>1.0</td>\n",
       "      <td>2.10</td>\n",
       "      <td>1.0</td>\n",
       "      <td>N</td>\n",
       "      <td>236</td>\n",
       "      <td>42</td>\n",
       "      <td>1</td>\n",
       "      <td>8.0</td>\n",
       "      <td>0.5</td>\n",
       "      <td>0.5</td>\n",
       "      <td>4.00</td>\n",
       "      <td>0.00</td>\n",
       "      <td>0.3</td>\n",
       "      <td>13.30</td>\n",
       "      <td>0.0</td>\n",
       "      <td>0.0</td>\n",
       "    </tr>\n",
       "    <tr>\n",
       "      <th>2</th>\n",
       "      <td>2</td>\n",
       "      <td>2022-01-01 00:53:21</td>\n",
       "      <td>2022-01-01 01:02:19</td>\n",
       "      <td>1.0</td>\n",
       "      <td>0.97</td>\n",
       "      <td>1.0</td>\n",
       "      <td>N</td>\n",
       "      <td>166</td>\n",
       "      <td>166</td>\n",
       "      <td>1</td>\n",
       "      <td>7.5</td>\n",
       "      <td>0.5</td>\n",
       "      <td>0.5</td>\n",
       "      <td>1.76</td>\n",
       "      <td>0.00</td>\n",
       "      <td>0.3</td>\n",
       "      <td>10.56</td>\n",
       "      <td>0.0</td>\n",
       "      <td>0.0</td>\n",
       "    </tr>\n",
       "    <tr>\n",
       "      <th>3</th>\n",
       "      <td>2</td>\n",
       "      <td>2022-01-01 00:25:21</td>\n",
       "      <td>2022-01-01 00:35:23</td>\n",
       "      <td>1.0</td>\n",
       "      <td>1.09</td>\n",
       "      <td>1.0</td>\n",
       "      <td>N</td>\n",
       "      <td>114</td>\n",
       "      <td>68</td>\n",
       "      <td>2</td>\n",
       "      <td>8.0</td>\n",
       "      <td>0.5</td>\n",
       "      <td>0.5</td>\n",
       "      <td>0.00</td>\n",
       "      <td>0.00</td>\n",
       "      <td>0.3</td>\n",
       "      <td>11.80</td>\n",
       "      <td>2.5</td>\n",
       "      <td>0.0</td>\n",
       "    </tr>\n",
       "    <tr>\n",
       "      <th>4</th>\n",
       "      <td>2</td>\n",
       "      <td>2022-01-01 00:36:48</td>\n",
       "      <td>2022-01-01 01:14:20</td>\n",
       "      <td>1.0</td>\n",
       "      <td>4.30</td>\n",
       "      <td>1.0</td>\n",
       "      <td>N</td>\n",
       "      <td>68</td>\n",
       "      <td>163</td>\n",
       "      <td>1</td>\n",
       "      <td>23.5</td>\n",
       "      <td>0.5</td>\n",
       "      <td>0.5</td>\n",
       "      <td>3.00</td>\n",
       "      <td>0.00</td>\n",
       "      <td>0.3</td>\n",
       "      <td>30.30</td>\n",
       "      <td>2.5</td>\n",
       "      <td>0.0</td>\n",
       "    </tr>\n",
       "    <tr>\n",
       "      <th>5</th>\n",
       "      <td>1</td>\n",
       "      <td>2022-01-01 00:40:15</td>\n",
       "      <td>2022-01-01 01:09:48</td>\n",
       "      <td>1.0</td>\n",
       "      <td>10.30</td>\n",
       "      <td>1.0</td>\n",
       "      <td>N</td>\n",
       "      <td>138</td>\n",
       "      <td>161</td>\n",
       "      <td>1</td>\n",
       "      <td>33.0</td>\n",
       "      <td>3.0</td>\n",
       "      <td>0.5</td>\n",
       "      <td>13.00</td>\n",
       "      <td>6.55</td>\n",
       "      <td>0.3</td>\n",
       "      <td>56.35</td>\n",
       "      <td>2.5</td>\n",
       "      <td>0.0</td>\n",
       "    </tr>\n",
       "    <tr>\n",
       "      <th>6</th>\n",
       "      <td>2</td>\n",
       "      <td>2022-01-01 00:20:50</td>\n",
       "      <td>2022-01-01 00:34:58</td>\n",
       "      <td>1.0</td>\n",
       "      <td>5.07</td>\n",
       "      <td>1.0</td>\n",
       "      <td>N</td>\n",
       "      <td>233</td>\n",
       "      <td>87</td>\n",
       "      <td>1</td>\n",
       "      <td>17.0</td>\n",
       "      <td>0.5</td>\n",
       "      <td>0.5</td>\n",
       "      <td>5.20</td>\n",
       "      <td>0.00</td>\n",
       "      <td>0.3</td>\n",
       "      <td>26.00</td>\n",
       "      <td>2.5</td>\n",
       "      <td>0.0</td>\n",
       "    </tr>\n",
       "    <tr>\n",
       "      <th>7</th>\n",
       "      <td>2</td>\n",
       "      <td>2022-01-01 00:13:04</td>\n",
       "      <td>2022-01-01 00:22:45</td>\n",
       "      <td>1.0</td>\n",
       "      <td>2.02</td>\n",
       "      <td>1.0</td>\n",
       "      <td>N</td>\n",
       "      <td>238</td>\n",
       "      <td>152</td>\n",
       "      <td>2</td>\n",
       "      <td>9.0</td>\n",
       "      <td>0.5</td>\n",
       "      <td>0.5</td>\n",
       "      <td>0.00</td>\n",
       "      <td>0.00</td>\n",
       "      <td>0.3</td>\n",
       "      <td>12.80</td>\n",
       "      <td>2.5</td>\n",
       "      <td>0.0</td>\n",
       "    </tr>\n",
       "    <tr>\n",
       "      <th>8</th>\n",
       "      <td>2</td>\n",
       "      <td>2022-01-01 00:30:02</td>\n",
       "      <td>2022-01-01 00:44:49</td>\n",
       "      <td>1.0</td>\n",
       "      <td>2.71</td>\n",
       "      <td>1.0</td>\n",
       "      <td>N</td>\n",
       "      <td>166</td>\n",
       "      <td>236</td>\n",
       "      <td>1</td>\n",
       "      <td>12.0</td>\n",
       "      <td>0.5</td>\n",
       "      <td>0.5</td>\n",
       "      <td>2.25</td>\n",
       "      <td>0.00</td>\n",
       "      <td>0.3</td>\n",
       "      <td>18.05</td>\n",
       "      <td>2.5</td>\n",
       "      <td>0.0</td>\n",
       "    </tr>\n",
       "    <tr>\n",
       "      <th>9</th>\n",
       "      <td>2</td>\n",
       "      <td>2022-01-01 00:48:52</td>\n",
       "      <td>2022-01-01 00:53:28</td>\n",
       "      <td>1.0</td>\n",
       "      <td>0.78</td>\n",
       "      <td>1.0</td>\n",
       "      <td>N</td>\n",
       "      <td>236</td>\n",
       "      <td>141</td>\n",
       "      <td>2</td>\n",
       "      <td>5.0</td>\n",
       "      <td>0.5</td>\n",
       "      <td>0.5</td>\n",
       "      <td>0.00</td>\n",
       "      <td>0.00</td>\n",
       "      <td>0.3</td>\n",
       "      <td>8.80</td>\n",
       "      <td>2.5</td>\n",
       "      <td>0.0</td>\n",
       "    </tr>\n",
       "    <tr>\n",
       "      <th>10</th>\n",
       "      <td>2</td>\n",
       "      <td>2022-01-01 00:55:03</td>\n",
       "      <td>2022-01-01 01:04:25</td>\n",
       "      <td>1.0</td>\n",
       "      <td>1.91</td>\n",
       "      <td>1.0</td>\n",
       "      <td>N</td>\n",
       "      <td>141</td>\n",
       "      <td>229</td>\n",
       "      <td>2</td>\n",
       "      <td>8.5</td>\n",
       "      <td>0.5</td>\n",
       "      <td>0.5</td>\n",
       "      <td>0.00</td>\n",
       "      <td>0.00</td>\n",
       "      <td>0.3</td>\n",
       "      <td>12.30</td>\n",
       "      <td>2.5</td>\n",
       "      <td>0.0</td>\n",
       "    </tr>\n",
       "    <tr>\n",
       "      <th>11</th>\n",
       "      <td>2</td>\n",
       "      <td>2022-01-01 00:31:06</td>\n",
       "      <td>2022-01-01 00:34:14</td>\n",
       "      <td>3.0</td>\n",
       "      <td>0.82</td>\n",
       "      <td>1.0</td>\n",
       "      <td>N</td>\n",
       "      <td>114</td>\n",
       "      <td>90</td>\n",
       "      <td>2</td>\n",
       "      <td>4.5</td>\n",
       "      <td>0.5</td>\n",
       "      <td>0.5</td>\n",
       "      <td>0.00</td>\n",
       "      <td>0.00</td>\n",
       "      <td>0.3</td>\n",
       "      <td>8.30</td>\n",
       "      <td>2.5</td>\n",
       "      <td>0.0</td>\n",
       "    </tr>\n",
       "    <tr>\n",
       "      <th>12</th>\n",
       "      <td>2</td>\n",
       "      <td>2022-01-01 00:41:07</td>\n",
       "      <td>2022-01-01 00:44:46</td>\n",
       "      <td>3.0</td>\n",
       "      <td>0.73</td>\n",
       "      <td>1.0</td>\n",
       "      <td>N</td>\n",
       "      <td>234</td>\n",
       "      <td>113</td>\n",
       "      <td>2</td>\n",
       "      <td>4.5</td>\n",
       "      <td>0.5</td>\n",
       "      <td>0.5</td>\n",
       "      <td>0.00</td>\n",
       "      <td>0.00</td>\n",
       "      <td>0.3</td>\n",
       "      <td>8.30</td>\n",
       "      <td>2.5</td>\n",
       "      <td>0.0</td>\n",
       "    </tr>\n",
       "    <tr>\n",
       "      <th>13</th>\n",
       "      <td>2</td>\n",
       "      <td>2022-01-01 00:56:34</td>\n",
       "      <td>2022-01-01 01:12:04</td>\n",
       "      <td>2.0</td>\n",
       "      <td>2.16</td>\n",
       "      <td>1.0</td>\n",
       "      <td>N</td>\n",
       "      <td>246</td>\n",
       "      <td>79</td>\n",
       "      <td>1</td>\n",
       "      <td>11.5</td>\n",
       "      <td>0.5</td>\n",
       "      <td>0.5</td>\n",
       "      <td>3.06</td>\n",
       "      <td>0.00</td>\n",
       "      <td>0.3</td>\n",
       "      <td>18.36</td>\n",
       "      <td>2.5</td>\n",
       "      <td>0.0</td>\n",
       "    </tr>\n",
       "    <tr>\n",
       "      <th>14</th>\n",
       "      <td>2</td>\n",
       "      <td>2022-01-01 00:39:46</td>\n",
       "      <td>2022-01-01 00:47:36</td>\n",
       "      <td>4.0</td>\n",
       "      <td>1.43</td>\n",
       "      <td>1.0</td>\n",
       "      <td>N</td>\n",
       "      <td>43</td>\n",
       "      <td>140</td>\n",
       "      <td>1</td>\n",
       "      <td>7.5</td>\n",
       "      <td>0.5</td>\n",
       "      <td>0.5</td>\n",
       "      <td>2.26</td>\n",
       "      <td>0.00</td>\n",
       "      <td>0.3</td>\n",
       "      <td>13.56</td>\n",
       "      <td>2.5</td>\n",
       "      <td>0.0</td>\n",
       "    </tr>\n",
       "  </tbody>\n",
       "</table>\n",
       "</div>"
      ],
      "text/plain": [
       "    VendorID tpep_pickup_datetime tpep_dropoff_datetime  passenger_count  \\\n",
       "0          1  2022-01-01 00:35:40   2022-01-01 00:53:29              2.0   \n",
       "1          1  2022-01-01 00:33:43   2022-01-01 00:42:07              1.0   \n",
       "2          2  2022-01-01 00:53:21   2022-01-01 01:02:19              1.0   \n",
       "3          2  2022-01-01 00:25:21   2022-01-01 00:35:23              1.0   \n",
       "4          2  2022-01-01 00:36:48   2022-01-01 01:14:20              1.0   \n",
       "5          1  2022-01-01 00:40:15   2022-01-01 01:09:48              1.0   \n",
       "6          2  2022-01-01 00:20:50   2022-01-01 00:34:58              1.0   \n",
       "7          2  2022-01-01 00:13:04   2022-01-01 00:22:45              1.0   \n",
       "8          2  2022-01-01 00:30:02   2022-01-01 00:44:49              1.0   \n",
       "9          2  2022-01-01 00:48:52   2022-01-01 00:53:28              1.0   \n",
       "10         2  2022-01-01 00:55:03   2022-01-01 01:04:25              1.0   \n",
       "11         2  2022-01-01 00:31:06   2022-01-01 00:34:14              3.0   \n",
       "12         2  2022-01-01 00:41:07   2022-01-01 00:44:46              3.0   \n",
       "13         2  2022-01-01 00:56:34   2022-01-01 01:12:04              2.0   \n",
       "14         2  2022-01-01 00:39:46   2022-01-01 00:47:36              4.0   \n",
       "\n",
       "    trip_distance  RatecodeID store_and_fwd_flag  PULocationID  DOLocationID  \\\n",
       "0            3.80         1.0                  N           142           236   \n",
       "1            2.10         1.0                  N           236            42   \n",
       "2            0.97         1.0                  N           166           166   \n",
       "3            1.09         1.0                  N           114            68   \n",
       "4            4.30         1.0                  N            68           163   \n",
       "5           10.30         1.0                  N           138           161   \n",
       "6            5.07         1.0                  N           233            87   \n",
       "7            2.02         1.0                  N           238           152   \n",
       "8            2.71         1.0                  N           166           236   \n",
       "9            0.78         1.0                  N           236           141   \n",
       "10           1.91         1.0                  N           141           229   \n",
       "11           0.82         1.0                  N           114            90   \n",
       "12           0.73         1.0                  N           234           113   \n",
       "13           2.16         1.0                  N           246            79   \n",
       "14           1.43         1.0                  N            43           140   \n",
       "\n",
       "    payment_type  fare_amount  extra  mta_tax  tip_amount  tolls_amount  \\\n",
       "0              1         14.5    3.0      0.5        3.65          0.00   \n",
       "1              1          8.0    0.5      0.5        4.00          0.00   \n",
       "2              1          7.5    0.5      0.5        1.76          0.00   \n",
       "3              2          8.0    0.5      0.5        0.00          0.00   \n",
       "4              1         23.5    0.5      0.5        3.00          0.00   \n",
       "5              1         33.0    3.0      0.5       13.00          6.55   \n",
       "6              1         17.0    0.5      0.5        5.20          0.00   \n",
       "7              2          9.0    0.5      0.5        0.00          0.00   \n",
       "8              1         12.0    0.5      0.5        2.25          0.00   \n",
       "9              2          5.0    0.5      0.5        0.00          0.00   \n",
       "10             2          8.5    0.5      0.5        0.00          0.00   \n",
       "11             2          4.5    0.5      0.5        0.00          0.00   \n",
       "12             2          4.5    0.5      0.5        0.00          0.00   \n",
       "13             1         11.5    0.5      0.5        3.06          0.00   \n",
       "14             1          7.5    0.5      0.5        2.26          0.00   \n",
       "\n",
       "    improvement_surcharge  total_amount  congestion_surcharge  airport_fee  \n",
       "0                     0.3         21.95                   2.5          0.0  \n",
       "1                     0.3         13.30                   0.0          0.0  \n",
       "2                     0.3         10.56                   0.0          0.0  \n",
       "3                     0.3         11.80                   2.5          0.0  \n",
       "4                     0.3         30.30                   2.5          0.0  \n",
       "5                     0.3         56.35                   2.5          0.0  \n",
       "6                     0.3         26.00                   2.5          0.0  \n",
       "7                     0.3         12.80                   2.5          0.0  \n",
       "8                     0.3         18.05                   2.5          0.0  \n",
       "9                     0.3          8.80                   2.5          0.0  \n",
       "10                    0.3         12.30                   2.5          0.0  \n",
       "11                    0.3          8.30                   2.5          0.0  \n",
       "12                    0.3          8.30                   2.5          0.0  \n",
       "13                    0.3         18.36                   2.5          0.0  \n",
       "14                    0.3         13.56                   2.5          0.0  "
      ]
     },
     "execution_count": 18,
     "metadata": {},
     "output_type": "execute_result"
    }
   ],
   "source": [
    "indexAge = nyc_taxi_Jan_2022[ (nyc_taxi_Jan_2022['passenger_count'] == 0)].index\n",
    "nyc_taxi_Jan_2022.drop(indexAge , inplace=True)\n",
    "display(nyc_taxi_Jan_2022.shape)\n",
    "nyc_taxi_Jan_2022.head(15)"
   ]
  },
  {
   "cell_type": "code",
   "execution_count": 19,
   "id": "48f4dfce",
   "metadata": {
    "scrolled": true
   },
   "outputs": [
    {
     "data": {
      "text/plain": [
       "(2340367, 19)"
      ]
     },
     "execution_count": 19,
     "metadata": {},
     "output_type": "execute_result"
    }
   ],
   "source": [
    "nyc_taxi_Jan_2022.shape"
   ]
  },
  {
   "cell_type": "markdown",
   "id": "44378810",
   "metadata": {},
   "source": [
    "## 1.c. Trip Durations:"
   ]
  },
  {
   "cell_type": "markdown",
   "id": "98a12a7a",
   "metadata": {},
   "source": [
    "<p style=\"font-size:18px\">According to NYC Taxi &amp; Limousine Commision Regulations <b style= \"color:blue\">the maximum allowed trip duration in a 24 hour interval is 12 hours.</b> </p>"
   ]
  },
  {
   "cell_type": "code",
   "execution_count": 20,
   "id": "32c104e7",
   "metadata": {},
   "outputs": [],
   "source": [
    "def convert_to_unix(s):\n",
    "    return time.mktime(datetime.datetime.strptime(s, \"%Y-%m-%d %H:%M:%S\").timetuple())\n",
    "\n",
    "def return_with_trip_times(month):\n",
    "    #pickups and dropoffs to unix time\n",
    "    duration_pickup = [convert_to_unix(x) for x in month['tpep_pickup_datetime'].astype(str)]\n",
    "    duration_drop = [convert_to_unix(x) for x in month['tpep_dropoff_datetime'].astype(str)]\n",
    "    #calculate duration of trips\n",
    "    durations = (np.array(duration_drop) - np.array(duration_pickup))/float(60)\n",
    "\n",
    "    #append durations of trips and speed in miles/hr to a new dataframe\n",
    "    new_frame = month[['passenger_count','trip_distance','PULocationID', 'DOLocationID']]\n",
    "    \n",
    "    new_frame['trip_times'] = durations\n",
    "    new_frame['pickup_times'] = duration_pickup\n",
    "    new_frame['Speed'] = 60*(new_frame['trip_distance']/new_frame['trip_times'])\n",
    "    \n",
    "    return new_frame\n",
    "\n",
    "# print(frame_with_durations.head())\n",
    "#  passenger_count\ttrip_distance\tpickup_longitude\tpickup_latitude\tdropoff_longitude\tdropoff_latitude\ttotal_amount\ttrip_times\tpickup_times\tSpeed\n",
    "#   1                  1.59\t      -73.993896        \t40.750111    \t-73.974785      \t40.750618           \t17.05   \t 18.050000\t1.421329e+09\t5.285319\n",
    "#   1               \t3.30    \t-74.001648      \t40.724243   \t-73.994415      \t40.759109           \t17.80   \t19.833333\t1.420902e+09\t9.983193\n",
    "#   1               \t1.80     \t-73.963341      \t40.802788     \t-73.951820      \t40.824413           \t10.80   \t10.050000\t1.420902e+09\t10.746269\n",
    "#   1               \t0.50    \t-74.009087      \t40.713818    \t-74.004326       \t40.719986           \t4.80    \t1.866667\t1.420902e+09\t16.071429\n",
    "#   1               \t3.00    \t-73.971176      \t40.762428    \t-74.004181      \t40.742653           \t16.30   \t19.316667\t1.420902e+09\t9.318378\n",
    "frame_with_durations = return_with_trip_times(nyc_taxi_Jan_2022)"
   ]
  },
  {
   "cell_type": "code",
   "execution_count": 21,
   "id": "120972d3",
   "metadata": {},
   "outputs": [
    {
     "data": {
      "text/html": [
       "<div>\n",
       "<style scoped>\n",
       "    .dataframe tbody tr th:only-of-type {\n",
       "        vertical-align: middle;\n",
       "    }\n",
       "\n",
       "    .dataframe tbody tr th {\n",
       "        vertical-align: top;\n",
       "    }\n",
       "\n",
       "    .dataframe thead th {\n",
       "        text-align: right;\n",
       "    }\n",
       "</style>\n",
       "<table border=\"1\" class=\"dataframe\">\n",
       "  <thead>\n",
       "    <tr style=\"text-align: right;\">\n",
       "      <th></th>\n",
       "      <th>passenger_count</th>\n",
       "      <th>trip_distance</th>\n",
       "      <th>PULocationID</th>\n",
       "      <th>DOLocationID</th>\n",
       "      <th>trip_times</th>\n",
       "      <th>pickup_times</th>\n",
       "      <th>Speed</th>\n",
       "    </tr>\n",
       "  </thead>\n",
       "  <tbody>\n",
       "    <tr>\n",
       "      <th>0</th>\n",
       "      <td>2.0</td>\n",
       "      <td>3.80</td>\n",
       "      <td>142</td>\n",
       "      <td>236</td>\n",
       "      <td>17.816667</td>\n",
       "      <td>1.641023e+09</td>\n",
       "      <td>12.797007</td>\n",
       "    </tr>\n",
       "    <tr>\n",
       "      <th>1</th>\n",
       "      <td>1.0</td>\n",
       "      <td>2.10</td>\n",
       "      <td>236</td>\n",
       "      <td>42</td>\n",
       "      <td>8.400000</td>\n",
       "      <td>1.641022e+09</td>\n",
       "      <td>15.000000</td>\n",
       "    </tr>\n",
       "    <tr>\n",
       "      <th>2</th>\n",
       "      <td>1.0</td>\n",
       "      <td>0.97</td>\n",
       "      <td>166</td>\n",
       "      <td>166</td>\n",
       "      <td>8.966667</td>\n",
       "      <td>1.641024e+09</td>\n",
       "      <td>6.490706</td>\n",
       "    </tr>\n",
       "    <tr>\n",
       "      <th>3</th>\n",
       "      <td>1.0</td>\n",
       "      <td>1.09</td>\n",
       "      <td>114</td>\n",
       "      <td>68</td>\n",
       "      <td>10.033333</td>\n",
       "      <td>1.641022e+09</td>\n",
       "      <td>6.518272</td>\n",
       "    </tr>\n",
       "    <tr>\n",
       "      <th>4</th>\n",
       "      <td>1.0</td>\n",
       "      <td>4.30</td>\n",
       "      <td>68</td>\n",
       "      <td>163</td>\n",
       "      <td>37.533333</td>\n",
       "      <td>1.641023e+09</td>\n",
       "      <td>6.873890</td>\n",
       "    </tr>\n",
       "  </tbody>\n",
       "</table>\n",
       "</div>"
      ],
      "text/plain": [
       "   passenger_count  trip_distance  PULocationID  DOLocationID  trip_times  \\\n",
       "0              2.0           3.80           142           236   17.816667   \n",
       "1              1.0           2.10           236            42    8.400000   \n",
       "2              1.0           0.97           166           166    8.966667   \n",
       "3              1.0           1.09           114            68   10.033333   \n",
       "4              1.0           4.30            68           163   37.533333   \n",
       "\n",
       "   pickup_times      Speed  \n",
       "0  1.641023e+09  12.797007  \n",
       "1  1.641022e+09  15.000000  \n",
       "2  1.641024e+09   6.490706  \n",
       "3  1.641022e+09   6.518272  \n",
       "4  1.641023e+09   6.873890  "
      ]
     },
     "execution_count": 21,
     "metadata": {},
     "output_type": "execute_result"
    }
   ],
   "source": [
    "frame_with_durations.head()"
   ]
  },
  {
   "cell_type": "code",
   "execution_count": 22,
   "id": "94168430",
   "metadata": {},
   "outputs": [
    {
     "data": {
      "image/png": "[encoded data removed]",
      "text/plain": [
       "<Figure size 432x288 with 1 Axes>"
      ]
     },
     "metadata": {
      "needs_background": "light"
     },
     "output_type": "display_data"
    }
   ],
   "source": [
    "%matplotlib inline\n",
    "\n",
    "\n",
    "# the skewed box plot shows us the presence of outliers \n",
    "sns.boxplot(y=\"trip_times\", data =frame_with_durations).set(title='BoxPlot of Trip Times')\n",
    "plt.show()"
   ]
  },
  {
   "cell_type": "code",
   "execution_count": 23,
   "id": "2594bdb0",
   "metadata": {},
   "outputs": [
    {
     "name": "stdout",
     "output_type": "stream",
     "text": [
      "0 percentile value is -3442.4\n",
      "10 percentile value is 4.016666666666667\n",
      "20 percentile value is 5.566666666666666\n",
      "30 percentile value is 7.0\n",
      "40 percentile value is 8.466666666666667\n",
      "50 percentile value is 10.1\n",
      "60 percentile value is 12.033333333333333\n",
      "70 percentile value is 14.483333333333333\n",
      "80 percentile value is 17.983333333333334\n",
      "90 percentile value is 24.5\n",
      "100 percentile value is  8513.183333333332\n"
     ]
    }
   ],
   "source": [
    "#calculating 0-100th percentile to find a the correct percentile value for removal of outliers\n",
    "for i in range(0,100,10):\n",
    "    var =frame_with_durations[\"trip_times\"].values\n",
    "    var = np.sort(var,axis = None)\n",
    "    print(\"{} percentile value is {}\".format(i,var[int(len(var)*(float(i)/100))]))\n",
    "print (\"100 percentile value is \",var[-1])"
   ]
  },
  {
   "cell_type": "code",
   "execution_count": 24,
   "id": "d6809157",
   "metadata": {},
   "outputs": [
    {
     "name": "stdout",
     "output_type": "stream",
     "text": [
      "90 percentile value is 24.5\n",
      "91 percentile value is 25.566666666666666\n",
      "92 percentile value is 26.783333333333335\n",
      "93 percentile value is 28.183333333333334\n",
      "94 percentile value is 29.816666666666666\n",
      "95 percentile value is 31.766666666666666\n",
      "96 percentile value is 34.166666666666664\n",
      "97 percentile value is 37.25\n",
      "98 percentile value is 41.666666666666664\n",
      "99 percentile value is 49.61666666666667\n",
      "100 percentile value is  8513.183333333332\n"
     ]
    }
   ],
   "source": [
    "#looking further from the 99th percecntile\n",
    "for i in range(90,100):\n",
    "    var =frame_with_durations[\"trip_times\"].values\n",
    "    var = np.sort(var,axis = None)\n",
    "    print(\"{} percentile value is {}\".format(i,var[int(len(var)*(float(i)/100))]))\n",
    "print (\"100 percentile value is \",var[-1])"
   ]
  },
  {
   "cell_type": "markdown",
   "id": "817eb202",
   "metadata": {},
   "source": [
    "NY Authority rule the max travel is 12 hour=720min"
   ]
  },
  {
   "cell_type": "code",
   "execution_count": 25,
   "id": "35db5a06",
   "metadata": {},
   "outputs": [
    {
     "data": {
      "text/plain": [
       "(2340367, 7)"
      ]
     },
     "execution_count": 25,
     "metadata": {},
     "output_type": "execute_result"
    }
   ],
   "source": [
    "frame_with_durations.shape"
   ]
  },
  {
   "cell_type": "code",
   "execution_count": 26,
   "id": "7f5daa8c",
   "metadata": {},
   "outputs": [
    {
     "data": {
      "text/plain": [
       "(2340367, 19)"
      ]
     },
     "execution_count": 26,
     "metadata": {},
     "output_type": "execute_result"
    }
   ],
   "source": [
    "nyc_taxi_Jan_2022.shape"
   ]
  },
  {
   "cell_type": "code",
   "execution_count": 27,
   "id": "1bb99b1a",
   "metadata": {},
   "outputs": [],
   "source": [
    "#removing data based on our analysis and TLC regulations\n",
    "\n",
    "nyc_taxi_Jan_2022['trip_times'] = frame_with_durations['trip_times']\n",
    "nyc_taxi_Jan_2022['pickup_times'] = frame_with_durations['pickup_times']\n",
    "nyc_taxi_Jan_2022['Speed'] = frame_with_durations['Speed']\n",
    "\n",
    "frame_with_durations_modified=frame_with_durations[(frame_with_durations.trip_times>1) & (frame_with_durations.trip_times<720)]\n",
    "nyc_taxi_Jan_2022=nyc_taxi_Jan_2022[(nyc_taxi_Jan_2022.trip_times>1) & (nyc_taxi_Jan_2022.trip_times<720)]\n",
    "#nyc_taxi_Jan_2022"
   ]
  },
  {
   "cell_type": "code",
   "execution_count": 28,
   "id": "c26e3b84",
   "metadata": {},
   "outputs": [
    {
     "data": {
      "text/plain": [
       "(2311778, 22)"
      ]
     },
     "execution_count": 28,
     "metadata": {},
     "output_type": "execute_result"
    }
   ],
   "source": [
    "nyc_taxi_Jan_2022.shape"
   ]
  },
  {
   "cell_type": "code",
   "execution_count": 29,
   "id": "8324808e",
   "metadata": {},
   "outputs": [
    {
     "data": {
      "text/plain": [
       "(2311778, 7)"
      ]
     },
     "execution_count": 29,
     "metadata": {},
     "output_type": "execute_result"
    }
   ],
   "source": [
    "frame_with_durations_modified.shape"
   ]
  },
  {
   "cell_type": "code",
   "execution_count": 30,
   "id": "dbc661a3",
   "metadata": {},
   "outputs": [
    {
     "data": {
      "image/png": "[encoded data removed]",
      "text/plain": [
       "<Figure size 432x288 with 1 Axes>"
      ]
     },
     "metadata": {
      "needs_background": "light"
     },
     "output_type": "display_data"
    }
   ],
   "source": [
    "%matplotlib inline\n",
    "\n",
    "\n",
    "#box-plot after removal of outliers\n",
    "sns.boxplot(y=\"trip_times\", data =nyc_taxi_Jan_2022)\n",
    "plt.show()"
   ]
  },
  {
   "cell_type": "code",
   "execution_count": 143,
   "id": "f1e79a69",
   "metadata": {},
   "outputs": [
    {
     "data": {
      "image/png": "[encoded data removed]",
      "text/plain": [
       "<Figure size 440x432 with 1 Axes>"
      ]
     },
     "metadata": {
      "needs_background": "light"
     },
     "output_type": "display_data"
    }
   ],
   "source": [
    "#pdf of trip-times after removing the outliers\n",
    "sns.FacetGrid(nyc_taxi_Jan_2022,size=6) \\\n",
    "      .map(sns.kdeplot,\"trip_times\") \\\n",
    "      .add_legend();\n",
    "plt.title(\"PDF of Trip-time attribute.\")\n",
    "plt.show();\n"
   ]
  },
  {
   "cell_type": "code",
   "execution_count": 144,
   "id": "6edaf8cf",
   "metadata": {},
   "outputs": [
    {
     "data": {
      "image/png": "[encoded data removed]",
      "text/plain": [
       "<Figure size 440x432 with 1 Axes>"
      ]
     },
     "metadata": {
      "needs_background": "light"
     },
     "output_type": "display_data"
    }
   ],
   "source": [
    "#converting the values to log-values to check for log-normal\n",
    "frame_with_durations_modified['log_times']=[math.log(i) for i in frame_with_durations_modified['trip_times'].values]\n",
    "\n",
    "#pdf of log-values\n",
    "sns.FacetGrid(frame_with_durations_modified,size=6) \\\n",
    "      .map(sns.kdeplot,\"log_times\") \\\n",
    "      .add_legend();\n",
    "plt.title(\"PDF of Log values Trip-time attribute to check log-normality\")\n",
    "plt.show();"
   ]
  },
  {
   "cell_type": "code",
   "execution_count": 33,
   "id": "9aa56bb1",
   "metadata": {},
   "outputs": [
    {
     "data": {
      "image/png": "[encoded data removed]",
      "text/plain": [
       "<Figure size 432x288 with 1 Axes>"
      ]
     },
     "metadata": {
      "needs_background": "light"
     },
     "output_type": "display_data"
    }
   ],
   "source": [
    "#Q-Q plot for checking if trip-times is log-normal\n",
    "scipy.stats.probplot(frame_with_durations_modified['log_times'].values, plot=plt)\n",
    "plt.show()"
   ]
  },
  {
   "cell_type": "markdown",
   "id": "02d40f4b",
   "metadata": {},
   "source": [
    "## 1.d. Speed"
   ]
  },
  {
   "cell_type": "code",
   "execution_count": 34,
   "id": "6fcd4969",
   "metadata": {},
   "outputs": [
    {
     "data": {
      "image/png": "[encoded data removed]",
      "text/plain": [
       "<Figure size 432x288 with 1 Axes>"
      ]
     },
     "metadata": {
      "needs_background": "light"
     },
     "output_type": "display_data"
    }
   ],
   "source": [
    "# check for any outliers in the data after trip duration outliers removed\n",
    "# box-plot for speeds with outliers\n",
    "frame_with_durations_modified['Speed'] = 60*(frame_with_durations_modified['trip_distance']/frame_with_durations_modified['trip_times'])\n",
    "sns.boxplot(y=\"Speed\", data =frame_with_durations_modified).set(title='BoxPlot of Speed')\n",
    "plt.show()"
   ]
  },
  {
   "cell_type": "code",
   "execution_count": 35,
   "id": "6ef6c6f8",
   "metadata": {},
   "outputs": [
    {
     "name": "stdout",
     "output_type": "stream",
     "text": [
      "0 percentile value is 0.0\n",
      "10 percentile value is 6.961832061068703\n",
      "20 percentile value is 8.224299065420562\n",
      "30 percentile value is 9.194366197183099\n",
      "40 percentile value is 10.10888252148997\n",
      "50 percentile value is 11.072509960159362\n",
      "60 percentile value is 12.198636806231741\n",
      "70 percentile value is 13.695104895104897\n",
      "80 percentile value is 16.072892938496583\n",
      "90 percentile value is 21.58730158730159\n",
      "100 percentile value is  3701.5384615384614\n",
      "90 percentile value is 21.58730158730159\n",
      "91 percentile value is 22.57946370176586\n",
      "92 percentile value is 23.677441306566855\n",
      "93 percentile value is 24.913566113337147\n",
      "94 percentile value is 26.324517512508933\n",
      "95 percentile value is 27.9589216944801\n",
      "96 percentile value is 29.838218053927317\n",
      "97 percentile value is 32.0539629005059\n",
      "98 percentile value is 34.81057268722466\n",
      "99 percentile value is 38.674169949352844\n",
      "99.0 percentile value is 38.674169949352844\n",
      "99.1 percentile value is 39.18616480162767\n",
      "99.2 percentile value is 39.755619596541784\n",
      "99.3 percentile value is 40.353706111833546\n",
      "99.4 percentile value is 41.03141928494041\n",
      "99.5 percentile value is 41.777188328912466\n",
      "99.6 percentile value is 42.69421487603306\n",
      "99.7 percentile value is 43.86329866270431\n",
      "99.8 percentile value is 45.45542168674699\n",
      "99.9 percentile value is 48.250673854447435\n",
      "100 percentile value is  3701.5384615384614\n"
     ]
    }
   ],
   "source": [
    "#calculating speed values at each percntile 0,10,20,30,40,50,60,70,80,90,100 \n",
    "for i in range(0,100,10):\n",
    "    var =frame_with_durations_modified[\"Speed\"].values\n",
    "    var = np.sort(var,axis = None)\n",
    "    print(\"{} percentile value is {}\".format(i,var[int(len(var)*(float(i)/100))]))\n",
    "print(\"100 percentile value is \",var[-1])\n",
    "\n",
    "#calculating speed values at each percntile 90,91,92,93,94,95,96,97,98,99,100\n",
    "for i in range(90,100):\n",
    "    var =frame_with_durations_modified[\"Speed\"].values\n",
    "    var = np.sort(var,axis = None)\n",
    "    print(\"{} percentile value is {}\".format(i,var[int(len(var)*(float(i)/100))]))\n",
    "#print(\"100 percentile value is \",var[-1])\n",
    "\n",
    "#calculating speed values at each percntile 99.0,99.1,99.2,99.3,99.4,99.5,99.6,99.7,99.8,99.9,100\n",
    "for i in np.arange(0.0, 1.0, 0.1):\n",
    "    var =frame_with_durations_modified[\"Speed\"].values\n",
    "    var = np.sort(var,axis = None)\n",
    "    print(\"{} percentile value is {}\".format(99+i,var[int(len(var)*(float(99+i)/100))]))\n",
    "print(\"100 percentile value is \",var[-1])"
   ]
  },
  {
   "cell_type": "code",
   "execution_count": 36,
   "id": "6000116e",
   "metadata": {},
   "outputs": [],
   "source": [
    "#removing further outliers based on the 99.9th percentile value\n",
    "#frame_with_durations_modified=frame_with_durations[(frame_with_durations.Speed>0) & (frame_with_durations.Speed<48.25)]\n",
    "\n",
    "\n",
    "nyc_taxi_Jan_2022=nyc_taxi_Jan_2022[(nyc_taxi_Jan_2022.Speed>0) & (nyc_taxi_Jan_2022.Speed<48.25)]"
   ]
  },
  {
   "cell_type": "code",
   "execution_count": 37,
   "id": "7f1d1c62",
   "metadata": {},
   "outputs": [
    {
     "data": {
      "text/plain": [
       "12.930126622008087"
      ]
     },
     "execution_count": 37,
     "metadata": {},
     "output_type": "execute_result"
    }
   ],
   "source": [
    "#avg.speed of cabs in New-York\n",
    "sum(nyc_taxi_Jan_2022[\"Speed\"]) / float(len(nyc_taxi_Jan_2022[\"Speed\"]))"
   ]
  },
  {
   "cell_type": "code",
   "execution_count": 57,
   "id": "a70ad14c",
   "metadata": {},
   "outputs": [
    {
     "data": {
      "image/png": "[encoded data removed]",
      "text/plain": [
       "<Figure size 432x288 with 1 Axes>"
      ]
     },
     "metadata": {
      "needs_background": "light"
     },
     "output_type": "display_data"
    }
   ],
   "source": [
    "nyc_taxi_Jan_2022['Speed'] = 60*(nyc_taxi_Jan_2022['trip_distance']/nyc_taxi_Jan_2022['trip_times'])\n",
    "sns.boxplot(y=\"Speed\", data =nyc_taxi_Jan_2022).set(title='BoxPlot of Speed')\n",
    "plt.show()"
   ]
  },
  {
   "cell_type": "markdown",
   "id": "19851ce4",
   "metadata": {},
   "source": [
    "<b style='font-size:16px'>The avg speed in NewYork speed is 12.45miles/hr, so a cab driver can travel <font color='blue'> 2 miles per 10min on avg.</font> </b>"
   ]
  },
  {
   "cell_type": "markdown",
   "id": "08e92f0e",
   "metadata": {},
   "source": [
    "## 1.e. Payment Types:"
   ]
  },
  {
   "cell_type": "code",
   "execution_count": 38,
   "id": "230214e2",
   "metadata": {},
   "outputs": [
    {
     "data": {
      "image/png": "[encoded data removed]",
      "text/plain": [
       "<Figure size 432x288 with 1 Axes>"
      ]
     },
     "metadata": {
      "needs_background": "light"
     },
     "output_type": "display_data"
    }
   ],
   "source": [
    "ax = sns.countplot(x=\"payment_type\",data=nyc_taxi_Jan_2022).set(title='Count of different types of Payment.')"
   ]
  },
  {
   "cell_type": "code",
   "execution_count": 39,
   "id": "8f38c1cd",
   "metadata": {},
   "outputs": [
    {
     "data": {
      "image/png": "[encoded data removed]",
      "text/plain": [
       "<Figure size 432x288 with 1 Axes>"
      ]
     },
     "metadata": {
      "needs_background": "light"
     },
     "output_type": "display_data"
    }
   ],
   "source": [
    "boxplot = nyc_taxi_Jan_2022.boxplot(column=['payment_type']).set(title='BoxPlot of different types of Payment.')"
   ]
  },
  {
   "cell_type": "code",
   "execution_count": 40,
   "id": "ec0e1d56",
   "metadata": {},
   "outputs": [
    {
     "name": "stdout",
     "output_type": "stream",
     "text": [
      "Least Payment Type: 1\n",
      "Max Payment Type: 5\n"
     ]
    }
   ],
   "source": [
    "print(\"Least Payment Type:\",nyc_taxi_Jan_2022['payment_type'].min())\n",
    "print(\"Max Payment Type:\",nyc_taxi_Jan_2022['payment_type'].max())"
   ]
  },
  {
   "cell_type": "markdown",
   "id": "f2db402e",
   "metadata": {},
   "source": [
    "From the above observations, it seems there are no outliers. "
   ]
  },
  {
   "cell_type": "markdown",
   "id": "83277fdc",
   "metadata": {},
   "source": [
    "## 1.f. Total Amount"
   ]
  },
  {
   "cell_type": "code",
   "execution_count": 46,
   "id": "4c638d85",
   "metadata": {
    "scrolled": true
   },
   "outputs": [
    {
     "data": {
      "image/png": "[encoded data removed]",
      "text/plain": [
       "<Figure size 432x288 with 1 Axes>"
      ]
     },
     "metadata": {
      "needs_background": "light"
     },
     "output_type": "display_data"
    }
   ],
   "source": [
    "# up to now we have removed the outliers based on trip durations, cab speeds, and trip distances\n",
    "# lets try if there are any outliers in based on the total_amount\n",
    "# box-plot showing outliers in fare\n",
    "sns.boxplot(y=\"total_amount\", data =nyc_taxi_Jan_2022).set(title='BoxPlot of Total Amount')\n",
    "plt.show()"
   ]
  },
  {
   "cell_type": "code",
   "execution_count": 42,
   "id": "f58622c0",
   "metadata": {},
   "outputs": [
    {
     "data": {
      "text/plain": [
       "-253.3"
      ]
     },
     "metadata": {},
     "output_type": "display_data"
    },
    {
     "data": {
      "text/plain": [
       "401095.62"
      ]
     },
     "metadata": {},
     "output_type": "display_data"
    }
   ],
   "source": [
    "display(min(nyc_taxi_Jan_2022['total_amount']))\n",
    "display(max(nyc_taxi_Jan_2022['total_amount']))"
   ]
  },
  {
   "cell_type": "code",
   "execution_count": 43,
   "id": "216e72f2",
   "metadata": {},
   "outputs": [
    {
     "name": "stdout",
     "output_type": "stream",
     "text": [
      "0 percentile value is -253.3\n",
      "1 percentile value is 6.8\n",
      "2 percentile value is 7.3\n",
      "3 percentile value is 7.8\n",
      "4 percentile value is 8.3\n",
      "5 percentile value is 8.75\n",
      "6 percentile value is 8.8\n",
      "7 percentile value is 8.8\n",
      "8 percentile value is 9.3\n",
      "9 percentile value is 9.3\n",
      "10 percentile value is 9.36\n",
      "20 percentile value is 10.8\n",
      "30 percentile value is 11.8\n",
      "40 percentile value is 12.96\n",
      "50 percentile value is 14.3\n",
      "60 percentile value is 15.96\n",
      "70 percentile value is 18.3\n",
      "80 percentile value is 21.8\n",
      "90 percentile value is 32.25\n",
      "90 percentile value is 32.25\n",
      "91 percentile value is 35.05\n",
      "92 percentile value is 38.3\n",
      "93 percentile value is 41.85\n",
      "94 percentile value is 45.42\n",
      "95 percentile value is 49.8\n",
      "96 percentile value is 55.85\n",
      "97 percentile value is 63.1\n",
      "98 percentile value is 70.26\n",
      "99 percentile value is 75.72\n",
      "99.0 percentile value is 75.72\n",
      "99.1 percentile value is 75.72\n",
      "99.2 percentile value is 76.31\n",
      "99.3 percentile value is 77.87\n",
      "99.4 percentile value is 78.88\n",
      "99.5 percentile value is 80.46\n",
      "99.6 percentile value is 81.12\n",
      "99.7 percentile value is 84.3\n",
      "99.8 percentile value is 91.86\n",
      "99.9 percentile value is 108.55\n",
      "100 percentile value is  401095.62\n"
     ]
    }
   ],
   "source": [
    "#calculating total fare amount values at each percntile 0,10,20,30,40,50,60,70,80,90,100 \n",
    "for i in range(0,10):\n",
    "    var = nyc_taxi_Jan_2022[\"total_amount\"].values\n",
    "    var = np.sort(var,axis = None)\n",
    "    print(\"{} percentile value is {}\".format(i,var[int(len(var)*(float(i)/100))]))\n",
    "\n",
    "for i in range(10,100,10):\n",
    "    var = nyc_taxi_Jan_2022[\"total_amount\"].values\n",
    "    var = np.sort(var,axis = None)\n",
    "    print(\"{} percentile value is {}\".format(i,var[int(len(var)*(float(i)/100))]))\n",
    "#print(\"100 percentile value is \",var[-1])\n",
    "\n",
    "#calculating total fare amount values at each percntile 90,91,92,93,94,95,96,97,98,99,100\n",
    "for i in range(90,100):\n",
    "    var = nyc_taxi_Jan_2022[\"total_amount\"].values\n",
    "    var = np.sort(var,axis = None)\n",
    "    print(\"{} percentile value is {}\".format(i,var[int(len(var)*(float(i)/100))]))\n",
    "#print(\"100 percentile value is \",var[-1])\n",
    "\n",
    "for i in np.arange(0.0, 1.0, 0.1):\n",
    "    var =nyc_taxi_Jan_2022[\"total_amount\"].values\n",
    "    var = np.sort(var,axis = None)\n",
    "    print(\"{} percentile value is {}\".format(99+i,var[int(len(var)*(float(99+i)/100))]))\n",
    "print(\"100 percentile value is \",var[-1])"
   ]
  },
  {
   "cell_type": "markdown",
   "id": "95584eaf",
   "metadata": {},
   "source": [
    "<b>Observation:-</b>\n",
    "\n",
    "As for the 0th percentile, value is an outlier.\n",
    "\n",
    "As even the 99.9th percentile value doesnt look like an outlier,as there is not much difference between the 99.8th percentile and 99.9th percentile, we move on to do graphical analyis"
   ]
  },
  {
   "cell_type": "code",
   "execution_count": 45,
   "id": "36c2851a",
   "metadata": {},
   "outputs": [
    {
     "data": {
      "image/png": "[encoded data removed]",
      "text/plain": [
       "<Figure size 432x288 with 1 Axes>"
      ]
     },
     "metadata": {
      "needs_background": "light"
     },
     "output_type": "display_data"
    }
   ],
   "source": [
    "#below plot shows us the fare values(sorted) to find a sharp increase to remove those values as outliers\n",
    "# plot the fare amount excluding last two values in sorted data\n",
    "plt.plot(var[:-2])\n",
    "plt.xlabel('Total Amount') \n",
    "plt.ylabel('Distribution') \n",
    "  \n",
    "# displaying the title\n",
    "plt.title(\"Distribution of Total Amount\")\n",
    "plt.show()"
   ]
  },
  {
   "cell_type": "code",
   "execution_count": 45,
   "id": "b685d9f7",
   "metadata": {},
   "outputs": [
    {
     "data": {
      "image/png": "[encoded data removed]",
      "text/plain": [
       "<Figure size 432x288 with 1 Axes>"
      ]
     },
     "metadata": {
      "needs_background": "light"
     },
     "output_type": "display_data"
    }
   ],
   "source": [
    "# a very sharp increase in fare values can be seen \n",
    "# plotting last three total fare values, and we can observe there is share increase in the values\n",
    "plt.plot(var[-3:])\n",
    "plt.show()"
   ]
  },
  {
   "cell_type": "markdown",
   "id": "e40794bb",
   "metadata": {},
   "source": [
    "So removing the outliers."
   ]
  },
  {
   "cell_type": "code",
   "execution_count": 46,
   "id": "66afea5b",
   "metadata": {},
   "outputs": [
    {
     "data": {
      "text/plain": [
       "VendorID                 9826\n",
       "tpep_pickup_datetime     9826\n",
       "tpep_dropoff_datetime    9826\n",
       "passenger_count          9826\n",
       "trip_distance            9826\n",
       "RatecodeID               9826\n",
       "store_and_fwd_flag       9826\n",
       "PULocationID             9826\n",
       "DOLocationID             9826\n",
       "payment_type             9826\n",
       "fare_amount              9826\n",
       "extra                    9826\n",
       "mta_tax                  9826\n",
       "tip_amount               9826\n",
       "tolls_amount             9826\n",
       "improvement_surcharge    9826\n",
       "total_amount             9826\n",
       "congestion_surcharge     9826\n",
       "airport_fee              9826\n",
       "trip_times               9826\n",
       "pickup_times             9826\n",
       "Speed                    9826\n",
       "dtype: int64"
      ]
     },
     "execution_count": 46,
     "metadata": {},
     "output_type": "execute_result"
    }
   ],
   "source": [
    "nyc_taxi_Jan_2022[(nyc_taxi_Jan_2022['total_amount']<0) | (nyc_taxi_Jan_2022['total_amount']>1000)].count()"
   ]
  },
  {
   "cell_type": "code",
   "execution_count": 47,
   "id": "5a517673",
   "metadata": {},
   "outputs": [
    {
     "data": {
      "text/plain": [
       "(2299455, 22)"
      ]
     },
     "execution_count": 47,
     "metadata": {},
     "output_type": "execute_result"
    }
   ],
   "source": [
    "nyc_taxi_Jan_2022.shape"
   ]
  },
  {
   "cell_type": "code",
   "execution_count": 48,
   "id": "bf6e44c8",
   "metadata": {},
   "outputs": [],
   "source": [
    "nyc_taxi_Jan_2022=nyc_taxi_Jan_2022[(nyc_taxi_Jan_2022['total_amount']>0) & (nyc_taxi_Jan_2022['total_amount']<1000)]"
   ]
  },
  {
   "cell_type": "code",
   "execution_count": 49,
   "id": "00cc0bcf",
   "metadata": {},
   "outputs": [
    {
     "data": {
      "text/plain": [
       "(2289580, 22)"
      ]
     },
     "execution_count": 49,
     "metadata": {},
     "output_type": "execute_result"
    }
   ],
   "source": [
    "nyc_taxi_Jan_2022.shape"
   ]
  },
  {
   "cell_type": "code",
   "execution_count": 50,
   "id": "f9ea507e",
   "metadata": {},
   "outputs": [
    {
     "data": {
      "image/png": "[encoded data removed]",
      "text/plain": [
       "<Figure size 432x288 with 1 Axes>"
      ]
     },
     "metadata": {
      "needs_background": "light"
     },
     "output_type": "display_data"
    }
   ],
   "source": [
    "sns.boxplot(y=\"total_amount\", data =nyc_taxi_Jan_2022).set(title='BoxPlot of Total Amount')\n",
    "plt.show()"
   ]
  },
  {
   "cell_type": "markdown",
   "id": "389a1909",
   "metadata": {},
   "source": [
    "## 1.g. VendorID"
   ]
  },
  {
   "cell_type": "markdown",
   "id": "8d5e4b79",
   "metadata": {},
   "source": [
    "As per NY Authority rule, there are only 2 Vendors. "
   ]
  },
  {
   "cell_type": "code",
   "execution_count": 51,
   "id": "544ee4ca",
   "metadata": {},
   "outputs": [
    {
     "data": {
      "image/png": "[encoded data removed]",
      "text/plain": [
       "<Figure size 432x288 with 1 Axes>"
      ]
     },
     "metadata": {
      "needs_background": "light"
     },
     "output_type": "display_data"
    }
   ],
   "source": [
    "ax = sns.countplot(x=\"VendorID\",data=nyc_taxi_Jan_2022)"
   ]
  },
  {
   "cell_type": "markdown",
   "id": "4e41878b",
   "metadata": {},
   "source": [
    "From the above plot, there are no outliers."
   ]
  },
  {
   "cell_type": "markdown",
   "id": "1cbe121c",
   "metadata": {},
   "source": [
    "## 1.h. PULocationID and DOLocationID"
   ]
  },
  {
   "cell_type": "code",
   "execution_count": 52,
   "id": "650a002f",
   "metadata": {},
   "outputs": [
    {
     "data": {
      "text/html": [
       "<div>\n",
       "<style scoped>\n",
       "    .dataframe tbody tr th:only-of-type {\n",
       "        vertical-align: middle;\n",
       "    }\n",
       "\n",
       "    .dataframe tbody tr th {\n",
       "        vertical-align: top;\n",
       "    }\n",
       "\n",
       "    .dataframe thead th {\n",
       "        text-align: right;\n",
       "    }\n",
       "</style>\n",
       "<table border=\"1\" class=\"dataframe\">\n",
       "  <thead>\n",
       "    <tr style=\"text-align: right;\">\n",
       "      <th></th>\n",
       "      <th>LocationID</th>\n",
       "      <th>Borough</th>\n",
       "      <th>Zone</th>\n",
       "      <th>service_zone</th>\n",
       "    </tr>\n",
       "  </thead>\n",
       "  <tbody>\n",
       "    <tr>\n",
       "      <th>0</th>\n",
       "      <td>1</td>\n",
       "      <td>EWR</td>\n",
       "      <td>Newark Airport</td>\n",
       "      <td>EWR</td>\n",
       "    </tr>\n",
       "    <tr>\n",
       "      <th>1</th>\n",
       "      <td>2</td>\n",
       "      <td>Queens</td>\n",
       "      <td>Jamaica Bay</td>\n",
       "      <td>Boro Zone</td>\n",
       "    </tr>\n",
       "    <tr>\n",
       "      <th>2</th>\n",
       "      <td>3</td>\n",
       "      <td>Bronx</td>\n",
       "      <td>Allerton/Pelham Gardens</td>\n",
       "      <td>Boro Zone</td>\n",
       "    </tr>\n",
       "    <tr>\n",
       "      <th>3</th>\n",
       "      <td>4</td>\n",
       "      <td>Manhattan</td>\n",
       "      <td>Alphabet City</td>\n",
       "      <td>Yellow Zone</td>\n",
       "    </tr>\n",
       "    <tr>\n",
       "      <th>4</th>\n",
       "      <td>5</td>\n",
       "      <td>Staten Island</td>\n",
       "      <td>Arden Heights</td>\n",
       "      <td>Boro Zone</td>\n",
       "    </tr>\n",
       "  </tbody>\n",
       "</table>\n",
       "</div>"
      ],
      "text/plain": [
       "   LocationID        Borough                     Zone service_zone\n",
       "0           1            EWR           Newark Airport          EWR\n",
       "1           2         Queens              Jamaica Bay    Boro Zone\n",
       "2           3          Bronx  Allerton/Pelham Gardens    Boro Zone\n",
       "3           4      Manhattan            Alphabet City  Yellow Zone\n",
       "4           5  Staten Island            Arden Heights    Boro Zone"
      ]
     },
     "execution_count": 52,
     "metadata": {},
     "output_type": "execute_result"
    }
   ],
   "source": [
    "taxi_loc.head()"
   ]
  },
  {
   "cell_type": "code",
   "execution_count": 54,
   "id": "e5e73b82",
   "metadata": {},
   "outputs": [
    {
     "data": {
      "text/plain": [
       "265"
      ]
     },
     "execution_count": 54,
     "metadata": {},
     "output_type": "execute_result"
    }
   ],
   "source": [
    "taxi_loc['LocationID'].max()"
   ]
  },
  {
   "cell_type": "markdown",
   "id": "43fb8c4c",
   "metadata": {},
   "source": [
    "By checking the taxi lookup, we can see that there are 265 NewYork Location Zones."
   ]
  },
  {
   "cell_type": "code",
   "execution_count": 55,
   "id": "e65ba7a9",
   "metadata": {},
   "outputs": [
    {
     "data": {
      "text/html": [
       "<div>\n",
       "<style scoped>\n",
       "    .dataframe tbody tr th:only-of-type {\n",
       "        vertical-align: middle;\n",
       "    }\n",
       "\n",
       "    .dataframe tbody tr th {\n",
       "        vertical-align: top;\n",
       "    }\n",
       "\n",
       "    .dataframe thead th {\n",
       "        text-align: right;\n",
       "    }\n",
       "</style>\n",
       "<table border=\"1\" class=\"dataframe\">\n",
       "  <thead>\n",
       "    <tr style=\"text-align: right;\">\n",
       "      <th></th>\n",
       "      <th>VendorID</th>\n",
       "      <th>tpep_pickup_datetime</th>\n",
       "      <th>tpep_dropoff_datetime</th>\n",
       "      <th>passenger_count</th>\n",
       "      <th>trip_distance</th>\n",
       "      <th>RatecodeID</th>\n",
       "      <th>store_and_fwd_flag</th>\n",
       "      <th>PULocationID</th>\n",
       "      <th>DOLocationID</th>\n",
       "      <th>payment_type</th>\n",
       "      <th>...</th>\n",
       "      <th>mta_tax</th>\n",
       "      <th>tip_amount</th>\n",
       "      <th>tolls_amount</th>\n",
       "      <th>improvement_surcharge</th>\n",
       "      <th>total_amount</th>\n",
       "      <th>congestion_surcharge</th>\n",
       "      <th>airport_fee</th>\n",
       "      <th>trip_times</th>\n",
       "      <th>pickup_times</th>\n",
       "      <th>Speed</th>\n",
       "    </tr>\n",
       "  </thead>\n",
       "  <tbody>\n",
       "  </tbody>\n",
       "</table>\n",
       "<p>0 rows × 22 columns</p>\n",
       "</div>"
      ],
      "text/plain": [
       "Empty DataFrame\n",
       "Columns: [VendorID, tpep_pickup_datetime, tpep_dropoff_datetime, passenger_count, trip_distance, RatecodeID, store_and_fwd_flag, PULocationID, DOLocationID, payment_type, fare_amount, extra, mta_tax, tip_amount, tolls_amount, improvement_surcharge, total_amount, congestion_surcharge, airport_fee, trip_times, pickup_times, Speed]\n",
       "Index: []\n",
       "\n",
       "[0 rows x 22 columns]"
      ]
     },
     "execution_count": 55,
     "metadata": {},
     "output_type": "execute_result"
    }
   ],
   "source": [
    "nyc_taxi_Jan_2022[(nyc_taxi_Jan_2022['PULocationID']<1) & (nyc_taxi_Jan_2022['PULocationID']>265)]"
   ]
  },
  {
   "cell_type": "markdown",
   "id": "c68cb7b4",
   "metadata": {},
   "source": [
    "From the above observation, there are no outliers."
   ]
  },
  {
   "cell_type": "markdown",
   "id": "9c2f6a86",
   "metadata": {},
   "source": [
    "## 1.i. Pickup and Drop of Time:"
   ]
  },
  {
   "cell_type": "code",
   "execution_count": 58,
   "id": "bb145acb",
   "metadata": {},
   "outputs": [
    {
     "data": {
      "text/plain": [
       "Timestamp('2008-12-31 23:03:01')"
      ]
     },
     "execution_count": 58,
     "metadata": {},
     "output_type": "execute_result"
    }
   ],
   "source": [
    "nyc_taxi_Jan_2022['tpep_pickup_datetime'].min()"
   ]
  },
  {
   "cell_type": "code",
   "execution_count": 59,
   "id": "3ce331b6",
   "metadata": {},
   "outputs": [
    {
     "data": {
      "text/plain": [
       "Timestamp('2022-05-18 20:47:45')"
      ]
     },
     "execution_count": 59,
     "metadata": {},
     "output_type": "execute_result"
    }
   ],
   "source": [
    "nyc_taxi_Jan_2022['tpep_dropoff_datetime'].max()"
   ]
  },
  {
   "cell_type": "code",
   "execution_count": 60,
   "id": "d7c4fa12",
   "metadata": {},
   "outputs": [
    {
     "data": {
      "text/plain": [
       "(2289580, 22)"
      ]
     },
     "execution_count": 60,
     "metadata": {},
     "output_type": "execute_result"
    }
   ],
   "source": [
    "nyc_taxi_Jan_2022.shape"
   ]
  },
  {
   "cell_type": "code",
   "execution_count": 61,
   "id": "5171803a",
   "metadata": {},
   "outputs": [
    {
     "data": {
      "text/plain": [
       "30"
      ]
     },
     "execution_count": 61,
     "metadata": {},
     "output_type": "execute_result"
    }
   ],
   "source": [
    "2289580 - 2289550"
   ]
  },
  {
   "cell_type": "code",
   "execution_count": 62,
   "id": "671256af",
   "metadata": {},
   "outputs": [],
   "source": [
    "indexAge = nyc_taxi_Jan_2022[(nyc_taxi_Jan_2022['tpep_pickup_datetime'] < '2022-01-01 00:00:00') ].index\n",
    "nyc_taxi_Jan_2022.drop(indexAge , inplace=True)"
   ]
  },
  {
   "cell_type": "code",
   "execution_count": 63,
   "id": "ff4afecf",
   "metadata": {},
   "outputs": [],
   "source": [
    "indexAge = nyc_taxi_Jan_2022[nyc_taxi_Jan_2022['tpep_pickup_datetime'] > '2022-02-01 00:00:00'].index\n",
    "nyc_taxi_Jan_2022.drop(indexAge , inplace=True)"
   ]
  },
  {
   "cell_type": "code",
   "execution_count": 64,
   "id": "9aa7b08c",
   "metadata": {},
   "outputs": [
    {
     "data": {
      "text/plain": [
       "(2289536, 22)"
      ]
     },
     "execution_count": 64,
     "metadata": {},
     "output_type": "execute_result"
    }
   ],
   "source": [
    "nyc_taxi_Jan_2022.shape"
   ]
  },
  {
   "cell_type": "code",
   "execution_count": 65,
   "id": "6ab076b9",
   "metadata": {},
   "outputs": [
    {
     "data": {
      "text/plain": [
       "14"
      ]
     },
     "execution_count": 65,
     "metadata": {},
     "output_type": "execute_result"
    }
   ],
   "source": [
    "2289550 - 2289536"
   ]
  },
  {
   "cell_type": "code",
   "execution_count": 66,
   "id": "87091a2c",
   "metadata": {},
   "outputs": [
    {
     "data": {
      "text/html": [
       "<div>\n",
       "<style scoped>\n",
       "    .dataframe tbody tr th:only-of-type {\n",
       "        vertical-align: middle;\n",
       "    }\n",
       "\n",
       "    .dataframe tbody tr th {\n",
       "        vertical-align: top;\n",
       "    }\n",
       "\n",
       "    .dataframe thead th {\n",
       "        text-align: right;\n",
       "    }\n",
       "</style>\n",
       "<table border=\"1\" class=\"dataframe\">\n",
       "  <thead>\n",
       "    <tr style=\"text-align: right;\">\n",
       "      <th></th>\n",
       "      <th>VendorID</th>\n",
       "      <th>tpep_pickup_datetime</th>\n",
       "      <th>tpep_dropoff_datetime</th>\n",
       "      <th>passenger_count</th>\n",
       "      <th>trip_distance</th>\n",
       "      <th>RatecodeID</th>\n",
       "      <th>store_and_fwd_flag</th>\n",
       "      <th>PULocationID</th>\n",
       "      <th>DOLocationID</th>\n",
       "      <th>payment_type</th>\n",
       "      <th>...</th>\n",
       "      <th>mta_tax</th>\n",
       "      <th>tip_amount</th>\n",
       "      <th>tolls_amount</th>\n",
       "      <th>improvement_surcharge</th>\n",
       "      <th>total_amount</th>\n",
       "      <th>congestion_surcharge</th>\n",
       "      <th>airport_fee</th>\n",
       "      <th>trip_times</th>\n",
       "      <th>pickup_times</th>\n",
       "      <th>Speed</th>\n",
       "    </tr>\n",
       "  </thead>\n",
       "  <tbody>\n",
       "  </tbody>\n",
       "</table>\n",
       "<p>0 rows × 22 columns</p>\n",
       "</div>"
      ],
      "text/plain": [
       "Empty DataFrame\n",
       "Columns: [VendorID, tpep_pickup_datetime, tpep_dropoff_datetime, passenger_count, trip_distance, RatecodeID, store_and_fwd_flag, PULocationID, DOLocationID, payment_type, fare_amount, extra, mta_tax, tip_amount, tolls_amount, improvement_surcharge, total_amount, congestion_surcharge, airport_fee, trip_times, pickup_times, Speed]\n",
       "Index: []\n",
       "\n",
       "[0 rows x 22 columns]"
      ]
     },
     "execution_count": 66,
     "metadata": {},
     "output_type": "execute_result"
    }
   ],
   "source": [
    "nyc_taxi_Jan_2022[nyc_taxi_Jan_2022['tpep_dropoff_datetime'] > '2022-02-01 12:00:00']"
   ]
  },
  {
   "cell_type": "markdown",
   "id": "d5d48da0",
   "metadata": {},
   "source": [
    "Now, we have a cleaned dataset. "
   ]
  },
  {
   "cell_type": "markdown",
   "id": "bdeef4f2",
   "metadata": {},
   "source": [
    "### We save this cleaned into new dataset."
   ]
  },
  {
   "cell_type": "code",
   "execution_count": 63,
   "id": "4370e365",
   "metadata": {},
   "outputs": [
    {
     "data": {
      "text/html": [
       "<div>\n",
       "<style scoped>\n",
       "    .dataframe tbody tr th:only-of-type {\n",
       "        vertical-align: middle;\n",
       "    }\n",
       "\n",
       "    .dataframe tbody tr th {\n",
       "        vertical-align: top;\n",
       "    }\n",
       "\n",
       "    .dataframe thead th {\n",
       "        text-align: right;\n",
       "    }\n",
       "</style>\n",
       "<table border=\"1\" class=\"dataframe\">\n",
       "  <thead>\n",
       "    <tr style=\"text-align: right;\">\n",
       "      <th></th>\n",
       "      <th>VendorID</th>\n",
       "      <th>tpep_pickup_datetime</th>\n",
       "      <th>tpep_dropoff_datetime</th>\n",
       "      <th>passenger_count</th>\n",
       "      <th>trip_distance</th>\n",
       "      <th>RatecodeID</th>\n",
       "      <th>store_and_fwd_flag</th>\n",
       "      <th>PULocationID</th>\n",
       "      <th>DOLocationID</th>\n",
       "      <th>payment_type</th>\n",
       "      <th>...</th>\n",
       "      <th>mta_tax</th>\n",
       "      <th>tip_amount</th>\n",
       "      <th>tolls_amount</th>\n",
       "      <th>improvement_surcharge</th>\n",
       "      <th>total_amount</th>\n",
       "      <th>congestion_surcharge</th>\n",
       "      <th>airport_fee</th>\n",
       "      <th>trip_times</th>\n",
       "      <th>pickup_times</th>\n",
       "      <th>Speed</th>\n",
       "    </tr>\n",
       "  </thead>\n",
       "  <tbody>\n",
       "    <tr>\n",
       "      <th>0</th>\n",
       "      <td>1</td>\n",
       "      <td>2022-01-01 00:35:40</td>\n",
       "      <td>2022-01-01 00:53:29</td>\n",
       "      <td>2.0</td>\n",
       "      <td>3.80</td>\n",
       "      <td>1.0</td>\n",
       "      <td>N</td>\n",
       "      <td>142</td>\n",
       "      <td>236</td>\n",
       "      <td>1</td>\n",
       "      <td>...</td>\n",
       "      <td>0.5</td>\n",
       "      <td>3.65</td>\n",
       "      <td>0.0</td>\n",
       "      <td>0.3</td>\n",
       "      <td>21.95</td>\n",
       "      <td>2.5</td>\n",
       "      <td>0.0</td>\n",
       "      <td>17.816667</td>\n",
       "      <td>1.641023e+09</td>\n",
       "      <td>12.797007</td>\n",
       "    </tr>\n",
       "    <tr>\n",
       "      <th>1</th>\n",
       "      <td>1</td>\n",
       "      <td>2022-01-01 00:33:43</td>\n",
       "      <td>2022-01-01 00:42:07</td>\n",
       "      <td>1.0</td>\n",
       "      <td>2.10</td>\n",
       "      <td>1.0</td>\n",
       "      <td>N</td>\n",
       "      <td>236</td>\n",
       "      <td>42</td>\n",
       "      <td>1</td>\n",
       "      <td>...</td>\n",
       "      <td>0.5</td>\n",
       "      <td>4.00</td>\n",
       "      <td>0.0</td>\n",
       "      <td>0.3</td>\n",
       "      <td>13.30</td>\n",
       "      <td>0.0</td>\n",
       "      <td>0.0</td>\n",
       "      <td>8.400000</td>\n",
       "      <td>1.641022e+09</td>\n",
       "      <td>15.000000</td>\n",
       "    </tr>\n",
       "    <tr>\n",
       "      <th>2</th>\n",
       "      <td>2</td>\n",
       "      <td>2022-01-01 00:53:21</td>\n",
       "      <td>2022-01-01 01:02:19</td>\n",
       "      <td>1.0</td>\n",
       "      <td>0.97</td>\n",
       "      <td>1.0</td>\n",
       "      <td>N</td>\n",
       "      <td>166</td>\n",
       "      <td>166</td>\n",
       "      <td>1</td>\n",
       "      <td>...</td>\n",
       "      <td>0.5</td>\n",
       "      <td>1.76</td>\n",
       "      <td>0.0</td>\n",
       "      <td>0.3</td>\n",
       "      <td>10.56</td>\n",
       "      <td>0.0</td>\n",
       "      <td>0.0</td>\n",
       "      <td>8.966667</td>\n",
       "      <td>1.641024e+09</td>\n",
       "      <td>6.490706</td>\n",
       "    </tr>\n",
       "    <tr>\n",
       "      <th>3</th>\n",
       "      <td>2</td>\n",
       "      <td>2022-01-01 00:25:21</td>\n",
       "      <td>2022-01-01 00:35:23</td>\n",
       "      <td>1.0</td>\n",
       "      <td>1.09</td>\n",
       "      <td>1.0</td>\n",
       "      <td>N</td>\n",
       "      <td>114</td>\n",
       "      <td>68</td>\n",
       "      <td>2</td>\n",
       "      <td>...</td>\n",
       "      <td>0.5</td>\n",
       "      <td>0.00</td>\n",
       "      <td>0.0</td>\n",
       "      <td>0.3</td>\n",
       "      <td>11.80</td>\n",
       "      <td>2.5</td>\n",
       "      <td>0.0</td>\n",
       "      <td>10.033333</td>\n",
       "      <td>1.641022e+09</td>\n",
       "      <td>6.518272</td>\n",
       "    </tr>\n",
       "    <tr>\n",
       "      <th>4</th>\n",
       "      <td>2</td>\n",
       "      <td>2022-01-01 00:36:48</td>\n",
       "      <td>2022-01-01 01:14:20</td>\n",
       "      <td>1.0</td>\n",
       "      <td>4.30</td>\n",
       "      <td>1.0</td>\n",
       "      <td>N</td>\n",
       "      <td>68</td>\n",
       "      <td>163</td>\n",
       "      <td>1</td>\n",
       "      <td>...</td>\n",
       "      <td>0.5</td>\n",
       "      <td>3.00</td>\n",
       "      <td>0.0</td>\n",
       "      <td>0.3</td>\n",
       "      <td>30.30</td>\n",
       "      <td>2.5</td>\n",
       "      <td>0.0</td>\n",
       "      <td>37.533333</td>\n",
       "      <td>1.641023e+09</td>\n",
       "      <td>6.873890</td>\n",
       "    </tr>\n",
       "  </tbody>\n",
       "</table>\n",
       "<p>5 rows × 22 columns</p>\n",
       "</div>"
      ],
      "text/plain": [
       "   VendorID tpep_pickup_datetime tpep_dropoff_datetime  passenger_count  \\\n",
       "0         1  2022-01-01 00:35:40   2022-01-01 00:53:29              2.0   \n",
       "1         1  2022-01-01 00:33:43   2022-01-01 00:42:07              1.0   \n",
       "2         2  2022-01-01 00:53:21   2022-01-01 01:02:19              1.0   \n",
       "3         2  2022-01-01 00:25:21   2022-01-01 00:35:23              1.0   \n",
       "4         2  2022-01-01 00:36:48   2022-01-01 01:14:20              1.0   \n",
       "\n",
       "   trip_distance  RatecodeID store_and_fwd_flag  PULocationID  DOLocationID  \\\n",
       "0           3.80         1.0                  N           142           236   \n",
       "1           2.10         1.0                  N           236            42   \n",
       "2           0.97         1.0                  N           166           166   \n",
       "3           1.09         1.0                  N           114            68   \n",
       "4           4.30         1.0                  N            68           163   \n",
       "\n",
       "   payment_type  ...  mta_tax  tip_amount  tolls_amount  \\\n",
       "0             1  ...      0.5        3.65           0.0   \n",
       "1             1  ...      0.5        4.00           0.0   \n",
       "2             1  ...      0.5        1.76           0.0   \n",
       "3             2  ...      0.5        0.00           0.0   \n",
       "4             1  ...      0.5        3.00           0.0   \n",
       "\n",
       "   improvement_surcharge  total_amount  congestion_surcharge  airport_fee  \\\n",
       "0                    0.3         21.95                   2.5          0.0   \n",
       "1                    0.3         13.30                   0.0          0.0   \n",
       "2                    0.3         10.56                   0.0          0.0   \n",
       "3                    0.3         11.80                   2.5          0.0   \n",
       "4                    0.3         30.30                   2.5          0.0   \n",
       "\n",
       "   trip_times  pickup_times      Speed  \n",
       "0   17.816667  1.641023e+09  12.797007  \n",
       "1    8.400000  1.641022e+09  15.000000  \n",
       "2    8.966667  1.641024e+09   6.490706  \n",
       "3   10.033333  1.641022e+09   6.518272  \n",
       "4   37.533333  1.641023e+09   6.873890  \n",
       "\n",
       "[5 rows x 22 columns]"
      ]
     },
     "execution_count": 63,
     "metadata": {},
     "output_type": "execute_result"
    }
   ],
   "source": [
    "nyc_taxi_Jan_2022.head()"
   ]
  },
  {
   "cell_type": "code",
   "execution_count": 64,
   "id": "e3329800",
   "metadata": {},
   "outputs": [],
   "source": [
    "# save the data\n",
    "output_dir = \"D:/2_MS_in_DS/2nd_Semester/Machine_Learning/Project/Data/NYC_Taxi_Data/\"\n",
    "nyc_taxi_Jan_2022.to_csv(output_dir+\"yellow_tripdata_2022-01_cleaned.csv\")"
   ]
  },
  {
   "cell_type": "code",
   "execution_count": 68,
   "id": "29e40522",
   "metadata": {},
   "outputs": [
    {
     "data": {
      "text/plain": [
       "VendorID                          int64\n",
       "tpep_pickup_datetime     datetime64[ns]\n",
       "tpep_dropoff_datetime    datetime64[ns]\n",
       "passenger_count                 float64\n",
       "trip_distance                   float64\n",
       "RatecodeID                      float64\n",
       "store_and_fwd_flag               object\n",
       "PULocationID                      int64\n",
       "DOLocationID                      int64\n",
       "payment_type                      int64\n",
       "fare_amount                     float64\n",
       "extra                           float64\n",
       "mta_tax                         float64\n",
       "tip_amount                      float64\n",
       "tolls_amount                    float64\n",
       "improvement_surcharge           float64\n",
       "total_amount                    float64\n",
       "congestion_surcharge            float64\n",
       "airport_fee                     float64\n",
       "trip_times                      float64\n",
       "pickup_times                    float64\n",
       "Speed                           float64\n",
       "WeekDay                          object\n",
       "dtype: object"
      ]
     },
     "execution_count": 68,
     "metadata": {},
     "output_type": "execute_result"
    }
   ],
   "source": [
    "nyc_taxi_Jan_2022.dtypes"
   ]
  },
  {
   "cell_type": "markdown",
   "id": "a07e39c6",
   "metadata": {},
   "source": [
    "## 2. Weather Data"
   ]
  },
  {
   "cell_type": "markdown",
   "id": "61006eba",
   "metadata": {},
   "source": [
    "### Read the data"
   ]
  },
  {
   "cell_type": "code",
   "execution_count": 128,
   "id": "baa2c39e",
   "metadata": {},
   "outputs": [],
   "source": [
    "weather_data_Jan_2022 =  pd.read_csv(weather_input_dir+\"weather_data_New_York_City_2022-01-01_2022-01-31.csv\")"
   ]
  },
  {
   "cell_type": "code",
   "execution_count": 129,
   "id": "84f62e46",
   "metadata": {},
   "outputs": [
    {
     "data": {
      "text/html": [
       "<div>\n",
       "<style scoped>\n",
       "    .dataframe tbody tr th:only-of-type {\n",
       "        vertical-align: middle;\n",
       "    }\n",
       "\n",
       "    .dataframe tbody tr th {\n",
       "        vertical-align: top;\n",
       "    }\n",
       "\n",
       "    .dataframe thead th {\n",
       "        text-align: right;\n",
       "    }\n",
       "</style>\n",
       "<table border=\"1\" class=\"dataframe\">\n",
       "  <thead>\n",
       "    <tr style=\"text-align: right;\">\n",
       "      <th></th>\n",
       "      <th>name</th>\n",
       "      <th>datetime</th>\n",
       "      <th>temp</th>\n",
       "      <th>feelslike</th>\n",
       "      <th>dew</th>\n",
       "      <th>humidity</th>\n",
       "      <th>precip</th>\n",
       "      <th>precipprob</th>\n",
       "      <th>preciptype</th>\n",
       "      <th>snow</th>\n",
       "      <th>...</th>\n",
       "      <th>sealevelpressure</th>\n",
       "      <th>cloudcover</th>\n",
       "      <th>visibility</th>\n",
       "      <th>solarradiation</th>\n",
       "      <th>solarenergy</th>\n",
       "      <th>uvindex</th>\n",
       "      <th>severerisk</th>\n",
       "      <th>conditions</th>\n",
       "      <th>icon</th>\n",
       "      <th>stations</th>\n",
       "    </tr>\n",
       "  </thead>\n",
       "  <tbody>\n",
       "    <tr>\n",
       "      <th>0</th>\n",
       "      <td>New York, NY, United States</td>\n",
       "      <td>2022-01-01T00:00:00</td>\n",
       "      <td>51.2</td>\n",
       "      <td>51.2</td>\n",
       "      <td>47.0</td>\n",
       "      <td>85.69</td>\n",
       "      <td>0.0</td>\n",
       "      <td>0</td>\n",
       "      <td>NaN</td>\n",
       "      <td>0.0</td>\n",
       "      <td>...</td>\n",
       "      <td>1012.7</td>\n",
       "      <td>100.0</td>\n",
       "      <td>7.6</td>\n",
       "      <td>NaN</td>\n",
       "      <td>NaN</td>\n",
       "      <td>NaN</td>\n",
       "      <td>NaN</td>\n",
       "      <td>Overcast</td>\n",
       "      <td>cloudy</td>\n",
       "      <td>72505394728,KLGA,KNYC,72503014732</td>\n",
       "    </tr>\n",
       "    <tr>\n",
       "      <th>1</th>\n",
       "      <td>New York, NY, United States</td>\n",
       "      <td>2022-01-01T01:00:00</td>\n",
       "      <td>51.2</td>\n",
       "      <td>51.2</td>\n",
       "      <td>47.0</td>\n",
       "      <td>85.69</td>\n",
       "      <td>0.0</td>\n",
       "      <td>0</td>\n",
       "      <td>NaN</td>\n",
       "      <td>0.0</td>\n",
       "      <td>...</td>\n",
       "      <td>1012.5</td>\n",
       "      <td>100.0</td>\n",
       "      <td>7.2</td>\n",
       "      <td>NaN</td>\n",
       "      <td>NaN</td>\n",
       "      <td>NaN</td>\n",
       "      <td>NaN</td>\n",
       "      <td>Overcast</td>\n",
       "      <td>cloudy</td>\n",
       "      <td>72505394728,KLGA,KNYC,72503014732</td>\n",
       "    </tr>\n",
       "    <tr>\n",
       "      <th>2</th>\n",
       "      <td>New York, NY, United States</td>\n",
       "      <td>2022-01-01T02:00:00</td>\n",
       "      <td>51.2</td>\n",
       "      <td>51.2</td>\n",
       "      <td>47.7</td>\n",
       "      <td>87.84</td>\n",
       "      <td>0.0</td>\n",
       "      <td>0</td>\n",
       "      <td>NaN</td>\n",
       "      <td>0.0</td>\n",
       "      <td>...</td>\n",
       "      <td>1012.6</td>\n",
       "      <td>100.0</td>\n",
       "      <td>6.3</td>\n",
       "      <td>NaN</td>\n",
       "      <td>NaN</td>\n",
       "      <td>NaN</td>\n",
       "      <td>NaN</td>\n",
       "      <td>Overcast</td>\n",
       "      <td>cloudy</td>\n",
       "      <td>72505394728,KLGA,KNYC,72503014732</td>\n",
       "    </tr>\n",
       "    <tr>\n",
       "      <th>3</th>\n",
       "      <td>New York, NY, United States</td>\n",
       "      <td>2022-01-01T03:00:00</td>\n",
       "      <td>51.2</td>\n",
       "      <td>51.2</td>\n",
       "      <td>47.0</td>\n",
       "      <td>85.69</td>\n",
       "      <td>0.0</td>\n",
       "      <td>0</td>\n",
       "      <td>NaN</td>\n",
       "      <td>0.0</td>\n",
       "      <td>...</td>\n",
       "      <td>1012.2</td>\n",
       "      <td>100.0</td>\n",
       "      <td>8.2</td>\n",
       "      <td>NaN</td>\n",
       "      <td>NaN</td>\n",
       "      <td>NaN</td>\n",
       "      <td>NaN</td>\n",
       "      <td>Overcast</td>\n",
       "      <td>cloudy</td>\n",
       "      <td>72505394728,KLGA,KNYC,72503014732</td>\n",
       "    </tr>\n",
       "    <tr>\n",
       "      <th>4</th>\n",
       "      <td>New York, NY, United States</td>\n",
       "      <td>2022-01-01T04:00:00</td>\n",
       "      <td>50.2</td>\n",
       "      <td>50.2</td>\n",
       "      <td>47.8</td>\n",
       "      <td>91.36</td>\n",
       "      <td>0.0</td>\n",
       "      <td>0</td>\n",
       "      <td>NaN</td>\n",
       "      <td>0.0</td>\n",
       "      <td>...</td>\n",
       "      <td>1011.2</td>\n",
       "      <td>100.0</td>\n",
       "      <td>7.1</td>\n",
       "      <td>NaN</td>\n",
       "      <td>NaN</td>\n",
       "      <td>NaN</td>\n",
       "      <td>NaN</td>\n",
       "      <td>Overcast</td>\n",
       "      <td>cloudy</td>\n",
       "      <td>72505394728,KLGA,KNYC</td>\n",
       "    </tr>\n",
       "  </tbody>\n",
       "</table>\n",
       "<p>5 rows × 24 columns</p>\n",
       "</div>"
      ],
      "text/plain": [
       "                          name             datetime  temp  feelslike   dew  \\\n",
       "0  New York, NY, United States  2022-01-01T00:00:00  51.2       51.2  47.0   \n",
       "1  New York, NY, United States  2022-01-01T01:00:00  51.2       51.2  47.0   \n",
       "2  New York, NY, United States  2022-01-01T02:00:00  51.2       51.2  47.7   \n",
       "3  New York, NY, United States  2022-01-01T03:00:00  51.2       51.2  47.0   \n",
       "4  New York, NY, United States  2022-01-01T04:00:00  50.2       50.2  47.8   \n",
       "\n",
       "   humidity  precip  precipprob preciptype  snow  ...  sealevelpressure  \\\n",
       "0     85.69     0.0           0        NaN   0.0  ...            1012.7   \n",
       "1     85.69     0.0           0        NaN   0.0  ...            1012.5   \n",
       "2     87.84     0.0           0        NaN   0.0  ...            1012.6   \n",
       "3     85.69     0.0           0        NaN   0.0  ...            1012.2   \n",
       "4     91.36     0.0           0        NaN   0.0  ...            1011.2   \n",
       "\n",
       "   cloudcover  visibility  solarradiation  solarenergy  uvindex  severerisk  \\\n",
       "0       100.0         7.6             NaN          NaN      NaN         NaN   \n",
       "1       100.0         7.2             NaN          NaN      NaN         NaN   \n",
       "2       100.0         6.3             NaN          NaN      NaN         NaN   \n",
       "3       100.0         8.2             NaN          NaN      NaN         NaN   \n",
       "4       100.0         7.1             NaN          NaN      NaN         NaN   \n",
       "\n",
       "   conditions    icon                           stations  \n",
       "0    Overcast  cloudy  72505394728,KLGA,KNYC,72503014732  \n",
       "1    Overcast  cloudy  72505394728,KLGA,KNYC,72503014732  \n",
       "2    Overcast  cloudy  72505394728,KLGA,KNYC,72503014732  \n",
       "3    Overcast  cloudy  72505394728,KLGA,KNYC,72503014732  \n",
       "4    Overcast  cloudy              72505394728,KLGA,KNYC  \n",
       "\n",
       "[5 rows x 24 columns]"
      ]
     },
     "execution_count": 129,
     "metadata": {},
     "output_type": "execute_result"
    }
   ],
   "source": [
    "weather_data_Jan_2022.head()"
   ]
  },
  {
   "cell_type": "markdown",
   "id": "966d96ae",
   "metadata": {},
   "source": [
    "## 2.a. Check for Missing Values"
   ]
  },
  {
   "cell_type": "code",
   "execution_count": 130,
   "id": "ae1576d9",
   "metadata": {},
   "outputs": [],
   "source": [
    "nan_count  = pd.DataFrame()\n",
    "nan_count['Count'] = weather_data_Jan_2022.isna().sum()"
   ]
  },
  {
   "cell_type": "code",
   "execution_count": 131,
   "id": "ad8b7c76",
   "metadata": {},
   "outputs": [
    {
     "data": {
      "text/html": [
       "<div>\n",
       "<style scoped>\n",
       "    .dataframe tbody tr th:only-of-type {\n",
       "        vertical-align: middle;\n",
       "    }\n",
       "\n",
       "    .dataframe tbody tr th {\n",
       "        vertical-align: top;\n",
       "    }\n",
       "\n",
       "    .dataframe thead th {\n",
       "        text-align: right;\n",
       "    }\n",
       "</style>\n",
       "<table border=\"1\" class=\"dataframe\">\n",
       "  <thead>\n",
       "    <tr style=\"text-align: right;\">\n",
       "      <th></th>\n",
       "      <th>Count</th>\n",
       "    </tr>\n",
       "  </thead>\n",
       "  <tbody>\n",
       "    <tr>\n",
       "      <th>name</th>\n",
       "      <td>0</td>\n",
       "    </tr>\n",
       "    <tr>\n",
       "      <th>datetime</th>\n",
       "      <td>0</td>\n",
       "    </tr>\n",
       "    <tr>\n",
       "      <th>temp</th>\n",
       "      <td>0</td>\n",
       "    </tr>\n",
       "    <tr>\n",
       "      <th>feelslike</th>\n",
       "      <td>0</td>\n",
       "    </tr>\n",
       "    <tr>\n",
       "      <th>dew</th>\n",
       "      <td>0</td>\n",
       "    </tr>\n",
       "    <tr>\n",
       "      <th>humidity</th>\n",
       "      <td>0</td>\n",
       "    </tr>\n",
       "    <tr>\n",
       "      <th>precip</th>\n",
       "      <td>0</td>\n",
       "    </tr>\n",
       "    <tr>\n",
       "      <th>precipprob</th>\n",
       "      <td>0</td>\n",
       "    </tr>\n",
       "    <tr>\n",
       "      <th>preciptype</th>\n",
       "      <td>657</td>\n",
       "    </tr>\n",
       "    <tr>\n",
       "      <th>snow</th>\n",
       "      <td>0</td>\n",
       "    </tr>\n",
       "    <tr>\n",
       "      <th>snowdepth</th>\n",
       "      <td>0</td>\n",
       "    </tr>\n",
       "    <tr>\n",
       "      <th>windgust</th>\n",
       "      <td>205</td>\n",
       "    </tr>\n",
       "    <tr>\n",
       "      <th>windspeed</th>\n",
       "      <td>0</td>\n",
       "    </tr>\n",
       "    <tr>\n",
       "      <th>winddir</th>\n",
       "      <td>0</td>\n",
       "    </tr>\n",
       "    <tr>\n",
       "      <th>sealevelpressure</th>\n",
       "      <td>0</td>\n",
       "    </tr>\n",
       "    <tr>\n",
       "      <th>cloudcover</th>\n",
       "      <td>0</td>\n",
       "    </tr>\n",
       "    <tr>\n",
       "      <th>visibility</th>\n",
       "      <td>0</td>\n",
       "    </tr>\n",
       "    <tr>\n",
       "      <th>solarradiation</th>\n",
       "      <td>180</td>\n",
       "    </tr>\n",
       "    <tr>\n",
       "      <th>solarenergy</th>\n",
       "      <td>372</td>\n",
       "    </tr>\n",
       "    <tr>\n",
       "      <th>uvindex</th>\n",
       "      <td>180</td>\n",
       "    </tr>\n",
       "    <tr>\n",
       "      <th>severerisk</th>\n",
       "      <td>360</td>\n",
       "    </tr>\n",
       "    <tr>\n",
       "      <th>conditions</th>\n",
       "      <td>0</td>\n",
       "    </tr>\n",
       "    <tr>\n",
       "      <th>icon</th>\n",
       "      <td>0</td>\n",
       "    </tr>\n",
       "    <tr>\n",
       "      <th>stations</th>\n",
       "      <td>0</td>\n",
       "    </tr>\n",
       "  </tbody>\n",
       "</table>\n",
       "</div>"
      ],
      "text/plain": [
       "                  Count\n",
       "name                  0\n",
       "datetime              0\n",
       "temp                  0\n",
       "feelslike             0\n",
       "dew                   0\n",
       "humidity              0\n",
       "precip                0\n",
       "precipprob            0\n",
       "preciptype          657\n",
       "snow                  0\n",
       "snowdepth             0\n",
       "windgust            205\n",
       "windspeed             0\n",
       "winddir               0\n",
       "sealevelpressure      0\n",
       "cloudcover            0\n",
       "visibility            0\n",
       "solarradiation      180\n",
       "solarenergy         372\n",
       "uvindex             180\n",
       "severerisk          360\n",
       "conditions            0\n",
       "icon                  0\n",
       "stations              0"
      ]
     },
     "execution_count": 131,
     "metadata": {},
     "output_type": "execute_result"
    }
   ],
   "source": [
    "nan_count"
   ]
  },
  {
   "cell_type": "code",
   "execution_count": 132,
   "id": "b37071fb",
   "metadata": {},
   "outputs": [
    {
     "data": {
      "text/plain": [
       "Text(0.5, 1.0, 'Number of Missing values in attributes before Column Selection')"
      ]
     },
     "execution_count": 132,
     "metadata": {},
     "output_type": "execute_result"
    },
    {
     "data": {
      "image/png": "[encoded data removed]",
      "text/plain": [
       "<Figure size 432x288 with 1 Axes>"
      ]
     },
     "metadata": {
      "needs_background": "light"
     },
     "output_type": "display_data"
    }
   ],
   "source": [
    "nan_count.plot(kind=\"bar\")\n",
    "plt.xlabel('Different Attributes of the Dataset') \n",
    "plt.ylabel('Count') \n",
    "plt.title(\"Number of Missing values in attributes before Column Selection\")"
   ]
  },
  {
   "cell_type": "markdown",
   "id": "1f5712cd",
   "metadata": {},
   "source": [
    "### Selecting only the required columns. "
   ]
  },
  {
   "cell_type": "code",
   "execution_count": 133,
   "id": "5f86f076",
   "metadata": {},
   "outputs": [
    {
     "data": {
      "text/html": [
       "<div>\n",
       "<style scoped>\n",
       "    .dataframe tbody tr th:only-of-type {\n",
       "        vertical-align: middle;\n",
       "    }\n",
       "\n",
       "    .dataframe tbody tr th {\n",
       "        vertical-align: top;\n",
       "    }\n",
       "\n",
       "    .dataframe thead th {\n",
       "        text-align: right;\n",
       "    }\n",
       "</style>\n",
       "<table border=\"1\" class=\"dataframe\">\n",
       "  <thead>\n",
       "    <tr style=\"text-align: right;\">\n",
       "      <th></th>\n",
       "      <th>name</th>\n",
       "      <th>datetime</th>\n",
       "      <th>temp</th>\n",
       "      <th>feelslike</th>\n",
       "      <th>dew</th>\n",
       "      <th>humidity</th>\n",
       "      <th>precip</th>\n",
       "      <th>precipprob</th>\n",
       "      <th>preciptype</th>\n",
       "      <th>snow</th>\n",
       "      <th>...</th>\n",
       "      <th>sealevelpressure</th>\n",
       "      <th>cloudcover</th>\n",
       "      <th>visibility</th>\n",
       "      <th>solarradiation</th>\n",
       "      <th>solarenergy</th>\n",
       "      <th>uvindex</th>\n",
       "      <th>severerisk</th>\n",
       "      <th>conditions</th>\n",
       "      <th>icon</th>\n",
       "      <th>stations</th>\n",
       "    </tr>\n",
       "  </thead>\n",
       "  <tbody>\n",
       "    <tr>\n",
       "      <th>0</th>\n",
       "      <td>New York, NY, United States</td>\n",
       "      <td>2022-01-01T00:00:00</td>\n",
       "      <td>51.2</td>\n",
       "      <td>51.2</td>\n",
       "      <td>47.0</td>\n",
       "      <td>85.69</td>\n",
       "      <td>0.0</td>\n",
       "      <td>0</td>\n",
       "      <td>NaN</td>\n",
       "      <td>0.0</td>\n",
       "      <td>...</td>\n",
       "      <td>1012.7</td>\n",
       "      <td>100.0</td>\n",
       "      <td>7.6</td>\n",
       "      <td>NaN</td>\n",
       "      <td>NaN</td>\n",
       "      <td>NaN</td>\n",
       "      <td>NaN</td>\n",
       "      <td>Overcast</td>\n",
       "      <td>cloudy</td>\n",
       "      <td>72505394728,KLGA,KNYC,72503014732</td>\n",
       "    </tr>\n",
       "    <tr>\n",
       "      <th>1</th>\n",
       "      <td>New York, NY, United States</td>\n",
       "      <td>2022-01-01T01:00:00</td>\n",
       "      <td>51.2</td>\n",
       "      <td>51.2</td>\n",
       "      <td>47.0</td>\n",
       "      <td>85.69</td>\n",
       "      <td>0.0</td>\n",
       "      <td>0</td>\n",
       "      <td>NaN</td>\n",
       "      <td>0.0</td>\n",
       "      <td>...</td>\n",
       "      <td>1012.5</td>\n",
       "      <td>100.0</td>\n",
       "      <td>7.2</td>\n",
       "      <td>NaN</td>\n",
       "      <td>NaN</td>\n",
       "      <td>NaN</td>\n",
       "      <td>NaN</td>\n",
       "      <td>Overcast</td>\n",
       "      <td>cloudy</td>\n",
       "      <td>72505394728,KLGA,KNYC,72503014732</td>\n",
       "    </tr>\n",
       "    <tr>\n",
       "      <th>2</th>\n",
       "      <td>New York, NY, United States</td>\n",
       "      <td>2022-01-01T02:00:00</td>\n",
       "      <td>51.2</td>\n",
       "      <td>51.2</td>\n",
       "      <td>47.7</td>\n",
       "      <td>87.84</td>\n",
       "      <td>0.0</td>\n",
       "      <td>0</td>\n",
       "      <td>NaN</td>\n",
       "      <td>0.0</td>\n",
       "      <td>...</td>\n",
       "      <td>1012.6</td>\n",
       "      <td>100.0</td>\n",
       "      <td>6.3</td>\n",
       "      <td>NaN</td>\n",
       "      <td>NaN</td>\n",
       "      <td>NaN</td>\n",
       "      <td>NaN</td>\n",
       "      <td>Overcast</td>\n",
       "      <td>cloudy</td>\n",
       "      <td>72505394728,KLGA,KNYC,72503014732</td>\n",
       "    </tr>\n",
       "    <tr>\n",
       "      <th>3</th>\n",
       "      <td>New York, NY, United States</td>\n",
       "      <td>2022-01-01T03:00:00</td>\n",
       "      <td>51.2</td>\n",
       "      <td>51.2</td>\n",
       "      <td>47.0</td>\n",
       "      <td>85.69</td>\n",
       "      <td>0.0</td>\n",
       "      <td>0</td>\n",
       "      <td>NaN</td>\n",
       "      <td>0.0</td>\n",
       "      <td>...</td>\n",
       "      <td>1012.2</td>\n",
       "      <td>100.0</td>\n",
       "      <td>8.2</td>\n",
       "      <td>NaN</td>\n",
       "      <td>NaN</td>\n",
       "      <td>NaN</td>\n",
       "      <td>NaN</td>\n",
       "      <td>Overcast</td>\n",
       "      <td>cloudy</td>\n",
       "      <td>72505394728,KLGA,KNYC,72503014732</td>\n",
       "    </tr>\n",
       "    <tr>\n",
       "      <th>4</th>\n",
       "      <td>New York, NY, United States</td>\n",
       "      <td>2022-01-01T04:00:00</td>\n",
       "      <td>50.2</td>\n",
       "      <td>50.2</td>\n",
       "      <td>47.8</td>\n",
       "      <td>91.36</td>\n",
       "      <td>0.0</td>\n",
       "      <td>0</td>\n",
       "      <td>NaN</td>\n",
       "      <td>0.0</td>\n",
       "      <td>...</td>\n",
       "      <td>1011.2</td>\n",
       "      <td>100.0</td>\n",
       "      <td>7.1</td>\n",
       "      <td>NaN</td>\n",
       "      <td>NaN</td>\n",
       "      <td>NaN</td>\n",
       "      <td>NaN</td>\n",
       "      <td>Overcast</td>\n",
       "      <td>cloudy</td>\n",
       "      <td>72505394728,KLGA,KNYC</td>\n",
       "    </tr>\n",
       "  </tbody>\n",
       "</table>\n",
       "<p>5 rows × 24 columns</p>\n",
       "</div>"
      ],
      "text/plain": [
       "                          name             datetime  temp  feelslike   dew  \\\n",
       "0  New York, NY, United States  2022-01-01T00:00:00  51.2       51.2  47.0   \n",
       "1  New York, NY, United States  2022-01-01T01:00:00  51.2       51.2  47.0   \n",
       "2  New York, NY, United States  2022-01-01T02:00:00  51.2       51.2  47.7   \n",
       "3  New York, NY, United States  2022-01-01T03:00:00  51.2       51.2  47.0   \n",
       "4  New York, NY, United States  2022-01-01T04:00:00  50.2       50.2  47.8   \n",
       "\n",
       "   humidity  precip  precipprob preciptype  snow  ...  sealevelpressure  \\\n",
       "0     85.69     0.0           0        NaN   0.0  ...            1012.7   \n",
       "1     85.69     0.0           0        NaN   0.0  ...            1012.5   \n",
       "2     87.84     0.0           0        NaN   0.0  ...            1012.6   \n",
       "3     85.69     0.0           0        NaN   0.0  ...            1012.2   \n",
       "4     91.36     0.0           0        NaN   0.0  ...            1011.2   \n",
       "\n",
       "   cloudcover  visibility  solarradiation  solarenergy  uvindex  severerisk  \\\n",
       "0       100.0         7.6             NaN          NaN      NaN         NaN   \n",
       "1       100.0         7.2             NaN          NaN      NaN         NaN   \n",
       "2       100.0         6.3             NaN          NaN      NaN         NaN   \n",
       "3       100.0         8.2             NaN          NaN      NaN         NaN   \n",
       "4       100.0         7.1             NaN          NaN      NaN         NaN   \n",
       "\n",
       "   conditions    icon                           stations  \n",
       "0    Overcast  cloudy  72505394728,KLGA,KNYC,72503014732  \n",
       "1    Overcast  cloudy  72505394728,KLGA,KNYC,72503014732  \n",
       "2    Overcast  cloudy  72505394728,KLGA,KNYC,72503014732  \n",
       "3    Overcast  cloudy  72505394728,KLGA,KNYC,72503014732  \n",
       "4    Overcast  cloudy              72505394728,KLGA,KNYC  \n",
       "\n",
       "[5 rows x 24 columns]"
      ]
     },
     "execution_count": 133,
     "metadata": {},
     "output_type": "execute_result"
    }
   ],
   "source": [
    "weather_data_Jan_2022.head()"
   ]
  },
  {
   "cell_type": "code",
   "execution_count": 134,
   "id": "ee6beee6",
   "metadata": {},
   "outputs": [
    {
     "data": {
      "text/html": [
       "<div>\n",
       "<style scoped>\n",
       "    .dataframe tbody tr th:only-of-type {\n",
       "        vertical-align: middle;\n",
       "    }\n",
       "\n",
       "    .dataframe tbody tr th {\n",
       "        vertical-align: top;\n",
       "    }\n",
       "\n",
       "    .dataframe thead th {\n",
       "        text-align: right;\n",
       "    }\n",
       "</style>\n",
       "<table border=\"1\" class=\"dataframe\">\n",
       "  <thead>\n",
       "    <tr style=\"text-align: right;\">\n",
       "      <th></th>\n",
       "      <th>temp</th>\n",
       "      <th>feelslike</th>\n",
       "      <th>dew</th>\n",
       "      <th>humidity</th>\n",
       "      <th>precip</th>\n",
       "      <th>precipprob</th>\n",
       "      <th>snow</th>\n",
       "      <th>snowdepth</th>\n",
       "      <th>windgust</th>\n",
       "      <th>windspeed</th>\n",
       "      <th>winddir</th>\n",
       "      <th>sealevelpressure</th>\n",
       "      <th>cloudcover</th>\n",
       "      <th>visibility</th>\n",
       "      <th>solarradiation</th>\n",
       "      <th>solarenergy</th>\n",
       "      <th>uvindex</th>\n",
       "      <th>severerisk</th>\n",
       "    </tr>\n",
       "  </thead>\n",
       "  <tbody>\n",
       "    <tr>\n",
       "      <th>count</th>\n",
       "      <td>744.000000</td>\n",
       "      <td>744.000000</td>\n",
       "      <td>744.000000</td>\n",
       "      <td>744.000000</td>\n",
       "      <td>744.000000</td>\n",
       "      <td>744.000000</td>\n",
       "      <td>744.000000</td>\n",
       "      <td>744.000000</td>\n",
       "      <td>539.000000</td>\n",
       "      <td>744.000000</td>\n",
       "      <td>744.000000</td>\n",
       "      <td>744.000000</td>\n",
       "      <td>744.000000</td>\n",
       "      <td>744.000000</td>\n",
       "      <td>564.000000</td>\n",
       "      <td>372.000000</td>\n",
       "      <td>564.000000</td>\n",
       "      <td>384.0</td>\n",
       "    </tr>\n",
       "    <tr>\n",
       "      <th>mean</th>\n",
       "      <td>30.904704</td>\n",
       "      <td>23.895296</td>\n",
       "      <td>16.331452</td>\n",
       "      <td>56.232312</td>\n",
       "      <td>0.005023</td>\n",
       "      <td>11.693548</td>\n",
       "      <td>0.008065</td>\n",
       "      <td>1.100121</td>\n",
       "      <td>18.143970</td>\n",
       "      <td>8.336290</td>\n",
       "      <td>206.821237</td>\n",
       "      <td>1018.061828</td>\n",
       "      <td>49.062903</td>\n",
       "      <td>8.833602</td>\n",
       "      <td>102.253546</td>\n",
       "      <td>0.558333</td>\n",
       "      <td>1.007092</td>\n",
       "      <td>10.0</td>\n",
       "    </tr>\n",
       "    <tr>\n",
       "      <th>std</th>\n",
       "      <td>9.934512</td>\n",
       "      <td>12.924533</td>\n",
       "      <td>14.116709</td>\n",
       "      <td>17.510298</td>\n",
       "      <td>0.022211</td>\n",
       "      <td>32.155957</td>\n",
       "      <td>0.044201</td>\n",
       "      <td>2.339522</td>\n",
       "      <td>7.570237</td>\n",
       "      <td>4.112742</td>\n",
       "      <td>121.015817</td>\n",
       "      <td>10.220504</td>\n",
       "      <td>40.968287</td>\n",
       "      <td>2.483615</td>\n",
       "      <td>155.744820</td>\n",
       "      <td>0.608883</td>\n",
       "      <td>1.608134</td>\n",
       "      <td>0.0</td>\n",
       "    </tr>\n",
       "    <tr>\n",
       "      <th>min</th>\n",
       "      <td>10.400000</td>\n",
       "      <td>-4.600000</td>\n",
       "      <td>-7.700000</td>\n",
       "      <td>27.270000</td>\n",
       "      <td>0.000000</td>\n",
       "      <td>0.000000</td>\n",
       "      <td>0.000000</td>\n",
       "      <td>0.000000</td>\n",
       "      <td>2.200000</td>\n",
       "      <td>0.000000</td>\n",
       "      <td>0.000000</td>\n",
       "      <td>984.900000</td>\n",
       "      <td>0.000000</td>\n",
       "      <td>0.200000</td>\n",
       "      <td>0.000000</td>\n",
       "      <td>0.000000</td>\n",
       "      <td>0.000000</td>\n",
       "      <td>10.0</td>\n",
       "    </tr>\n",
       "    <tr>\n",
       "      <th>25%</th>\n",
       "      <td>23.500000</td>\n",
       "      <td>15.575000</td>\n",
       "      <td>5.900000</td>\n",
       "      <td>42.652500</td>\n",
       "      <td>0.000000</td>\n",
       "      <td>0.000000</td>\n",
       "      <td>0.000000</td>\n",
       "      <td>0.000000</td>\n",
       "      <td>12.800000</td>\n",
       "      <td>5.500000</td>\n",
       "      <td>63.750000</td>\n",
       "      <td>1011.200000</td>\n",
       "      <td>13.400000</td>\n",
       "      <td>9.900000</td>\n",
       "      <td>0.000000</td>\n",
       "      <td>0.100000</td>\n",
       "      <td>0.000000</td>\n",
       "      <td>10.0</td>\n",
       "    </tr>\n",
       "    <tr>\n",
       "      <th>50%</th>\n",
       "      <td>30.500000</td>\n",
       "      <td>24.200000</td>\n",
       "      <td>14.000000</td>\n",
       "      <td>50.990000</td>\n",
       "      <td>0.000000</td>\n",
       "      <td>0.000000</td>\n",
       "      <td>0.000000</td>\n",
       "      <td>0.000000</td>\n",
       "      <td>19.000000</td>\n",
       "      <td>8.100000</td>\n",
       "      <td>240.000000</td>\n",
       "      <td>1018.350000</td>\n",
       "      <td>23.800000</td>\n",
       "      <td>9.900000</td>\n",
       "      <td>20.000000</td>\n",
       "      <td>0.300000</td>\n",
       "      <td>0.000000</td>\n",
       "      <td>10.0</td>\n",
       "    </tr>\n",
       "    <tr>\n",
       "      <th>75%</th>\n",
       "      <td>37.400000</td>\n",
       "      <td>32.025000</td>\n",
       "      <td>25.800000</td>\n",
       "      <td>66.947500</td>\n",
       "      <td>0.000000</td>\n",
       "      <td>0.000000</td>\n",
       "      <td>0.000000</td>\n",
       "      <td>0.010000</td>\n",
       "      <td>23.700000</td>\n",
       "      <td>11.125000</td>\n",
       "      <td>305.000000</td>\n",
       "      <td>1026.300000</td>\n",
       "      <td>100.000000</td>\n",
       "      <td>9.900000</td>\n",
       "      <td>139.250000</td>\n",
       "      <td>0.900000</td>\n",
       "      <td>1.000000</td>\n",
       "      <td>10.0</td>\n",
       "    </tr>\n",
       "    <tr>\n",
       "      <th>max</th>\n",
       "      <td>58.500000</td>\n",
       "      <td>58.500000</td>\n",
       "      <td>53.500000</td>\n",
       "      <td>95.860000</td>\n",
       "      <td>0.283000</td>\n",
       "      <td>100.000000</td>\n",
       "      <td>0.250000</td>\n",
       "      <td>9.060000</td>\n",
       "      <td>35.300000</td>\n",
       "      <td>21.900000</td>\n",
       "      <td>360.000000</td>\n",
       "      <td>1036.300000</td>\n",
       "      <td>100.000000</td>\n",
       "      <td>9.900000</td>\n",
       "      <td>583.000000</td>\n",
       "      <td>2.100000</td>\n",
       "      <td>6.000000</td>\n",
       "      <td>10.0</td>\n",
       "    </tr>\n",
       "  </tbody>\n",
       "</table>\n",
       "</div>"
      ],
      "text/plain": [
       "             temp   feelslike         dew    humidity      precip  precipprob  \\\n",
       "count  744.000000  744.000000  744.000000  744.000000  744.000000  744.000000   \n",
       "mean    30.904704   23.895296   16.331452   56.232312    0.005023   11.693548   \n",
       "std      9.934512   12.924533   14.116709   17.510298    0.022211   32.155957   \n",
       "min     10.400000   -4.600000   -7.700000   27.270000    0.000000    0.000000   \n",
       "25%     23.500000   15.575000    5.900000   42.652500    0.000000    0.000000   \n",
       "50%     30.500000   24.200000   14.000000   50.990000    0.000000    0.000000   \n",
       "75%     37.400000   32.025000   25.800000   66.947500    0.000000    0.000000   \n",
       "max     58.500000   58.500000   53.500000   95.860000    0.283000  100.000000   \n",
       "\n",
       "             snow   snowdepth    windgust   windspeed     winddir  \\\n",
       "count  744.000000  744.000000  539.000000  744.000000  744.000000   \n",
       "mean     0.008065    1.100121   18.143970    8.336290  206.821237   \n",
       "std      0.044201    2.339522    7.570237    4.112742  121.015817   \n",
       "min      0.000000    0.000000    2.200000    0.000000    0.000000   \n",
       "25%      0.000000    0.000000   12.800000    5.500000   63.750000   \n",
       "50%      0.000000    0.000000   19.000000    8.100000  240.000000   \n",
       "75%      0.000000    0.010000   23.700000   11.125000  305.000000   \n",
       "max      0.250000    9.060000   35.300000   21.900000  360.000000   \n",
       "\n",
       "       sealevelpressure  cloudcover  visibility  solarradiation  solarenergy  \\\n",
       "count        744.000000  744.000000  744.000000      564.000000   372.000000   \n",
       "mean        1018.061828   49.062903    8.833602      102.253546     0.558333   \n",
       "std           10.220504   40.968287    2.483615      155.744820     0.608883   \n",
       "min          984.900000    0.000000    0.200000        0.000000     0.000000   \n",
       "25%         1011.200000   13.400000    9.900000        0.000000     0.100000   \n",
       "50%         1018.350000   23.800000    9.900000       20.000000     0.300000   \n",
       "75%         1026.300000  100.000000    9.900000      139.250000     0.900000   \n",
       "max         1036.300000  100.000000    9.900000      583.000000     2.100000   \n",
       "\n",
       "          uvindex  severerisk  \n",
       "count  564.000000       384.0  \n",
       "mean     1.007092        10.0  \n",
       "std      1.608134         0.0  \n",
       "min      0.000000        10.0  \n",
       "25%      0.000000        10.0  \n",
       "50%      0.000000        10.0  \n",
       "75%      1.000000        10.0  \n",
       "max      6.000000        10.0  "
      ]
     },
     "execution_count": 134,
     "metadata": {},
     "output_type": "execute_result"
    }
   ],
   "source": [
    "weather_data_Jan_2022.describe()"
   ]
  },
  {
   "cell_type": "code",
   "execution_count": 135,
   "id": "1d6ff849",
   "metadata": {},
   "outputs": [
    {
     "data": {
      "text/plain": [
       "name                 object\n",
       "datetime             object\n",
       "temp                float64\n",
       "feelslike           float64\n",
       "dew                 float64\n",
       "humidity            float64\n",
       "precip              float64\n",
       "precipprob            int64\n",
       "preciptype           object\n",
       "snow                float64\n",
       "snowdepth           float64\n",
       "windgust            float64\n",
       "windspeed           float64\n",
       "winddir               int64\n",
       "sealevelpressure    float64\n",
       "cloudcover          float64\n",
       "visibility          float64\n",
       "solarradiation      float64\n",
       "solarenergy         float64\n",
       "uvindex             float64\n",
       "severerisk          float64\n",
       "conditions           object\n",
       "icon                 object\n",
       "stations             object\n",
       "dtype: object"
      ]
     },
     "execution_count": 135,
     "metadata": {},
     "output_type": "execute_result"
    }
   ],
   "source": [
    "weather_data_Jan_2022.dtypes"
   ]
  },
  {
   "cell_type": "code",
   "execution_count": 136,
   "id": "d3ba213a",
   "metadata": {},
   "outputs": [],
   "source": [
    "weather_data_Jan_2022.drop(['solarradiation','solarenergy','uvindex','severerisk','windgust','preciptype'], axis=1, inplace=True)"
   ]
  },
  {
   "cell_type": "code",
   "execution_count": 137,
   "id": "9310fe87",
   "metadata": {},
   "outputs": [
    {
     "data": {
      "text/plain": [
       "name                0\n",
       "datetime            0\n",
       "temp                0\n",
       "feelslike           0\n",
       "dew                 0\n",
       "humidity            0\n",
       "precip              0\n",
       "precipprob          0\n",
       "snow                0\n",
       "snowdepth           0\n",
       "windspeed           0\n",
       "winddir             0\n",
       "sealevelpressure    0\n",
       "cloudcover          0\n",
       "visibility          0\n",
       "conditions          0\n",
       "icon                0\n",
       "stations            0\n",
       "dtype: int64"
      ]
     },
     "execution_count": 137,
     "metadata": {},
     "output_type": "execute_result"
    }
   ],
   "source": [
    "weather_data_Jan_2022.isna().sum()"
   ]
  },
  {
   "cell_type": "code",
   "execution_count": 140,
   "id": "bd4a8bfa",
   "metadata": {},
   "outputs": [
    {
     "data": {
      "text/plain": [
       "Text(0.5, 1.0, 'Number of Missing values in attributes after Column Selection')"
      ]
     },
     "execution_count": 140,
     "metadata": {},
     "output_type": "execute_result"
    },
    {
     "data": {
      "image/png": "[encoded data removed]",
      "text/plain": [
       "<Figure size 432x288 with 1 Axes>"
      ]
     },
     "metadata": {
      "needs_background": "light"
     },
     "output_type": "display_data"
    }
   ],
   "source": [
    "nan_count['Count'] = weather_data_Jan_2022.isna().sum()\n",
    "nan_count.plot(kind=\"bar\")\n",
    "plt.xlabel('Different Attributes of the Dataset') \n",
    "plt.ylabel('Count') \n",
    "plt.title(\"Number of Missing values in attributes after Column Selection\")"
   ]
  },
  {
   "cell_type": "code",
   "execution_count": 146,
   "id": "e85427e3",
   "metadata": {},
   "outputs": [],
   "source": [
    "# save the data\n",
    "output_dir = \"D:/2_MS_in_DS/2nd_Semester/Machine_Learning/Project/Data/Weather_Data/\"\n",
    "weather_data_Jan_2022.to_csv(output_dir+\"weather_data_Jan_2022_cleaned.csv\")"
   ]
  }
 ],
 "metadata": {
  "direction": "ltr",
  "kernelspec": {
   "display_name": "Python 3 (ipykernel)",
   "language": "python",
   "name": "python3"
  },
  "language_info": {
   "codemirror_mode": {
    "name": "ipython",
    "version": 3
   },
   "file_extension": ".py",
   "mimetype": "text/x-python",
   "name": "python",
   "nbconvert_exporter": "python",
   "pygments_lexer": "ipython3",
   "version": "3.9.12"
  }
 },
 "nbformat": 4,
 "nbformat_minor": 5
}
